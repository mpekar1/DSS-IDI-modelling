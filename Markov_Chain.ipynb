{
  "nbformat": 4,
  "nbformat_minor": 0,
  "metadata": {
    "colab": {
      "provenance": [],
      "gpuType": "V28",
      "authorship_tag": "ABX9TyNvYpVOmcxTbX02GMjyTxuN",
      "include_colab_link": true
    },
    "kernelspec": {
      "name": "ir",
      "display_name": "R"
    },
    "language_info": {
      "name": "R"
    },
    "accelerator": "TPU"
  },
  "cells": [
    {
      "cell_type": "markdown",
      "metadata": {
        "id": "view-in-github",
        "colab_type": "text"
      },
      "source": [
        "<a href=\"https://colab.research.google.com/github/mpekar1/DSS-IDI-modelling/blob/main/Markov_Chain.ipynb\" target=\"_parent\"><img src=\"https://colab.research.google.com/assets/colab-badge.svg\" alt=\"Open In Colab\"/></a>"
      ]
    },
    {
      "cell_type": "markdown",
      "source": [
        "# Markov Chain Modelling\n",
        "\n",
        "**Objective:**\n",
        "Analyse trends among individuals ceasing to receive DSS services and model the transition probabilities across different states influenced by various factors, including age transitions around 18-20 years."
      ],
      "metadata": {
        "id": "DhyIMSmw0HmB"
      }
    },
    {
      "cell_type": "markdown",
      "source": [
        "## Resources\n",
        "\n",
        "Emmanuel F. Drabo and William V. Padula, Introduction to Markov modeling In: Handbook of Applied Health Economics in\n",
        "Vaccines. Edited by: David Bishai, Logan Brenzel and William V. Padula, Oxford University Press. © Oxford University Press 2023.\n",
        "DOI: 10.1093/oso/9780192896087.003.0022\n",
        "https://academic.oup.com/book/45888/chapter/401430223\n",
        "\n",
        "\n",
        "http://cran.nexr.com/web/packages/markovchain/vignettes/markovchainCrashIntro.pdf\n",
        "\n",
        "https://www.datacamp.com/tutorial/markov-chain-analysis-r\n",
        "\n",
        "https://www.datacamp.com/tutorial/markov-chains-python-tutorial\n",
        "\n",
        "https://setosa.io/ev/markov-chains/\n",
        "\n",
        "https://cran.r-project.org/web/packages/markovchain/markovchain.pdf\n"
      ],
      "metadata": {
        "id": "sYKPvnfo9908"
      }
    },
    {
      "cell_type": "markdown",
      "source": [
        "## Some important considerations\n",
        "\n",
        "#### Assumptions:\n",
        "* All following states are independent of all past states. This memoryless property of Markov models is a limitation.\n",
        "* States must be mutually exclusive and exhaustive.\n",
        "* Each transition between any two states has a transition probability.\n",
        "* Transitions occur over a period, called a cycle.\n",
        "* It is possible to have a state, $s′$ , from which individuals cannot move out once they enter. If such a state exists, it is called an absorbing state.\n",
        "\n",
        "#### How to choose the appropriate cycle length?\n",
        "*  The cycle length, that is, the minimum time people spend in a state, is a convenient way to measure duration of stay (Drabo et al., 2023).\n",
        "\n",
        "#### Adding benefits and costs\n",
        "*  A cost and outcome (e.g., natural unit, utility) must be assigned to each state.\n",
        "*  Methods of evaluation of the alternative strategies, such as cost-effectiveness analysis, must be predefined."
      ],
      "metadata": {
        "id": "oAa3dEAcJLFs"
      }
    },
    {
      "cell_type": "markdown",
      "source": [
        "## Input data created by the original codes producing descriptive statistics of the population\n",
        "\n",
        "**Data Tables Explanation**\n",
        "1. Descriptive Data Table: **[IDI_Sandpit].[DL-MAA2023-41].[202306_output1_descriptives]**\n",
        "This table provides a snapshot of DSS clients for the year 2021, focusing on their demographic profiles and current status within DSS services. Each record includes:\n",
        "\n",
        "*   snz_uid: Unique identifier for each client.\n",
        "*   age_group: Age category of the client.\n",
        "*   need_band_number and need_band_desc: Numerical and descriptive\n",
        "*   categorisations of the client's needs\n",
        "*   gender: Client's gender.\n",
        "*   disability_allowance: Indicates if the client receives a disability allowance (1 for yes, 0 for no).\n",
        "*   education_level: The highest level of education attained.\n",
        "*   income_band: Income category.\n",
        "*   employment_status: Current employment status.\n",
        "*   benefit_reception: Indicates if the client is receiving any additional benefits (Yes or No).\n",
        "\n",
        "| snz_uid | age_group | need_band_number | need_band_desc | gender | disability_allowance | education_level | income_band | employment_status | benefit_reception |\n",
        "|---------|-----------|------------------|----------------|--------|----------------------|-----------------|-------------|-------------------|-------------------|\n",
        "| 001     | 19-44     | 5                | 05-19          | Male   | 1                    | University      | High        | Employed          | Yes               |\n",
        "| 002     | 45-64     | 20               | 20-39          | Female | 0                    | High School     | Medium      | Unemployed        | Yes               |\n",
        "| 003     | 3-18      | 0                | Zero           | Female | 0                    | None            | Low         | N/A               | No                |\n",
        "| 004     | 65+       | 80               | 80-99          | Male   | 1                    | College         | Low         | Retired           | No                |\n",
        "| 005     | 19-44     | 1                | 01-04          | Female | 1                    | High School     | Medium      | Employed          | No                |\n",
        "\n",
        "\n",
        "2.  Service Engagement Data Table: **[IDI_Sandpit].[DL-MAA2023-41].[202306_sample_input]**\n",
        "This table contains entries for client engagements with DSS services:\n",
        "\n",
        "*   snz_uid: Unique identifier for each client linked to the descriptive data.\n",
        "*   age, gender, ethnicity: Demographic details.\n",
        "*   disability_type: Type of disability the client has.\n",
        "*   service_type: The type of DSS service the client is receiving.\n",
        "*   entry_date and exit_date: Dates marking the start and potential end of service engagement.\n",
        "*   status: Current status of the service engagement (Active, Exited).\n",
        "\n",
        "| snz_uid | age | gender | ethnicity | disability_type  | service_type       | entry_date | exit_date | status |\n",
        "|---------|-----|--------|-----------|------------------|--------------------|------------|-----------|--------|\n",
        "| 001     | 34  | M      | European  | Cerebral Palsy   | Home Care          | 2018-01-01 | NULL      | Active |\n",
        "| 002     | 22  | F      | Maori     | Autism           | Community Support  | 2017-06-01 | 2019-03-01| Exited |\n"
      ],
      "metadata": {
        "id": "G2CxtTR60qBw"
      }
    },
    {
      "cell_type": "markdown",
      "source": [
        "## Data Preparation for Markov Chain Modelling\n",
        "To prepare the data for Markov Chain Modelling, we need to consolidate and reformat the existing datasets to capture transitions between states (services) over time. This involves creating a new dataset that tracks changes in service status, type, and personal demographics year by year. The dataset will look like this:\n",
        "\n",
        "Markov Chain Modelling Input Data Table\n",
        "*   snz_uid: Unique identifier for each client.\n",
        "*   year: The year of the record.\n",
        "*   age: Client's age at the time of the record.\n",
        "*   gender: Client's gender.\n",
        "*   ethnicity: Client's ethnicity.\n",
        "*   service_type: Type of service the client was receiving. However, in Markov Chain Modelling, these states are mutually exclusive and exhaustive and so each individual represented in the model can be in one and only one of these disease states at any given time.\n",
        "*   entry_date and exit_date: Dates of service engagement.\n",
        "*   reason_for_exit: Reason for service discontinuation (if applicable).\n",
        "*   status: Status of the client in the DSS system (Active, Exited).\n",
        "\n",
        "| snz_uid | year | age | gender | ethnicity | service_type        | entry_date  | exit_date  | reason_for_exit     | status  |\n",
        "|---------|------|-----|--------|-----------|---------------------|-------------|------------|---------------------|---------|\n",
        "| 001     | 2007 | 34  | M      | European  | Home Care           | 2007-01-05  | 2009-12-15 | Graduated           | Exited  |\n",
        "| 002     | 2008 | 22  | F      | Maori     | Community Support   | 2008-06-10  | NULL       | NULL                | Active  |\n",
        "| 003     | 2007 | 29  | M      | Pacific   | Job Training        | 2007-02-20  | 2008-03-01 | Job Found           | Exited  |\n",
        "| 004     | 2009 | 18  | F      | Asian     | Education           | 2009-05-15  | 2013-06-30 | Graduated           | Exited  |\n",
        "| 005     | 2010 | 45  | F      | European  | Rehabilitation      | 2010-09-01  | 2012-11-20 | Health Improvement  | Exited  |\n"
      ],
      "metadata": {
        "id": "vxLDzGt-1P_q"
      }
    },
    {
      "cell_type": "markdown",
      "source": [
        "## Initial Assumptions\n",
        "\n",
        "### Population\n",
        "This is a cohort model, i.e. it represents the experience of a simulated cohort, i.e. clients who receive (or do not receive) DSS in a certain perido of time.\n",
        "\n",
        "### States in the Markov Model\n",
        "To effectively model transitions between the states using a Markov Chain, we first need to clearly define each state, establish the conditions for transitions between them, and then collect the appropriate data to calculate the transition probabilities. Here's how we might set up your model with these states:\n",
        "\n",
        "\n",
        "1. Different DSS Services:\n",
        "*   Home\n",
        "*   Flexible funding\n",
        "*   Facility-based support\n",
        "*   Early investment\n",
        "2. Employment Status (categorised by plausible and meaningful income bands):\n",
        "*   No income\n",
        "*   0-50% of minimum wage\n",
        "*   50-100% of minimum wage\n",
        "*   100% of minimum wage to average wage\n",
        "*   Above average wage\n",
        "3. Main Benefits:\n",
        "*   Job seeker\n",
        "*   Parental\n",
        "*   Sickness\n",
        "4. Supplementary Benefit\n",
        "5. In Education\n",
        "6. In Healthcare Facility (hospitalized)\n",
        "7. In Prison\n",
        "8. Deceased (Terminal state with no outgoing transitions)\n",
        "9. Overseas\n",
        "10. None of the Above\n",
        "\n",
        "\n"
      ],
      "metadata": {
        "id": "abbVxQXl14E9"
      }
    },
    {
      "cell_type": "code",
      "source": [
        "# Load necessary libraries\n",
        "library(dplyr)\n",
        "library(lubridate)\n",
        "\n",
        "# Expanded example data frame\n",
        "data <- data.frame(\n",
        "  snz_uid = c(\"001\", \"002\", \"003\", \"004\", \"005\", \"006\", \"007\", \"008\", \"009\", \"010\", \"011\", \"012\", \"013\", \"014\", \"015\"),\n",
        "  year = c(2007, 2008, 2007, 2009, 2010, 2007, 2008, 2007, 2009, 2010, 2007, 2008, 2007, 2009, 2010),\n",
        "  service_type = c(\"Home Care\", \"Community Support\", \"Job Training\", \"Education\", \"Rehabilitation\",\n",
        "                   \"Home Care\", \"Community Support\", \"Job Training\", \"Education\", \"Rehabilitation\",\n",
        "                   \"Home Care\", \"Community Support\", \"Job Training\", \"Education\", \"Rehabilitation\"),\n",
        "  entry_date = c(\"2007-01-05\", \"2008-06-10\", \"2007-02-20\", \"2009-05-15\", \"2010-09-01\",\n",
        "                 \"2007-03-05\", \"2008-07-10\", \"2007-04-20\", \"2009-06-15\", \"2010-10-01\",\n",
        "                 \"2007-02-01\", \"2008-08-10\", \"2007-05-20\", \"2009-07-15\", \"2010-11-01\"),\n",
        "  exit_date = c(\"2009-12-15\", NA, \"2008-03-01\", \"2013-06-30\", \"2012-11-20\",\n",
        "                \"2009-11-15\", NA, \"2008-02-01\", \"2013-05-30\", \"2012-10-20\",\n",
        "                \"2009-10-15\", NA, \"2008-01-01\", \"2013-04-30\", \"2012-09-20\"),\n",
        "  status = c(\"Exited\", \"Active\", \"Exited\", \"Exited\", \"Exited\",\n",
        "             \"Exited\", \"Active\", \"Exited\", \"Exited\", \"Exited\",\n",
        "             \"Exited\", \"Active\", \"Exited\", \"Exited\", \"Exited\"),\n",
        "  ethnicity = c(\"European\", \"Maori\", \"Pacific\", \"Asian\", \"European\",\n",
        "                \"Maori\", \"Pacific\", \"European\", \"Asian\", \"Maori\",\n",
        "                \"Pacific\", \"European\", \"Asian\", \"Maori\", \"Pacific\")\n",
        ")\n",
        "\n",
        "# Convert date columns to Date type\n",
        "data$entry_date <- as.Date(data$entry_date)\n",
        "data$exit_date <- as.Date(data$exit_date, tryFormats = c(\"%Y-%m-%d\", NA))\n",
        "\n",
        "# Define transitions based on service type and status\n",
        "data <- data %>%\n",
        "  mutate(\n",
        "    next_service = lead(service_type, default = \"End of Data\"),\n",
        "    transition = paste(service_type, next_service, sep = \" to \")\n",
        "  )\n",
        "\n",
        "# Display the dataset to see the new columns\n",
        "print(data)\n",
        "\n"
      ],
      "metadata": {
        "colab": {
          "base_uri": "https://localhost:8080/"
        },
        "id": "F7iIAD3d04M9",
        "outputId": "8684817c-2228-4b09-8af7-b8ac95bee6dd"
      },
      "execution_count": 1,
      "outputs": [
        {
          "output_type": "stream",
          "name": "stderr",
          "text": [
            "\n",
            "Attaching package: ‘dplyr’\n",
            "\n",
            "\n",
            "The following objects are masked from ‘package:stats’:\n",
            "\n",
            "    filter, lag\n",
            "\n",
            "\n",
            "The following objects are masked from ‘package:base’:\n",
            "\n",
            "    intersect, setdiff, setequal, union\n",
            "\n",
            "\n",
            "\n",
            "Attaching package: ‘lubridate’\n",
            "\n",
            "\n",
            "The following objects are masked from ‘package:base’:\n",
            "\n",
            "    date, intersect, setdiff, union\n",
            "\n",
            "\n"
          ]
        },
        {
          "output_type": "stream",
          "name": "stdout",
          "text": [
            "   snz_uid year      service_type entry_date  exit_date status ethnicity\n",
            "1      001 2007         Home Care 2007-01-05 2009-12-15 Exited  European\n",
            "2      002 2008 Community Support 2008-06-10       <NA> Active     Maori\n",
            "3      003 2007      Job Training 2007-02-20 2008-03-01 Exited   Pacific\n",
            "4      004 2009         Education 2009-05-15 2013-06-30 Exited     Asian\n",
            "5      005 2010    Rehabilitation 2010-09-01 2012-11-20 Exited  European\n",
            "6      006 2007         Home Care 2007-03-05 2009-11-15 Exited     Maori\n",
            "7      007 2008 Community Support 2008-07-10       <NA> Active   Pacific\n",
            "8      008 2007      Job Training 2007-04-20 2008-02-01 Exited  European\n",
            "9      009 2009         Education 2009-06-15 2013-05-30 Exited     Asian\n",
            "10     010 2010    Rehabilitation 2010-10-01 2012-10-20 Exited     Maori\n",
            "11     011 2007         Home Care 2007-02-01 2009-10-15 Exited   Pacific\n",
            "12     012 2008 Community Support 2008-08-10       <NA> Active  European\n",
            "13     013 2007      Job Training 2007-05-20 2008-01-01 Exited     Asian\n",
            "14     014 2009         Education 2009-07-15 2013-04-30 Exited     Maori\n",
            "15     015 2010    Rehabilitation 2010-11-01 2012-09-20 Exited   Pacific\n",
            "        next_service                        transition\n",
            "1  Community Support    Home Care to Community Support\n",
            "2       Job Training Community Support to Job Training\n",
            "3          Education         Job Training to Education\n",
            "4     Rehabilitation       Education to Rehabilitation\n",
            "5          Home Care       Rehabilitation to Home Care\n",
            "6  Community Support    Home Care to Community Support\n",
            "7       Job Training Community Support to Job Training\n",
            "8          Education         Job Training to Education\n",
            "9     Rehabilitation       Education to Rehabilitation\n",
            "10         Home Care       Rehabilitation to Home Care\n",
            "11 Community Support    Home Care to Community Support\n",
            "12      Job Training Community Support to Job Training\n",
            "13         Education         Job Training to Education\n",
            "14    Rehabilitation       Education to Rehabilitation\n",
            "15       End of Data     Rehabilitation to End of Data\n"
          ]
        }
      ]
    },
    {
      "cell_type": "code",
      "source": [
        "# Create a transition matrix from this data\n",
        "transition_matrix <- table(data$service_type, data$next_service)\n",
        "\n",
        "# Print transition matrix with more digits\n",
        "print(format(transition_matrix, digits = 4))\n",
        "\n",
        "# Note: Replace \"lead(service_type, default = \"End of Data\")\" with appropriate logic\n",
        "# to match research requirements and data structure.\n"
      ],
      "metadata": {
        "colab": {
          "base_uri": "https://localhost:8080/"
        },
        "id": "TfddEZuK8rcp",
        "outputId": "194c48fa-1c65-4b19-9ac7-cbd8c4c8fd71"
      },
      "execution_count": 2,
      "outputs": [
        {
          "output_type": "stream",
          "name": "stdout",
          "text": [
            "                   \n",
            "                    Community Support Education End of Data Home Care\n",
            "  Community Support \"0\"               \"0\"       \"0\"         \"0\"      \n",
            "  Education         \"0\"               \"0\"       \"0\"         \"0\"      \n",
            "  Home Care         \"3\"               \"0\"       \"0\"         \"0\"      \n",
            "  Job Training      \"0\"               \"3\"       \"0\"         \"0\"      \n",
            "  Rehabilitation    \"0\"               \"0\"       \"1\"         \"2\"      \n",
            "                   \n",
            "                    Job Training Rehabilitation\n",
            "  Community Support \"3\"          \"0\"           \n",
            "  Education         \"0\"          \"3\"           \n",
            "  Home Care         \"0\"          \"0\"           \n",
            "  Job Training      \"0\"          \"0\"           \n",
            "  Rehabilitation    \"0\"          \"0\"           \n"
          ]
        }
      ]
    },
    {
      "cell_type": "markdown",
      "source": [
        "Based on the matrix provided:\n",
        "\n",
        "Community Support to Job Training: 3 transitions\n",
        "Education to Rehabilitation: 3 transitions\n",
        "Rehabilitation to Home Care: 2 transitions\n",
        "Rehabilitation to End of Data: 1 transition\n"
      ],
      "metadata": {
        "id": "EfIi43K49j0q"
      }
    },
    {
      "cell_type": "code",
      "source": [
        "# Assuming data has columns 'service_type' and 'next_service'\n",
        "# Create a transition matrix from this data\n",
        "transition_matrix <- table(data$service_type, data$next_service)\n",
        "\n",
        "# Add row totals to the transition matrix\n",
        "transition_matrix <- cbind(transition_matrix, rowSums(transition_matrix))\n",
        "colnames(transition_matrix)[ncol(transition_matrix)] <- \"Total Out\"\n",
        "\n",
        "# Add column totals to the transition matrix\n",
        "transition_matrix <- rbind(transition_matrix, colSums(transition_matrix))\n",
        "rownames(transition_matrix)[nrow(transition_matrix)] <- \"Total In\"\n",
        "\n",
        "# Calculate transition probabilities as percentages\n",
        "transition_probabilities <- transition_matrix[1:(nrow(transition_matrix) - 1), 1:(ncol(transition_matrix) - 1)] /\n",
        "                            rowSums(transition_matrix[1:(nrow(transition_matrix) - 1), 1:(ncol(transition_matrix) - 1)])\n",
        "\n",
        "# Replace NA values with zeros (where division by zero occurs)\n",
        "transition_probabilities[is.na(transition_probabilities)] <- 0\n",
        "\n",
        "# Convert to percentages for clarity\n",
        "transition_probabilities <- round(transition_probabilities * 100, 2)\n",
        "\n",
        "# Print matrices\n",
        "print(\"Transition Counts (with totals):\")\n",
        "print(transition_matrix)\n",
        "\n",
        "print(\"Transition Probabilities (%):\")\n",
        "print(transition_probabilities)\n"
      ],
      "metadata": {
        "colab": {
          "base_uri": "https://localhost:8080/"
        },
        "id": "WVfhLqEV-OlG",
        "outputId": "2b74a350-83b2-4e06-ef60-40f1449ef7bb"
      },
      "execution_count": 3,
      "outputs": [
        {
          "output_type": "stream",
          "name": "stdout",
          "text": [
            "[1] \"Transition Counts (with totals):\"\n",
            "                  Community Support Education End of Data Home Care\n",
            "Community Support                 0         0           0         0\n",
            "Education                         0         0           0         0\n",
            "Home Care                         3         0           0         0\n",
            "Job Training                      0         3           0         0\n",
            "Rehabilitation                    0         0           1         2\n",
            "Total In                          3         3           1         2\n",
            "                  Job Training Rehabilitation Total Out\n",
            "Community Support            3              0         3\n",
            "Education                    0              3         3\n",
            "Home Care                    0              0         3\n",
            "Job Training                 0              0         3\n",
            "Rehabilitation               0              0         3\n",
            "Total In                     3              3        15\n",
            "[1] \"Transition Probabilities (%):\"\n",
            "                  Community Support Education End of Data Home Care\n",
            "Community Support                 0         0        0.00      0.00\n",
            "Education                         0         0        0.00      0.00\n",
            "Home Care                       100         0        0.00      0.00\n",
            "Job Training                      0       100        0.00      0.00\n",
            "Rehabilitation                    0         0       33.33     66.67\n",
            "                  Job Training Rehabilitation\n",
            "Community Support          100              0\n",
            "Education                    0            100\n",
            "Home Care                    0              0\n",
            "Job Training                 0              0\n",
            "Rehabilitation               0              0\n"
          ]
        }
      ]
    },
    {
      "cell_type": "markdown",
      "source": [
        "Transition Probabilities (%):\n",
        "This matrix converts the absolute counts into probabilities (or percentages) that help understand the likelihood of transitioning from one state to another.\n",
        "\n",
        "Values represent the percentage probability of moving from the row state to the column state.\n",
        "For example, 100% of individuals in Home Care transitioned away from Home Care, with none staying or moving to other states listed.\n",
        "In Rehabilitation, 33.33% led to an \"End of Data\" state, and 66.67% transitioned back to Home Care, indicating a high likelihood of returning to initial care after Rehabilitation."
      ],
      "metadata": {
        "id": "En8RDhB6_U1D"
      }
    },
    {
      "cell_type": "markdown",
      "source": [
        "## Model Initialisation and Simulation:\n",
        "Initiate the Markov Model: Start the Markov chain model using the initial state distribution based on the most recent data available. This involves setting up the initial probabilities of each state based on the data.\n",
        "Run Simulations: Use the transition probabilities to simulate the movement of individuals through different states over multiple time periods. This simulation can extend several years into the future to observe long-term trends and potential impacts of current policies."
      ],
      "metadata": {
        "id": "KD_rxtoBIjSh"
      }
    },
    {
      "cell_type": "code",
      "source": [
        "# Initialise the Markov Model\n",
        "\n",
        "\n",
        "# Create a transition matrix from this data\n",
        "transition_matrix <- table(data$service_type, data$next_service)\n",
        "\n",
        "# Add row totals to the transition matrix for outgoing states\n",
        "transition_matrix <- cbind(transition_matrix, rowSums(transition_matrix))\n",
        "colnames(transition_matrix)[ncol(transition_matrix)] <- \"Total Out\"\n",
        "\n",
        "# Add column totals to the transition matrix for incoming states\n",
        "transition_matrix <- rbind(transition_matrix, colSums(transition_matrix))\n",
        "rownames(transition_matrix)[nrow(transition_matrix)] <- \"Total In\"\n",
        "\n",
        "# Calculate transition probabilities as percentages\n",
        "transition_probabilities <- sweep(transition_matrix[1:nrow(transition_matrix) - 1, 1:ncol(transition_matrix) - 1], 1,\n",
        "                                  rowSums(transition_matrix[1:nrow(transition_matrix) - 1, 1:ncol(transition_matrix) - 1]), \"/\") * 100\n",
        "transition_probabilities[is.na(transition_probabilities)] <- 0  # Replace NA with zero\n",
        "\n",
        "# Print transition matrices\n",
        "print(\"Transition Counts (with totals):\")\n",
        "print(transition_matrix)\n",
        "\n",
        "print(\"Transition Probabilities (%):\")\n",
        "print(transition_probabilities)\n",
        "\n"
      ],
      "metadata": {
        "colab": {
          "base_uri": "https://localhost:8080/"
        },
        "id": "m4wEeNjrJDye",
        "outputId": "016ac24e-6a23-4bcb-e106-1928f4872641"
      },
      "execution_count": 4,
      "outputs": [
        {
          "output_type": "stream",
          "name": "stdout",
          "text": [
            "[1] \"Transition Counts (with totals):\"\n",
            "                  Community Support Education End of Data Home Care\n",
            "Community Support                 0         0           0         0\n",
            "Education                         0         0           0         0\n",
            "Home Care                         3         0           0         0\n",
            "Job Training                      0         3           0         0\n",
            "Rehabilitation                    0         0           1         2\n",
            "Total In                          3         3           1         2\n",
            "                  Job Training Rehabilitation Total Out\n",
            "Community Support            3              0         3\n",
            "Education                    0              3         3\n",
            "Home Care                    0              0         3\n",
            "Job Training                 0              0         3\n",
            "Rehabilitation               0              0         3\n",
            "Total In                     3              3        15\n",
            "[1] \"Transition Probabilities (%):\"\n",
            "                  Community Support Education End of Data Home Care\n",
            "Community Support                 0         0     0.00000   0.00000\n",
            "Education                         0         0     0.00000   0.00000\n",
            "Home Care                       100         0     0.00000   0.00000\n",
            "Job Training                      0       100     0.00000   0.00000\n",
            "Rehabilitation                    0         0    33.33333  66.66667\n",
            "                  Job Training Rehabilitation\n",
            "Community Support          100              0\n",
            "Education                    0            100\n",
            "Home Care                    0              0\n",
            "Job Training                 0              0\n",
            "Rehabilitation               0              0\n"
          ]
        }
      ]
    },
    {
      "cell_type": "code",
      "source": [
        "# Calculate transition counts\n",
        "transition_counts <- table(data$service_type, data$next_service)\n",
        "\n",
        "# Convert counts to a matrix for further operations\n",
        "transition_matrix <- as.matrix(transition_counts)\n",
        "\n",
        "# Assign state names\n",
        "states <- rownames(transition_matrix)\n",
        "\n",
        "# Print transition counts matrix\n",
        "print(\"Transition Counts Matrix:\")\n",
        "print(transition_matrix)"
      ],
      "metadata": {
        "colab": {
          "base_uri": "https://localhost:8080/"
        },
        "id": "2Tlp8D9s5Yx-",
        "outputId": "e8761278-5bb7-442d-86cd-4be533cf389f"
      },
      "execution_count": 5,
      "outputs": [
        {
          "output_type": "stream",
          "name": "stdout",
          "text": [
            "[1] \"Transition Counts Matrix:\"\n",
            "                   \n",
            "                    Community Support Education End of Data Home Care\n",
            "  Community Support                 0         0           0         0\n",
            "  Education                         0         0           0         0\n",
            "  Home Care                         3         0           0         0\n",
            "  Job Training                      0         3           0         0\n",
            "  Rehabilitation                    0         0           1         2\n",
            "                   \n",
            "                    Job Training Rehabilitation\n",
            "  Community Support            3              0\n",
            "  Education                    0              3\n",
            "  Home Care                    0              0\n",
            "  Job Training                 0              0\n",
            "  Rehabilitation               0              0\n"
          ]
        }
      ]
    },
    {
      "cell_type": "code",
      "source": [
        "# Define all possible states\n",
        "all_states <- unique(c(data$service_type, data$next_service))\n",
        "\n",
        "# Create a transition matrix with all states ensuring a square matrix\n",
        "transition_matrix <- table(factor(data$service_type, levels = all_states),\n",
        "                           factor(data$next_service, levels = all_states))\n",
        "\n",
        "# Print the complete transition matrix\n",
        "print(\"Complete Transition Matrix:\")\n",
        "print(transition_matrix)\n"
      ],
      "metadata": {
        "colab": {
          "base_uri": "https://localhost:8080/"
        },
        "id": "F58xixBh688W",
        "outputId": "f838c9d7-4122-40e6-c765-d7fcf3892fae"
      },
      "execution_count": 6,
      "outputs": [
        {
          "output_type": "stream",
          "name": "stdout",
          "text": [
            "[1] \"Complete Transition Matrix:\"\n",
            "                   \n",
            "                    Home Care Community Support Job Training Education\n",
            "  Home Care                 0                 3            0         0\n",
            "  Community Support         0                 0            3         0\n",
            "  Job Training              0                 0            0         3\n",
            "  Education                 0                 0            0         0\n",
            "  Rehabilitation            2                 0            0         0\n",
            "  End of Data               0                 0            0         0\n",
            "                   \n",
            "                    Rehabilitation End of Data\n",
            "  Home Care                      0           0\n",
            "  Community Support              0           0\n",
            "  Job Training                   0           0\n",
            "  Education                      3           0\n",
            "  Rehabilitation                 0           1\n",
            "  End of Data                    0           0\n"
          ]
        }
      ]
    },
    {
      "cell_type": "code",
      "source": [
        "# Convert counts to probabilities\n",
        "\n",
        "# Normalise the transition matrix to create probabilities\n",
        "transition_probabilities <- sweep(transition_matrix, 1, rowSums(transition_matrix), FUN=\"/\")\n",
        "\n",
        "# Replace NaN with 0 where division by zero occurs\n",
        "transition_probabilities[is.na(transition_probabilities)] <- 0\n",
        "\n",
        "# Check the probabilities matrix\n",
        "print(\"Transition Probabilities Matrix:\")\n",
        "print(transition_probabilities)\n",
        "\n"
      ],
      "metadata": {
        "colab": {
          "base_uri": "https://localhost:8080/"
        },
        "id": "X9SSWGUB5jXX",
        "outputId": "c81b2673-75c2-4ee3-8643-1a7955ff9fb1"
      },
      "execution_count": 7,
      "outputs": [
        {
          "output_type": "stream",
          "name": "stdout",
          "text": [
            "[1] \"Transition Probabilities Matrix:\"\n",
            "                   \n",
            "                    Home Care Community Support Job Training Education\n",
            "  Home Care         0.0000000         1.0000000    0.0000000 0.0000000\n",
            "  Community Support 0.0000000         0.0000000    1.0000000 0.0000000\n",
            "  Job Training      0.0000000         0.0000000    0.0000000 1.0000000\n",
            "  Education         0.0000000         0.0000000    0.0000000 0.0000000\n",
            "  Rehabilitation    0.6666667         0.0000000    0.0000000 0.0000000\n",
            "  End of Data       0.0000000         0.0000000    0.0000000 0.0000000\n",
            "                   \n",
            "                    Rehabilitation End of Data\n",
            "  Home Care              0.0000000   0.0000000\n",
            "  Community Support      0.0000000   0.0000000\n",
            "  Job Training           0.0000000   0.0000000\n",
            "  Education              1.0000000   0.0000000\n",
            "  Rehabilitation         0.0000000   0.3333333\n",
            "  End of Data            0.0000000   0.0000000\n"
          ]
        }
      ]
    },
    {
      "cell_type": "markdown",
      "source": [
        "### Simulate the Markov Chain"
      ],
      "metadata": {
        "id": "n9sB-HU4KgRc"
      }
    },
    {
      "cell_type": "code",
      "source": [
        "# Install the markovchain package if it's not already installed\n",
        "if (!require(markovchain)) {\n",
        "  install.packages(\"markovchain\", dependencies = TRUE)\n",
        "}\n",
        "\n",
        "# Load the package\n",
        "library(markovchain)\n"
      ],
      "metadata": {
        "colab": {
          "base_uri": "https://localhost:8080/"
        },
        "id": "_LouvkdqNyiH",
        "outputId": "e7e3aefb-fc59-4937-8f17-c79ad736c756"
      },
      "execution_count": 8,
      "outputs": [
        {
          "output_type": "stream",
          "name": "stderr",
          "text": [
            "Loading required package: markovchain\n",
            "\n",
            "Warning message in library(package, lib.loc = lib.loc, character.only = TRUE, logical.return = TRUE, :\n",
            "“there is no package called ‘markovchain’”\n",
            "Installing package into ‘/usr/local/lib/R/site-library’\n",
            "(as ‘lib’ is unspecified)\n",
            "\n",
            "also installing the dependencies ‘shape’, ‘htmlwidgets’, ‘visNetwork’, ‘mvtnorm’, ‘truncnorm’, ‘coda’, ‘numDeriv’, ‘igraph’, ‘expm’, ‘Rcpp’, ‘RcppParallel’, ‘RcppArmadillo’, ‘diagram’, ‘DiagrammeR’, ‘msm’, ‘Rsolnp’, ‘ctmcd’, ‘bookdown’, ‘rticles’\n",
            "\n",
            "\n",
            "Package:  markovchain\n",
            "Version:  0.9.5\n",
            "Date:     2023-09-24 09:20:02 UTC\n",
            "BugReport: https://github.com/spedygiorgio/markovchain/issues\n",
            "\n",
            "\n",
            "\n",
            "Attaching package: ‘markovchain’\n",
            "\n",
            "\n",
            "The following object is masked from ‘package:lubridate’:\n",
            "\n",
            "    period\n",
            "\n",
            "\n"
          ]
        }
      ]
    },
    {
      "cell_type": "code",
      "source": [
        "# Force conversion of the table to a matrix\n",
        "transition_probabilities_matrix <- as.matrix(transition_probabilities)\n",
        "\n",
        "# Ensure that the result is indeed a matrix by setting the class explicitly\n",
        "class(transition_probabilities_matrix) <- \"matrix\"\n"
      ],
      "metadata": {
        "id": "wr0HlrAF8m6M"
      },
      "execution_count": 9,
      "outputs": []
    },
    {
      "cell_type": "code",
      "source": [
        "class(transition_probabilities_matrix)"
      ],
      "metadata": {
        "colab": {
          "base_uri": "https://localhost:8080/",
          "height": 34
        },
        "id": "o_bBn37u7uAx",
        "outputId": "d6f8e3d6-636c-4ab3-d3aa-9e2f39025c0c"
      },
      "execution_count": 10,
      "outputs": [
        {
          "output_type": "display_data",
          "data": {
            "text/html": [
              "<style>\n",
              ".list-inline {list-style: none; margin:0; padding: 0}\n",
              ".list-inline>li {display: inline-block}\n",
              ".list-inline>li:not(:last-child)::after {content: \"\\00b7\"; padding: 0 .5ex}\n",
              "</style>\n",
              "<ol class=list-inline><li>'matrix'</li><li>'array'</li></ol>\n"
            ],
            "text/markdown": "1. 'matrix'\n2. 'array'\n\n\n",
            "text/latex": "\\begin{enumerate*}\n\\item 'matrix'\n\\item 'array'\n\\end{enumerate*}\n",
            "text/plain": [
              "[1] \"matrix\" \"array\" "
            ]
          },
          "metadata": {}
        }
      ]
    },
    {
      "source": [
        "# Examine the structure and content of the matrix\n",
        "str(transition_probabilities_matrix)\n",
        "print(transition_probabilities_matrix)\n"
      ],
      "cell_type": "code",
      "metadata": {
        "colab": {
          "base_uri": "https://localhost:8080/"
        },
        "id": "dAmABMmU7cYd",
        "outputId": "39155eed-7665-4642-c8fb-167f47c66b16"
      },
      "execution_count": 11,
      "outputs": [
        {
          "output_type": "stream",
          "name": "stdout",
          "text": [
            " num [1:6, 1:6] 0 0 0 0 0.667 ...\n",
            " - attr(*, \"dimnames\")=List of 2\n",
            "  ..$ : chr [1:6] \"Home Care\" \"Community Support\" \"Job Training\" \"Education\" ...\n",
            "  ..$ : chr [1:6] \"Home Care\" \"Community Support\" \"Job Training\" \"Education\" ...\n",
            "                   \n",
            "                    Home Care Community Support Job Training Education\n",
            "  Home Care         0.0000000                 1            0         0\n",
            "  Community Support 0.0000000                 0            1         0\n",
            "  Job Training      0.0000000                 0            0         1\n",
            "  Education         0.0000000                 0            0         0\n",
            "  Rehabilitation    0.6666667                 0            0         0\n",
            "  End of Data       0.0000000                 0            0         0\n",
            "                   \n",
            "                    Rehabilitation End of Data\n",
            "  Home Care                      0   0.0000000\n",
            "  Community Support              0   0.0000000\n",
            "  Job Training                   0   0.0000000\n",
            "  Education                      1   0.0000000\n",
            "  Rehabilitation                 0   0.3333333\n",
            "  End of Data                    0   0.0000000\n"
          ]
        }
      ]
    },
    {
      "cell_type": "code",
      "source": [
        "# Adjust for absorbing state 'End of Data'\n",
        "if (is.nan(rowSums(transition_probabilities_matrix)[\"End of Data\"])) {\n",
        "  transition_probabilities_matrix[\"End of Data\",] <- 0\n",
        "  transition_probabilities_matrix[\"End of Data\",\"End of Data\"] <- 1\n",
        "}\n",
        "\n",
        "# Normalize the transition matrix again in case other rows are affected\n",
        "row_sums <- rowSums(transition_probabilities_matrix)\n",
        "transition_probabilities_matrix <- sweep(transition_probabilities_matrix, 1, row_sums, \"/\")\n",
        "\n",
        "# Check to make sure each row now sums to 1\n",
        "print(rowSums(transition_probabilities_matrix))  # should all be 1\n",
        "\n"
      ],
      "metadata": {
        "colab": {
          "base_uri": "https://localhost:8080/"
        },
        "id": "S2yXzgeR9XsN",
        "outputId": "9a7aebb0-5980-4a04-8ddc-eb8641cd0069"
      },
      "execution_count": 12,
      "outputs": [
        {
          "output_type": "stream",
          "name": "stdout",
          "text": [
            "        Home Care Community Support      Job Training         Education \n",
            "                1                 1                 1                 1 \n",
            "   Rehabilitation       End of Data \n",
            "                1               NaN \n"
          ]
        }
      ]
    },
    {
      "cell_type": "code",
      "source": [
        "\n",
        "# Recreate the Markov chain object with the normalized matrix\n",
        "mc <- new(\"markovchain\", states = colnames(transition_probabilities_matrix), byrow = TRUE,\n",
        "          transitionMatrix = transition_probabilities_matrix,\n",
        "          name = \"DSS Service Transition\")\n",
        "\n",
        "# Print the Markov chain to ensure it's correctly set up\n",
        "print(mc)"
      ],
      "metadata": {
        "id": "qdJ8RJNqATR-"
      },
      "execution_count": null,
      "outputs": []
    },
    {
      "cell_type": "markdown",
      "source": [
        "## Simulate the Markov Chain\n",
        "\n",
        "You can use the markovchain package to simulate the chain over multiple periods, which will provide insights into long-term state distributions and potential steady states.\n",
        "\n",
        "a. Set Up Simulation Parameters\n",
        "Decide how many time steps (periods) you want to simulate and how many paths (individual trajectories) you're interested in observing. For a comprehensive analysis, you might simulate several years into the future.\n",
        "\n",
        "b. Run the Simulation\n",
        "Use the rmarkovchain function from the markovchain package, which generates random states according to the transition probabilities."
      ],
      "metadata": {
        "id": "eec8gsvTFjBS"
      }
    },
    {
      "cell_type": "code",
      "source": [
        "# Assume 'mc' is your Markov chain object from previous steps\n",
        "num_periods <- 20  # Number of time periods to simulate\n",
        "num_simulations <- 1000  # Number of individual paths to simulate\n",
        "\n",
        "# Simulate the Markov chain\n",
        "simulations <- replicate(num_simulations, {\n",
        "  rmarkovchain(n = num_periods, object = mc, t0 = \"Home Care\")\n",
        "})"
      ],
      "metadata": {
        "id": "1XXedURDFo16"
      },
      "execution_count": null,
      "outputs": []
    },
    {
      "cell_type": "markdown",
      "source": [
        "### Analyse the Simulation Results\n",
        "\n",
        "State Distribution Over Time: Analyze how the distribution of states evolves over the simulation period. This will help in understanding how often individuals remain in specific services or transition to others.\n",
        "Identify Common Pathways: From the simulation, determine common pathways through the states, which can help identify typical or atypical service usage patterns."
      ],
      "metadata": {
        "id": "QOAIfJMSF448"
      }
    },
    {
      "cell_type": "code",
      "source": [
        "# Convert simulations into a more analysable structure\n",
        "simulations_df <- as.data.frame(t(simulations))\n",
        "\n",
        "# Calculate the frequency of states at each time step\n",
        "state_distribution <- apply(simulations_df, 2, function(column) {\n",
        "  prop.table(table(column))\n",
        "})\n",
        "\n",
        "# Convert to dataframe for plotting\n",
        "state_distribution_df <- as.data.frame(state_distribution)\n",
        "\n",
        "print(state_distribution_df)"
      ],
      "metadata": {
        "id": "Z_8WUELqFxX5"
      },
      "execution_count": null,
      "outputs": []
    },
    {
      "cell_type": "code",
      "source": [
        "# Create a clean and properly structured data frame\n",
        "state_distribution_df <- data.frame(Time = rep(1:num_periods, each = num_simulations),\n",
        "                                    State = as.vector(t(simulations)),\n",
        "                                    Simulation = rep(1:num_simulations, times = num_periods))\n",
        "\n",
        "# Calculate the proportion of each state at each time step\n",
        "library(dplyr)\n",
        "state_distribution_df <- state_distribution_df %>%\n",
        "  group_by(Time, State) %>%\n",
        "  summarise(Count = n(),\n",
        "            .groups = 'drop') %>%\n",
        "  mutate(Proportion = Count / num_simulations)\n",
        "\n",
        "# Check the structure\n",
        "print(head(state_distribution_df))\n"
      ],
      "metadata": {
        "id": "isTueLJvKF0K"
      },
      "execution_count": null,
      "outputs": []
    },
    {
      "cell_type": "markdown",
      "source": [
        "### Visualise the Results\n",
        "\n",
        "Time Series Plot: Visualize how the proportion of individuals in each state changes over time.\n",
        "Sankey Diagram: To visually represent the movement between states, a Sankey diagram can be very illustrative."
      ],
      "metadata": {
        "id": "cU3rQQfoFv8l"
      }
    },
    {
      "cell_type": "code",
      "source": [
        "# Install necessary packages if not already installed\n",
        "if (!require(\"ggplot2\")) install.packages(\"ggplot2\", dependencies = TRUE)\n",
        "if (!require(\"reshape2\")) install.packages(\"reshape2\", dependencies = TRUE)\n",
        "\n",
        "# Load the packages\n",
        "library(ggplot2)\n",
        "library(reshape2)\n"
      ],
      "metadata": {
        "id": "E4tbiqsAKLXt"
      },
      "execution_count": null,
      "outputs": []
    },
    {
      "cell_type": "code",
      "source": [
        "# Plotting  for better visual representation\n",
        "\n",
        "ggplot(state_distribution_df, aes(x = Time, y = Proportion, color = State, group = State)) +\n",
        "  geom_line(linewidth = 1.2) +  # Thicker line size for better visibility\n",
        "  scale_x_continuous(breaks = seq(min(state_distribution_df$Time), max(state_distribution_df$Time), by = 1)) +\n",
        "  scale_y_continuous(labels = scales::percent) +\n",
        "  labs(title = \"24 Step Chain Probability Prediction\",\n",
        "       x = \"Chain Step\",\n",
        "       y = \"Probability\",\n",
        "       color = \"Group\") +\n",
        "  theme_minimal() +\n",
        "  theme(legend.title = element_text(size = 12),  # Adjust legend title size\n",
        "        legend.text = element_text(size = 10))  # Adjust legend text size\n",
        "\n"
      ],
      "metadata": {
        "id": "Nuzjy8RpF9W-"
      },
      "execution_count": null,
      "outputs": []
    },
    {
      "cell_type": "markdown",
      "source": [
        "The graph shows the probabilities for individuals transitioning between different states (like Community Support, Education, Home Care, etc.) over a period of 20 steps.\n",
        "Each line represents a state, and the y-value at any point on that line represents the probability of an individual being in that state at that time step.\n",
        "For states with probabilities that increase suddenly (e.g., the green line for \"End of Data\"), it suggests that external factors or the inherent nature of transitions lead to sudden increases in these states.\n",
        "Declining lines indicate a decreasing likelihood of remaining in or transitioning to that state as time progresses."
      ],
      "metadata": {
        "id": "1W05AFf-F9H-"
      }
    },
    {
      "cell_type": "markdown",
      "source": [
        "### Calculating Probabilities After 20 Time Periods:\n",
        "\n",
        "We can use the transition matrix raised to the power of 20 to find the probabilities of being in each state after 20 periods, starting from a given initial state distribution.\n",
        "The process involves multiplying the transition matrix by itself 20 times (or using matrix exponentiation) and then applying the initial state distribution to this matrix."
      ],
      "metadata": {
        "id": "nC1dXBHgPzN7"
      }
    },
    {
      "cell_type": "code",
      "source": [
        "# Initial state distribution, example: equally likely to start in any state\n",
        "\n",
        "# Define the initial state distribution, for example, equally likely to start in any state\n",
        "initialState <- matrix(rep(1 / length(mc@states), length(mc@states)), nrow = 1)\n",
        "colnames(initialState) <- mc@states\n",
        "\n",
        "# Calculate the state distribution after 20 steps\n",
        "# Ensure the Markov chain power operation is handled correctly\n",
        "futureStateMatrix <- mc^20\n",
        "futureState <- initialState %*% futureStateMatrix@transitionMatrix\n",
        "\n",
        "# Print the probabilities\n",
        "print(futureState)"
      ],
      "metadata": {
        "id": "XK5lUEm9P9mX"
      },
      "execution_count": null,
      "outputs": []
    },
    {
      "source": [
        "print(class(initialState))\n",
        "print(class(mc))"
      ],
      "cell_type": "code",
      "metadata": {
        "id": "gWDEfKy2SLQS"
      },
      "execution_count": null,
      "outputs": []
    },
    {
      "cell_type": "code",
      "source": [
        " library(diagram)\n",
        "\n"
      ],
      "metadata": {
        "id": "bhMBuOjxVeII"
      },
      "execution_count": null,
      "outputs": []
    },
    {
      "cell_type": "code",
      "source": [
        "# Transpose the transition probability matrix\n",
        "\n",
        "tmc_matrix <- t(mc@transitionMatrix)\n",
        "\n",
        "print(tmc_matrix)"
      ],
      "metadata": {
        "colab": {
          "base_uri": "https://localhost:8080/"
        },
        "id": "_hpFPf0NVmCW",
        "outputId": "10192560-c781-4936-8f59-1c3c4c0d7486"
      },
      "execution_count": null,
      "outputs": [
        {
          "output_type": "stream",
          "name": "stdout",
          "text": [
            "                   \n",
            "                    Home Care Community Support Job Training Education\n",
            "  Home Care                 0                 0            0         0\n",
            "  Community Support         1                 0            0         0\n",
            "  Job Training              0                 1            0         0\n",
            "  Education                 0                 0            1         0\n",
            "  Rehabilitation            0                 0            0         1\n",
            "  End of Data               0                 0            0         0\n",
            "                   \n",
            "                    Rehabilitation End of Data\n",
            "  Home Care              0.6666667           0\n",
            "  Community Support      0.0000000           0\n",
            "  Job Training           0.0000000           0\n",
            "  Education              0.0000000           0\n",
            "  Rehabilitation         0.0000000           0\n",
            "  End of Data            0.3333333           1\n"
          ]
        }
      ]
    },
    {
      "cell_type": "code",
      "source": [
        "plotmat(tmc_matrix, arr.length=0.3, arr.width=0.15,\n",
        "box.col=\"green\", box.lwd=1, box.prop=0.5, box.size=0.1,\n",
        "box.type=\"circle\", cex.txt=0.85, lwd=1, self.cex=0.3,\n",
        "self.shiftx=0.01, self.shifty=0.09)\n",
        "\n"
      ],
      "metadata": {
        "colab": {
          "base_uri": "https://localhost:8080/",
          "height": 437
        },
        "id": "ZcGziIKiVjWR",
        "outputId": "4995ddcb-85f6-4d28-bde8-c7c04d7c7fc9"
      },
      "execution_count": null,
      "outputs": [
        {
          "output_type": "display_data",
          "data": {
            "text/plain": [
              "Plot with title “”"
            ],
            "image/png": "[encoded data removed]"
          },
          "metadata": {
            "image/png": {
              "width": 420,
              "height": 420
            }
          }
        }
      ]
    },
    {
      "cell_type": "code",
      "source": [
        "plotmat(tmc_matrix,relsize=0.7,box.col=c(\"white\",\"green\",\"yellow\", \"orange\"))"
      ],
      "metadata": {
        "id": "Xfy-zVN4ZHMB",
        "outputId": "d8fc3513-1380-4309-ac9c-bedd56dda12e",
        "colab": {
          "base_uri": "https://localhost:8080/",
          "height": 437
        }
      },
      "execution_count": null,
      "outputs": [
        {
          "output_type": "display_data",
          "data": {
            "text/plain": [
              "Plot with title “”"
            ],
            "image/png": "[encoded data removed]"
          },
          "metadata": {
            "image/png": {
              "width": 420,
              "height": 420
            }
          }
        }
      ]
    },
    {
      "cell_type": "code",
      "source": [
        "pp <- plotmat(tmc_matrix, curve = 0.2,\n",
        "              lwd = 1, box.lwd = 1, cex.txt = 0.8,\n",
        "               box.size = 0.07, box.type = \"none\",\n",
        "              box.prop = 0.01, main = \"State Diagram\")"
      ],
      "metadata": {
        "id": "OKWRrujhaCr0",
        "outputId": "9880e206-fe52-4ae8-a1e6-24c7d45e6de6",
        "colab": {
          "base_uri": "https://localhost:8080/",
          "height": 437
        }
      },
      "execution_count": null,
      "outputs": [
        {
          "output_type": "display_data",
          "data": {
            "text/plain": [
              "Plot with title “State Diagram”"
            ],
            "image/png": "[encoded data removed]"
          },
          "metadata": {
            "image/png": {
              "width": 420,
              "height": 420
            }
          }
        }
      ]
    }
  ]
}