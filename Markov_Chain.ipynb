{
  "nbformat": 4,
  "nbformat_minor": 0,
  "metadata": {
    "colab": {
      "provenance": [],
      "gpuType": "T4",
      "authorship_tag": "ABX9TyNvQc9ZyhPPcRlL9Va1W+1m",
      "include_colab_link": true
    },
    "kernelspec": {
      "name": "ir",
      "display_name": "R"
    },
    "language_info": {
      "name": "R"
    },
    "accelerator": "GPU"
  },
  "cells": [
    {
      "cell_type": "markdown",
      "metadata": {
        "id": "view-in-github",
        "colab_type": "text"
      },
      "source": [
        "<a href=\"https://colab.research.google.com/github/mpekar1/DSS-IDI-modelling/blob/main/Markov_Chain.ipynb\" target=\"_parent\"><img src=\"https://colab.research.google.com/assets/colab-badge.svg\" alt=\"Open In Colab\"/></a>"
      ]
    },
    {
      "cell_type": "markdown",
      "source": [
        "# Markov Chain Modelling\n",
        "\n",
        "**Objective:**\n",
        "Analyse trends among individuals ceasing to receive DSS services and model the transition probabilities across different states influenced by various factors, including age transitions around 18-20 years."
      ],
      "metadata": {
        "id": "DhyIMSmw0HmB"
      }
    },
    {
      "cell_type": "markdown",
      "source": [
        "## Resources\n",
        "\n",
        "Emmanuel F. Drabo and William V. Padula, Introduction to Markov modeling In: Handbook of Applied Health Economics in\n",
        "Vaccines. Edited by: David Bishai, Logan Brenzel and William V. Padula, Oxford University Press. © Oxford University Press 2023.\n",
        "DOI: 10.1093/oso/9780192896087.003.0022\n",
        "https://academic.oup.com/book/45888/chapter/401430223\n",
        "\n",
        "\n",
        "http://cran.nexr.com/web/packages/markovchain/vignettes/markovchainCrashIntro.pdf\n",
        "\n",
        "https://www.datacamp.com/tutorial/markov-chain-analysis-r"
      ],
      "metadata": {
        "id": "sYKPvnfo9908"
      }
    },
    {
      "cell_type": "markdown",
      "source": [
        "## Input data created by the original codes producing descriptive statistics of the population\n",
        "\n",
        "**Data Tables Explanation**\n",
        "1. Descriptive Data Table: **[IDI_Sandpit].[DL-MAA2023-41].[202306_output1_descriptives]**\n",
        "This table provides a snapshot of DSS clients for the year 2021, focusing on their demographic profiles and current status within DSS services. Each record includes:\n",
        "\n",
        "*   snz_uid: Unique identifier for each client.\n",
        "*   age_group: Age category of the client.\n",
        "*   need_band_number and need_band_desc: Numerical and descriptive\n",
        "*   categorisations of the client's needs\n",
        "*   gender: Client's gender.\n",
        "*   disability_allowance: Indicates if the client receives a disability allowance (1 for yes, 0 for no).\n",
        "*   education_level: The highest level of education attained.\n",
        "*   income_band: Income category.\n",
        "*   employment_status: Current employment status.\n",
        "*   benefit_reception: Indicates if the client is receiving any additional benefits (Yes or No).\n",
        "\n",
        "| snz_uid | age_group | need_band_number | need_band_desc | gender | disability_allowance | education_level | income_band | employment_status | benefit_reception |\n",
        "|---------|-----------|------------------|----------------|--------|----------------------|-----------------|-------------|-------------------|-------------------|\n",
        "| 001     | 19-44     | 5                | 05-19          | Male   | 1                    | University      | High        | Employed          | Yes               |\n",
        "| 002     | 45-64     | 20               | 20-39          | Female | 0                    | High School     | Medium      | Unemployed        | Yes               |\n",
        "| 003     | 3-18      | 0                | Zero           | Female | 0                    | None            | Low         | N/A               | No                |\n",
        "| 004     | 65+       | 80               | 80-99          | Male   | 1                    | College         | Low         | Retired           | No                |\n",
        "| 005     | 19-44     | 1                | 01-04          | Female | 1                    | High School     | Medium      | Employed          | No                |\n",
        "\n",
        "\n",
        "2.  Service Engagement Data Table: **[IDI_Sandpit].[DL-MAA2023-41].[202306_sample_input]**\n",
        "This table contains entries for client engagements with DSS services:\n",
        "\n",
        "*   snz_uid: Unique identifier for each client linked to the descriptive data.\n",
        "*   age, gender, ethnicity: Demographic details.\n",
        "*   disability_type: Type of disability the client has.\n",
        "*   service_type: The type of DSS service the client is receiving.\n",
        "*   entry_date and exit_date: Dates marking the start and potential end of service engagement.\n",
        "*   status: Current status of the service engagement (Active, Exited).\n",
        "\n",
        "| snz_uid | age | gender | ethnicity | disability_type  | service_type       | entry_date | exit_date | status |\n",
        "|---------|-----|--------|-----------|------------------|--------------------|------------|-----------|--------|\n",
        "| 001     | 34  | M      | European  | Cerebral Palsy   | Home Care          | 2018-01-01 | NULL      | Active |\n",
        "| 002     | 22  | F      | Maori     | Autism           | Community Support  | 2017-06-01 | 2019-03-01| Exited |\n"
      ],
      "metadata": {
        "id": "G2CxtTR60qBw"
      }
    },
    {
      "cell_type": "markdown",
      "source": [
        "## Data Preparation for Markov Chain Modelling\n",
        "To prepare the data for Markov Chain Modelling, we need to consolidate and reformat the existing datasets to capture transitions between states (services) over time. This involves creating a new dataset that tracks changes in service status, type, and personal demographics year by year. The dataset will look like this:\n",
        "\n",
        "Markov Chain Modelling Input Data Table\n",
        "*   snz_uid: Unique identifier for each client.\n",
        "*   year: The year of the record.\n",
        "*   age: Client's age at the time of the record.\n",
        "*   gender: Client's gender.\n",
        "*   ethnicity: Client's ethnicity.\n",
        "*   service_type: Type of service the client was receiving. However, in Markov Chain Modelling, these states are mutually exclusive and exhaustive and so each individual represented in the model can be in one and only one of these disease states at any given time.\n",
        "*   entry_date and exit_date: Dates of service engagement.\n",
        "*   reason_for_exit: Reason for service discontinuation (if applicable).\n",
        "*   status: Status of the client in the DSS system (Active, Exited).\n",
        "\n",
        "| snz_uid | year | age | gender | ethnicity | service_type        | entry_date  | exit_date  | reason_for_exit     | status  |\n",
        "|---------|------|-----|--------|-----------|---------------------|-------------|------------|---------------------|---------|\n",
        "| 001     | 2007 | 34  | M      | European  | Home Care           | 2007-01-05  | 2009-12-15 | Graduated           | Exited  |\n",
        "| 002     | 2008 | 22  | F      | Maori     | Community Support   | 2008-06-10  | NULL       | NULL                | Active  |\n",
        "| 003     | 2007 | 29  | M      | Pacific   | Job Training        | 2007-02-20  | 2008-03-01 | Job Found           | Exited  |\n",
        "| 004     | 2009 | 18  | F      | Asian     | Education           | 2009-05-15  | 2013-06-30 | Graduated           | Exited  |\n",
        "| 005     | 2010 | 45  | F      | European  | Rehabilitation      | 2010-09-01  | 2012-11-20 | Health Improvement  | Exited  |\n"
      ],
      "metadata": {
        "id": "vxLDzGt-1P_q"
      }
    },
    {
      "cell_type": "markdown",
      "source": [
        "## Initial Assumptions\n",
        "\n",
        "### Population\n",
        "This is a cohort model, i.e. it represents the experience of a simulated cohort, i.e. clients who receive (or do not receive) DSS in a certain perido of time.\n",
        "\n",
        "### States in the Markov Model\n",
        "To effectively model transitions between the states using a Markov Chain, we first need to clearly define each state, establish the conditions for transitions between them, and then collect the appropriate data to calculate the transition probabilities. Here's how we might set up your model with these states:\n",
        "\n",
        "\n",
        "1. Different DSS Services:\n",
        "*   Home\n",
        "*   Flexible funding\n",
        "*   Facility-based support\n",
        "*   Early investment\n",
        "2. Employment Status (categorised by plausible and meaningful income bands):\n",
        "*   No income\n",
        "*   0-50% of minimum wage\n",
        "*   50-100% of minimum wage\n",
        "*   100% of minimum wage to average wage\n",
        "*   Above average wage\n",
        "3. Main Benefits:\n",
        "*   Job seeker\n",
        "*   Parental\n",
        "*   Sickness\n",
        "4. Supplementary Benefit\n",
        "5. In Education\n",
        "6. In Healthcare Facility (hospitalized)\n",
        "7. In Prison\n",
        "8. Deceased (Terminal state with no outgoing transitions)\n",
        "9. Overseas\n",
        "10. None of the Above\n",
        "\n",
        "\n"
      ],
      "metadata": {
        "id": "abbVxQXl14E9"
      }
    },
    {
      "cell_type": "code",
      "source": [
        "# Load necessary libraries\n",
        "library(dplyr)\n",
        "library(lubridate)\n",
        "\n",
        "# Expanded example data frame\n",
        "data <- data.frame(\n",
        "  snz_uid = c(\"001\", \"002\", \"003\", \"004\", \"005\", \"006\", \"007\", \"008\", \"009\", \"010\", \"011\", \"012\", \"013\", \"014\", \"015\"),\n",
        "  year = c(2007, 2008, 2007, 2009, 2010, 2007, 2008, 2007, 2009, 2010, 2007, 2008, 2007, 2009, 2010),\n",
        "  service_type = c(\"Home Care\", \"Community Support\", \"Job Training\", \"Education\", \"Rehabilitation\",\n",
        "                   \"Home Care\", \"Community Support\", \"Job Training\", \"Education\", \"Rehabilitation\",\n",
        "                   \"Home Care\", \"Community Support\", \"Job Training\", \"Education\", \"Rehabilitation\"),\n",
        "  entry_date = c(\"2007-01-05\", \"2008-06-10\", \"2007-02-20\", \"2009-05-15\", \"2010-09-01\",\n",
        "                 \"2007-03-05\", \"2008-07-10\", \"2007-04-20\", \"2009-06-15\", \"2010-10-01\",\n",
        "                 \"2007-02-01\", \"2008-08-10\", \"2007-05-20\", \"2009-07-15\", \"2010-11-01\"),\n",
        "  exit_date = c(\"2009-12-15\", NA, \"2008-03-01\", \"2013-06-30\", \"2012-11-20\",\n",
        "                \"2009-11-15\", NA, \"2008-02-01\", \"2013-05-30\", \"2012-10-20\",\n",
        "                \"2009-10-15\", NA, \"2008-01-01\", \"2013-04-30\", \"2012-09-20\"),\n",
        "  status = c(\"Exited\", \"Active\", \"Exited\", \"Exited\", \"Exited\",\n",
        "             \"Exited\", \"Active\", \"Exited\", \"Exited\", \"Exited\",\n",
        "             \"Exited\", \"Active\", \"Exited\", \"Exited\", \"Exited\"),\n",
        "  ethnicity = c(\"European\", \"Maori\", \"Pacific\", \"Asian\", \"European\",\n",
        "                \"Maori\", \"Pacific\", \"European\", \"Asian\", \"Maori\",\n",
        "                \"Pacific\", \"European\", \"Asian\", \"Maori\", \"Pacific\")\n",
        ")\n",
        "\n",
        "# Convert date columns to Date type\n",
        "data$entry_date <- as.Date(data$entry_date)\n",
        "data$exit_date <- as.Date(data$exit_date, tryFormats = c(\"%Y-%m-%d\", NA))\n",
        "\n",
        "# Define transitions based on service type and status\n",
        "data <- data %>%\n",
        "  mutate(\n",
        "    next_service = lead(service_type, default = \"End of Data\"),\n",
        "    transition = paste(service_type, next_service, sep = \" to \")\n",
        "  )\n",
        "\n",
        "# Display the dataset to see the new columns\n",
        "print(data)\n",
        "\n"
      ],
      "metadata": {
        "colab": {
          "base_uri": "https://localhost:8080/"
        },
        "id": "F7iIAD3d04M9",
        "outputId": "dd504b09-02c3-4829-a050-4f324b4faab5"
      },
      "execution_count": 1,
      "outputs": [
        {
          "output_type": "stream",
          "name": "stderr",
          "text": [
            "\n",
            "Attaching package: ‘dplyr’\n",
            "\n",
            "\n",
            "The following objects are masked from ‘package:stats’:\n",
            "\n",
            "    filter, lag\n",
            "\n",
            "\n",
            "The following objects are masked from ‘package:base’:\n",
            "\n",
            "    intersect, setdiff, setequal, union\n",
            "\n",
            "\n",
            "\n",
            "Attaching package: ‘lubridate’\n",
            "\n",
            "\n",
            "The following objects are masked from ‘package:base’:\n",
            "\n",
            "    date, intersect, setdiff, union\n",
            "\n",
            "\n"
          ]
        },
        {
          "output_type": "stream",
          "name": "stdout",
          "text": [
            "   snz_uid year      service_type entry_date  exit_date status ethnicity\n",
            "1      001 2007         Home Care 2007-01-05 2009-12-15 Exited  European\n",
            "2      002 2008 Community Support 2008-06-10       <NA> Active     Maori\n",
            "3      003 2007      Job Training 2007-02-20 2008-03-01 Exited   Pacific\n",
            "4      004 2009         Education 2009-05-15 2013-06-30 Exited     Asian\n",
            "5      005 2010    Rehabilitation 2010-09-01 2012-11-20 Exited  European\n",
            "6      006 2007         Home Care 2007-03-05 2009-11-15 Exited     Maori\n",
            "7      007 2008 Community Support 2008-07-10       <NA> Active   Pacific\n",
            "8      008 2007      Job Training 2007-04-20 2008-02-01 Exited  European\n",
            "9      009 2009         Education 2009-06-15 2013-05-30 Exited     Asian\n",
            "10     010 2010    Rehabilitation 2010-10-01 2012-10-20 Exited     Maori\n",
            "11     011 2007         Home Care 2007-02-01 2009-10-15 Exited   Pacific\n",
            "12     012 2008 Community Support 2008-08-10       <NA> Active  European\n",
            "13     013 2007      Job Training 2007-05-20 2008-01-01 Exited     Asian\n",
            "14     014 2009         Education 2009-07-15 2013-04-30 Exited     Maori\n",
            "15     015 2010    Rehabilitation 2010-11-01 2012-09-20 Exited   Pacific\n",
            "        next_service                        transition\n",
            "1  Community Support    Home Care to Community Support\n",
            "2       Job Training Community Support to Job Training\n",
            "3          Education         Job Training to Education\n",
            "4     Rehabilitation       Education to Rehabilitation\n",
            "5          Home Care       Rehabilitation to Home Care\n",
            "6  Community Support    Home Care to Community Support\n",
            "7       Job Training Community Support to Job Training\n",
            "8          Education         Job Training to Education\n",
            "9     Rehabilitation       Education to Rehabilitation\n",
            "10         Home Care       Rehabilitation to Home Care\n",
            "11 Community Support    Home Care to Community Support\n",
            "12      Job Training Community Support to Job Training\n",
            "13         Education         Job Training to Education\n",
            "14    Rehabilitation       Education to Rehabilitation\n",
            "15       End of Data     Rehabilitation to End of Data\n"
          ]
        }
      ]
    },
    {
      "cell_type": "code",
      "source": [
        "# Create a transition matrix from this data\n",
        "transition_matrix <- table(data$service_type, data$next_service)\n",
        "\n",
        "# Print transition matrix with more digits\n",
        "print(format(transition_matrix, digits = 4))\n",
        "\n",
        "# Note: You should replace \"lead(service_type, default = \"End of Data\")\" with appropriate logic\n",
        "# to match your research requirements and data structure.\n",
        "\n",
        "# This is just a basic example. Depending on your requirements, you may need to\n",
        "# include more sophisticated data manipulation and analysis steps.\n"
      ],
      "metadata": {
        "colab": {
          "base_uri": "https://localhost:8080/"
        },
        "id": "TfddEZuK8rcp",
        "outputId": "6e108d1a-d9fc-4d89-cc8a-d6e53014188a"
      },
      "execution_count": 2,
      "outputs": [
        {
          "output_type": "stream",
          "name": "stdout",
          "text": [
            "                   \n",
            "                    Community Support Education End of Data Home Care\n",
            "  Community Support \"0\"               \"0\"       \"0\"         \"0\"      \n",
            "  Education         \"0\"               \"0\"       \"0\"         \"0\"      \n",
            "  Home Care         \"3\"               \"0\"       \"0\"         \"0\"      \n",
            "  Job Training      \"0\"               \"3\"       \"0\"         \"0\"      \n",
            "  Rehabilitation    \"0\"               \"0\"       \"1\"         \"2\"      \n",
            "                   \n",
            "                    Job Training Rehabilitation\n",
            "  Community Support \"3\"          \"0\"           \n",
            "  Education         \"0\"          \"3\"           \n",
            "  Home Care         \"0\"          \"0\"           \n",
            "  Job Training      \"0\"          \"0\"           \n",
            "  Rehabilitation    \"0\"          \"0\"           \n"
          ]
        }
      ]
    },
    {
      "cell_type": "markdown",
      "source": [
        "Based on the matrix provided:\n",
        "\n",
        "Community Support to Job Training: 3 transitions\n",
        "Education to Rehabilitation: 3 transitions\n",
        "Rehabilitation to Home Care: 2 transitions\n",
        "Rehabilitation to End of Data: 1 transition\n"
      ],
      "metadata": {
        "id": "EfIi43K49j0q"
      }
    },
    {
      "cell_type": "code",
      "source": [
        "# Assuming data has columns 'service_type' and 'next_service'\n",
        "# Create a transition matrix from this data\n",
        "transition_matrix <- table(data$service_type, data$next_service)\n",
        "\n",
        "# Add row totals to the transition matrix\n",
        "transition_matrix <- cbind(transition_matrix, rowSums(transition_matrix))\n",
        "colnames(transition_matrix)[ncol(transition_matrix)] <- \"Total Out\"\n",
        "\n",
        "# Add column totals to the transition matrix\n",
        "transition_matrix <- rbind(transition_matrix, colSums(transition_matrix))\n",
        "rownames(transition_matrix)[nrow(transition_matrix)] <- \"Total In\"\n",
        "\n",
        "# Calculate transition probabilities as percentages\n",
        "transition_probabilities <- transition_matrix[1:(nrow(transition_matrix) - 1), 1:(ncol(transition_matrix) - 1)] /\n",
        "                            rowSums(transition_matrix[1:(nrow(transition_matrix) - 1), 1:(ncol(transition_matrix) - 1)])\n",
        "\n",
        "# Replace NA values with zeros (where division by zero occurs)\n",
        "transition_probabilities[is.na(transition_probabilities)] <- 0\n",
        "\n",
        "# Convert to percentages for clarity\n",
        "transition_probabilities <- round(transition_probabilities * 100, 2)\n",
        "\n",
        "# Print matrices\n",
        "print(\"Transition Counts (with totals):\")\n",
        "print(transition_matrix)\n",
        "\n",
        "print(\"Transition Probabilities (%):\")\n",
        "print(transition_probabilities)\n"
      ],
      "metadata": {
        "colab": {
          "base_uri": "https://localhost:8080/"
        },
        "id": "WVfhLqEV-OlG",
        "outputId": "60569b56-060e-49cd-a36c-7c2cda128b96"
      },
      "execution_count": 3,
      "outputs": [
        {
          "output_type": "stream",
          "name": "stdout",
          "text": [
            "[1] \"Transition Counts (with totals):\"\n",
            "                  Community Support Education End of Data Home Care\n",
            "Community Support                 0         0           0         0\n",
            "Education                         0         0           0         0\n",
            "Home Care                         3         0           0         0\n",
            "Job Training                      0         3           0         0\n",
            "Rehabilitation                    0         0           1         2\n",
            "Total In                          3         3           1         2\n",
            "                  Job Training Rehabilitation Total Out\n",
            "Community Support            3              0         3\n",
            "Education                    0              3         3\n",
            "Home Care                    0              0         3\n",
            "Job Training                 0              0         3\n",
            "Rehabilitation               0              0         3\n",
            "Total In                     3              3        15\n",
            "[1] \"Transition Probabilities (%):\"\n",
            "                  Community Support Education End of Data Home Care\n",
            "Community Support                 0         0        0.00      0.00\n",
            "Education                         0         0        0.00      0.00\n",
            "Home Care                       100         0        0.00      0.00\n",
            "Job Training                      0       100        0.00      0.00\n",
            "Rehabilitation                    0         0       33.33     66.67\n",
            "                  Job Training Rehabilitation\n",
            "Community Support          100              0\n",
            "Education                    0            100\n",
            "Home Care                    0              0\n",
            "Job Training                 0              0\n",
            "Rehabilitation               0              0\n"
          ]
        }
      ]
    },
    {
      "cell_type": "markdown",
      "source": [
        "Transition Probabilities (%):\n",
        "This matrix converts the absolute counts into probabilities (or percentages) that help understand the likelihood of transitioning from one state to another.\n",
        "\n",
        "Values represent the percentage probability of moving from the row state to the column state.\n",
        "For example, 100% of individuals in Home Care transitioned away from Home Care, with none staying or moving to other states listed.\n",
        "In Rehabilitation, 33.33% led to an \"End of Data\" state, and 66.67% transitioned back to Home Care, indicating a high likelihood of returning to initial care after Rehabilitation."
      ],
      "metadata": {
        "id": "En8RDhB6_U1D"
      }
    },
    {
      "cell_type": "markdown",
      "source": [
        "## Model Initialisation and Simulation:\n",
        "Initiate the Markov Model: Start the Markov chain model using the initial state distribution based on the most recent data available. This involves setting up the initial probabilities of each state based on the data.\n",
        "Run Simulations: Use the transition probabilities to simulate the movement of individuals through different states over multiple time periods. This simulation can extend several years into the future to observe long-term trends and potential impacts of current policies."
      ],
      "metadata": {
        "id": "KD_rxtoBIjSh"
      }
    },
    {
      "cell_type": "code",
      "source": [
        "# Initialise the Markov Model\n",
        "\n",
        "\n",
        "# Create a transition matrix from this data\n",
        "transition_matrix <- table(data$service_type, data$next_service)\n",
        "\n",
        "# Add row totals to the transition matrix for outgoing states\n",
        "transition_matrix <- cbind(transition_matrix, rowSums(transition_matrix))\n",
        "colnames(transition_matrix)[ncol(transition_matrix)] <- \"Total Out\"\n",
        "\n",
        "# Add column totals to the transition matrix for incoming states\n",
        "transition_matrix <- rbind(transition_matrix, colSums(transition_matrix))\n",
        "rownames(transition_matrix)[nrow(transition_matrix)] <- \"Total In\"\n",
        "\n",
        "# Calculate transition probabilities as percentages\n",
        "transition_probabilities <- sweep(transition_matrix[1:nrow(transition_matrix) - 1, 1:ncol(transition_matrix) - 1], 1,\n",
        "                                  rowSums(transition_matrix[1:nrow(transition_matrix) - 1, 1:ncol(transition_matrix) - 1]), \"/\") * 100\n",
        "transition_probabilities[is.na(transition_probabilities)] <- 0  # Replace NA with zero\n",
        "\n",
        "# Print transition matrices\n",
        "print(\"Transition Counts (with totals):\")\n",
        "print(transition_matrix)\n",
        "\n",
        "print(\"Transition Probabilities (%):\")\n",
        "print(transition_probabilities)\n",
        "\n"
      ],
      "metadata": {
        "colab": {
          "base_uri": "https://localhost:8080/"
        },
        "id": "m4wEeNjrJDye",
        "outputId": "c682f135-aee3-49ac-8ebf-e0056fd14eb5"
      },
      "execution_count": 4,
      "outputs": [
        {
          "output_type": "stream",
          "name": "stdout",
          "text": [
            "[1] \"Transition Counts (with totals):\"\n",
            "                  Community Support Education End of Data Home Care\n",
            "Community Support                 0         0           0         0\n",
            "Education                         0         0           0         0\n",
            "Home Care                         3         0           0         0\n",
            "Job Training                      0         3           0         0\n",
            "Rehabilitation                    0         0           1         2\n",
            "Total In                          3         3           1         2\n",
            "                  Job Training Rehabilitation Total Out\n",
            "Community Support            3              0         3\n",
            "Education                    0              3         3\n",
            "Home Care                    0              0         3\n",
            "Job Training                 0              0         3\n",
            "Rehabilitation               0              0         3\n",
            "Total In                     3              3        15\n",
            "[1] \"Transition Probabilities (%):\"\n",
            "                  Community Support Education End of Data Home Care\n",
            "Community Support                 0         0     0.00000   0.00000\n",
            "Education                         0         0     0.00000   0.00000\n",
            "Home Care                       100         0     0.00000   0.00000\n",
            "Job Training                      0       100     0.00000   0.00000\n",
            "Rehabilitation                    0         0    33.33333  66.66667\n",
            "                  Job Training Rehabilitation\n",
            "Community Support          100              0\n",
            "Education                    0            100\n",
            "Home Care                    0              0\n",
            "Job Training                 0              0\n",
            "Rehabilitation               0              0\n"
          ]
        }
      ]
    },
    {
      "cell_type": "code",
      "source": [
        "# Calculate transition counts\n",
        "transition_counts <- table(data$service_type, data$next_service)\n",
        "\n",
        "# Convert counts to a matrix for further operations\n",
        "transition_matrix <- as.matrix(transition_counts)\n",
        "\n",
        "# Assign state names\n",
        "states <- rownames(transition_matrix)\n",
        "\n",
        "# Print transition counts matrix\n",
        "print(\"Transition Counts Matrix:\")\n",
        "print(transition_matrix)"
      ],
      "metadata": {
        "id": "2Tlp8D9s5Yx-",
        "outputId": "dead927f-e8fe-4490-be6d-5ed799fff7f7",
        "colab": {
          "base_uri": "https://localhost:8080/"
        }
      },
      "execution_count": 23,
      "outputs": [
        {
          "output_type": "stream",
          "name": "stdout",
          "text": [
            "[1] \"Transition Counts Matrix:\"\n",
            "                   \n",
            "                    Community Support Education End of Data Home Care\n",
            "  Community Support                 0         0           0         0\n",
            "  Education                         0         0           0         0\n",
            "  Home Care                         3         0           0         0\n",
            "  Job Training                      0         3           0         0\n",
            "  Rehabilitation                    0         0           1         2\n",
            "                   \n",
            "                    Job Training Rehabilitation\n",
            "  Community Support            3              0\n",
            "  Education                    0              3\n",
            "  Home Care                    0              0\n",
            "  Job Training                 0              0\n",
            "  Rehabilitation               0              0\n"
          ]
        }
      ]
    },
    {
      "cell_type": "code",
      "source": [
        "# Define all possible states\n",
        "all_states <- unique(c(data$service_type, data$next_service))\n",
        "\n",
        "# Create a transition matrix with all states ensuring a square matrix\n",
        "transition_matrix <- table(factor(data$service_type, levels = all_states),\n",
        "                           factor(data$next_service, levels = all_states))\n",
        "\n",
        "# Print the complete transition matrix\n",
        "print(\"Complete Transition Matrix:\")\n",
        "print(transition_matrix)\n"
      ],
      "metadata": {
        "id": "F58xixBh688W",
        "outputId": "4f87c738-8f2d-4bc1-b581-64f60a0d77aa",
        "colab": {
          "base_uri": "https://localhost:8080/"
        }
      },
      "execution_count": 25,
      "outputs": [
        {
          "output_type": "stream",
          "name": "stdout",
          "text": [
            "[1] \"Complete Transition Matrix:\"\n",
            "                   \n",
            "                    Home Care Community Support Job Training Education\n",
            "  Home Care                 0                 3            0         0\n",
            "  Community Support         0                 0            3         0\n",
            "  Job Training              0                 0            0         3\n",
            "  Education                 0                 0            0         0\n",
            "  Rehabilitation            2                 0            0         0\n",
            "  End of Data               0                 0            0         0\n",
            "                   \n",
            "                    Rehabilitation End of Data\n",
            "  Home Care                      0           0\n",
            "  Community Support              0           0\n",
            "  Job Training                   0           0\n",
            "  Education                      3           0\n",
            "  Rehabilitation                 0           1\n",
            "  End of Data                    0           0\n"
          ]
        }
      ]
    },
    {
      "cell_type": "code",
      "source": [
        "# Convert counts to probabilities\n",
        "\n",
        "# Normalize the transition matrix to create probabilities\n",
        "transition_probabilities <- sweep(transition_matrix, 1, rowSums(transition_matrix), FUN=\"/\")\n",
        "\n",
        "# Replace NaN with 0 where division by zero occurs\n",
        "transition_probabilities[is.na(transition_probabilities)] <- 0\n",
        "\n",
        "# Check the probabilities matrix\n",
        "print(\"Transition Probabilities Matrix:\")\n",
        "print(transition_probabilities)\n",
        "\n"
      ],
      "metadata": {
        "id": "X9SSWGUB5jXX",
        "outputId": "ae9f2667-3b5f-402a-d61f-4d829741e708",
        "colab": {
          "base_uri": "https://localhost:8080/"
        }
      },
      "execution_count": 26,
      "outputs": [
        {
          "output_type": "stream",
          "name": "stdout",
          "text": [
            "[1] \"Transition Probabilities Matrix:\"\n",
            "                   \n",
            "                    Home Care Community Support Job Training Education\n",
            "  Home Care         0.0000000         1.0000000    0.0000000 0.0000000\n",
            "  Community Support 0.0000000         0.0000000    1.0000000 0.0000000\n",
            "  Job Training      0.0000000         0.0000000    0.0000000 1.0000000\n",
            "  Education         0.0000000         0.0000000    0.0000000 0.0000000\n",
            "  Rehabilitation    0.6666667         0.0000000    0.0000000 0.0000000\n",
            "  End of Data       0.0000000         0.0000000    0.0000000 0.0000000\n",
            "                   \n",
            "                    Rehabilitation End of Data\n",
            "  Home Care              0.0000000   0.0000000\n",
            "  Community Support      0.0000000   0.0000000\n",
            "  Job Training           0.0000000   0.0000000\n",
            "  Education              1.0000000   0.0000000\n",
            "  Rehabilitation         0.0000000   0.3333333\n",
            "  End of Data            0.0000000   0.0000000\n"
          ]
        }
      ]
    },
    {
      "cell_type": "markdown",
      "source": [
        "### Simulate the Markov Chain"
      ],
      "metadata": {
        "id": "n9sB-HU4KgRc"
      }
    },
    {
      "cell_type": "code",
      "source": [
        "# Install the markovchain package if it's not already installed\n",
        "if (!require(markovchain)) {\n",
        "  install.packages(\"markovchain\", dependencies = TRUE)\n",
        "}\n",
        "\n",
        "# Load the package\n",
        "library(markovchain)\n"
      ],
      "metadata": {
        "colab": {
          "base_uri": "https://localhost:8080/"
        },
        "id": "_LouvkdqNyiH",
        "outputId": "23822ecd-48a7-4420-ea1b-ab9ea75c0424"
      },
      "execution_count": 5,
      "outputs": [
        {
          "output_type": "stream",
          "name": "stderr",
          "text": [
            "Loading required package: markovchain\n",
            "\n",
            "Warning message in library(package, lib.loc = lib.loc, character.only = TRUE, logical.return = TRUE, :\n",
            "“there is no package called ‘markovchain’”\n",
            "Installing package into ‘/usr/local/lib/R/site-library’\n",
            "(as ‘lib’ is unspecified)\n",
            "\n",
            "also installing the dependencies ‘shape’, ‘htmlwidgets’, ‘visNetwork’, ‘mvtnorm’, ‘truncnorm’, ‘coda’, ‘numDeriv’, ‘igraph’, ‘expm’, ‘Rcpp’, ‘RcppParallel’, ‘RcppArmadillo’, ‘diagram’, ‘DiagrammeR’, ‘msm’, ‘Rsolnp’, ‘ctmcd’, ‘bookdown’, ‘rticles’\n",
            "\n",
            "\n",
            "Package:  markovchain\n",
            "Version:  0.9.5\n",
            "Date:     2023-09-24 09:20:02 UTC\n",
            "BugReport: https://github.com/spedygiorgio/markovchain/issues\n",
            "\n",
            "\n",
            "\n",
            "Attaching package: ‘markovchain’\n",
            "\n",
            "\n",
            "The following object is masked from ‘package:lubridate’:\n",
            "\n",
            "    period\n",
            "\n",
            "\n"
          ]
        }
      ]
    },
    {
      "cell_type": "code",
      "source": [
        "# Make sure that transition probabilities are in a matrix form\n",
        "\n",
        "transition_probabilities_matrix <- as.matrix(transition_probabilities)\n",
        "\n",
        "print(class(transition_probabilities_matrix))\n",
        "\n",
        "# Define the Markov chain model using the probabilities matrix\n",
        "mc <- new(\"markovchain\", states = all_states, byrow = TRUE,\n",
        "          transitionMatrix = transition_probabilities_matrix, name = \"DSS Service Transition\")\n",
        "\n",
        "# Print the Markov chain to verify\n",
        "print(mc)\n"
      ],
      "metadata": {
        "id": "ZBESkiGV7HqG",
        "outputId": "0416f1bd-59a0-4db5-a006-a7681fab4b43",
        "colab": {
          "base_uri": "https://localhost:8080/",
          "height": 349
        }
      },
      "execution_count": 35,
      "outputs": [
        {
          "output_type": "stream",
          "name": "stdout",
          "text": [
            "[1] \"table\"\n"
          ]
        },
        {
          "output_type": "error",
          "ename": "ERROR",
          "evalue": "Error in validObject(.Object): invalid class “markovchain” object: invalid object for slot \"transitionMatrix\" in class \"markovchain\": got class \"table\", should be or extend class \"matrix\"\n",
          "traceback": [
            "Error in validObject(.Object): invalid class “markovchain” object: invalid object for slot \"transitionMatrix\" in class \"markovchain\": got class \"table\", should be or extend class \"matrix\"\nTraceback:\n",
            "1. new(\"markovchain\", states = all_states, byrow = TRUE, transitionMatrix = transition_probabilities_matrix, \n .     name = \"DSS Service Transition\")",
            "2. initialize(value, ...)",
            "3. initialize(value, ...)",
            "4. .local(.Object, ...)",
            "5. callNextMethod(.Object, states = states, byrow = byrow, transitionMatrix = transitionMatrix, \n .     name = name, ...)",
            "6. eval(call, callEnv)",
            "7. eval(call, callEnv)",
            "8. .nextMethod(.Object, states = states, byrow = byrow, transitionMatrix = transitionMatrix, \n .     name = name, ...)",
            "9. validObject(.Object)",
            "10. stop(msg, \": \", errors, domain = NA)"
          ]
        }
      ]
    },
    {
      "cell_type": "code",
      "source": [
        "# Force conversion of the table to a matrix\n",
        "transition_probabilities_matrix <- as.matrix(transition_probabilities)\n",
        "\n",
        "# Ensure that the result is indeed a matrix by setting the class explicitly\n",
        "class(transition_probabilities_matrix) <- \"matrix\"\n"
      ],
      "metadata": {
        "id": "wr0HlrAF8m6M"
      },
      "execution_count": 41,
      "outputs": []
    },
    {
      "cell_type": "code",
      "source": [
        "class(transition_probabilities_matrix)"
      ],
      "metadata": {
        "id": "o_bBn37u7uAx",
        "outputId": "b65bb48d-ff31-4fc4-cacd-c14167b45319",
        "colab": {
          "base_uri": "https://localhost:8080/",
          "height": 34
        }
      },
      "execution_count": 39,
      "outputs": [
        {
          "output_type": "display_data",
          "data": {
            "text/html": [
              "<style>\n",
              ".list-inline {list-style: none; margin:0; padding: 0}\n",
              ".list-inline>li {display: inline-block}\n",
              ".list-inline>li:not(:last-child)::after {content: \"\\00b7\"; padding: 0 .5ex}\n",
              "</style>\n",
              "<ol class=list-inline><li>'matrix'</li><li>'array'</li></ol>\n"
            ],
            "text/markdown": "1. 'matrix'\n2. 'array'\n\n\n",
            "text/latex": "\\begin{enumerate*}\n\\item 'matrix'\n\\item 'array'\n\\end{enumerate*}\n",
            "text/plain": [
              "[1] \"matrix\" \"array\" "
            ]
          },
          "metadata": {}
        }
      ]
    },
    {
      "source": [
        "# Examine the structure and content of the matrix\n",
        "str(transition_probabilities_matrix)\n",
        "print(transition_probabilities_matrix)\n"
      ],
      "cell_type": "code",
      "metadata": {
        "id": "dAmABMmU7cYd",
        "outputId": "694f5722-979a-4788-8d92-8a23c47340ce",
        "colab": {
          "base_uri": "https://localhost:8080/"
        }
      },
      "execution_count": 40,
      "outputs": [
        {
          "output_type": "stream",
          "name": "stdout",
          "text": [
            " num [1:6, 1:6] 0 0 0 0 0.667 ...\n",
            " - attr(*, \"dimnames\")=List of 2\n",
            "  ..$ : chr [1:6] \"Home Care\" \"Community Support\" \"Job Training\" \"Education\" ...\n",
            "  ..$ : chr [1:6] \"Home Care\" \"Community Support\" \"Job Training\" \"Education\" ...\n",
            "                   \n",
            "                    Home Care Community Support Job Training Education\n",
            "  Home Care         0.0000000                 1            0         0\n",
            "  Community Support 0.0000000                 0            1         0\n",
            "  Job Training      0.0000000                 0            0         1\n",
            "  Education         0.0000000                 0            0         0\n",
            "  Rehabilitation    0.6666667                 0            0         0\n",
            "  End of Data       0.0000000                 0            0         0\n",
            "                   \n",
            "                    Rehabilitation End of Data\n",
            "  Home Care                      0   0.0000000\n",
            "  Community Support              0   0.0000000\n",
            "  Job Training                   0   0.0000000\n",
            "  Education                      1   0.0000000\n",
            "  Rehabilitation                 0   0.3333333\n",
            "  End of Data                    0   0.0000000\n"
          ]
        }
      ]
    },
    {
      "cell_type": "code",
      "source": [
        "# Adjust for absorbing state 'End of Data'\n",
        "if (is.nan(rowSums(transition_probabilities_matrix)[\"End of Data\"])) {\n",
        "  transition_probabilities_matrix[\"End of Data\",] <- 0\n",
        "  transition_probabilities_matrix[\"End of Data\",\"End of Data\"] <- 1\n",
        "}\n",
        "\n",
        "# Normalize the transition matrix again in case other rows are affected\n",
        "row_sums <- rowSums(transition_probabilities_matrix)\n",
        "transition_probabilities_matrix <- sweep(transition_probabilities_matrix, 1, row_sums, \"/\")\n",
        "\n",
        "# Check to make sure each row now sums to 1\n",
        "print(rowSums(transition_probabilities_matrix))  # should all be 1\n",
        "\n"
      ],
      "metadata": {
        "id": "S2yXzgeR9XsN"
      },
      "execution_count": null,
      "outputs": []
    },
    {
      "cell_type": "code",
      "source": [
        "\n",
        "# Recreate the Markov chain object with the normalized matrix\n",
        "mc <- new(\"markovchain\", states = colnames(transition_probabilities_matrix), byrow = TRUE,\n",
        "          transitionMatrix = transition_probabilities_matrix,\n",
        "          name = \"DSS Service Transition\")\n",
        "\n",
        "# Print the Markov chain to ensure it's correctly set up\n",
        "print(mc)"
      ],
      "metadata": {
        "id": "qdJ8RJNqATR-"
      },
      "execution_count": null,
      "outputs": []
    }
  ]
}