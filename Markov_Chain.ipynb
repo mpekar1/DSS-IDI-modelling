{
  "nbformat": 4,
  "nbformat_minor": 0,
  "metadata": {
    "colab": {
      "provenance": [],
      "gpuType": "T4",
      "authorship_tag": "ABX9TyPLflJUJdORzyvWNvHTE4gD",
      "include_colab_link": true
    },
    "kernelspec": {
      "name": "ir",
      "display_name": "R"
    },
    "language_info": {
      "name": "R"
    },
    "accelerator": "GPU"
  },
  "cells": [
    {
      "cell_type": "markdown",
      "metadata": {
        "id": "view-in-github",
        "colab_type": "text"
      },
      "source": [
        "<a href=\"https://colab.research.google.com/github/mpekar1/DSS-IDI-modelling/blob/main/Markov_Chain.ipynb\" target=\"_parent\"><img src=\"https://colab.research.google.com/assets/colab-badge.svg\" alt=\"Open In Colab\"/></a>"
      ]
    },
    {
      "cell_type": "code",
      "execution_count": null,
      "metadata": {
        "id": "19IsBIAMwZN6"
      },
      "outputs": [],
      "source": []
    },
    {
      "cell_type": "markdown",
      "source": [
        "# Markiv Chain Modelling\n",
        "\n",
        "**Objective: **\n",
        "Analyse trends among individuals ceasing to receive DSS services and model the transition probabilities across different states influenced by various factors, including age transitions around 18-20 years."
      ],
      "metadata": {
        "id": "DhyIMSmw0HmB"
      }
    },
    {
      "cell_type": "markdown",
      "source": [
        "## Input data created by the original codes producing descriptive statistics of the population\n",
        "\n",
        "**Data Tables Explanation**\n",
        "1. Descriptive Data Table: **[IDI_Sandpit].[DL-MAA2023-41].[202306_output1_descriptives]**\n",
        "This table provides a snapshot of DSS clients for the year 2021, focusing on their demographic profiles and current status within DSS services. Each record includes:\n",
        "\n",
        "*   snz_uid: Unique identifier for each client.\n",
        "*   age_group: Age category of the client.\n",
        "*   need_band_number and need_band_desc: Numerical and descriptive\n",
        "*   categorizations of the client's needs based on a predictive model.\n",
        "*   gender: Client's gender.\n",
        "*   disability_allowance: Indicates if the client receives a disability allowance (1 for yes, 0 for no).\n",
        "*   education_level: The highest level of education attained.\n",
        "*   income_band: Income category.\n",
        "*   employment_status: Current employment status.\n",
        "*   benefit_reception: Indicates if the client is receiving any additional governmental benefits (Yes or No).\n",
        "\n",
        "| snz_uid | age_group | need_band_number | need_band_desc | gender | disability_allowance | education_level | income_band | employment_status | benefit_reception |\n",
        "|---------|-----------|------------------|----------------|--------|----------------------|-----------------|-------------|-------------------|-------------------|\n",
        "| 001     | 19-44     | 5                | 05-19          | Male   | 1                    | University      | High        | Employed          | Yes               |\n",
        "| 002     | 45-64     | 20               | 20-39          | Female | 0                    | High School     | Medium      | Unemployed        | Yes               |\n",
        "| 003     | 3-18      | 0                | Zero           | Female | 0                    | None            | Low         | N/A               | No                |\n",
        "| 004     | 65+       | 80               | 80-99          | Male   | 1                    | College         | Low         | Retired           | No                |\n",
        "| 005     | 19-44     | 1                | 01-04          | Female | 1                    | High School     | Medium      | Employed          | No                |\n",
        "\n",
        "\n",
        "2.  Service Engagement Data Table: **[IDI_Sandpit].[DL-MAA2023-41].[202306_sample_input]**\n",
        "This table contains entries for client engagements with DSS services:\n",
        "\n",
        "*   snz_uid: Unique identifier for each client linked to the descriptive data.\n",
        "*   age, gender, ethnicity: Demographic details.\n",
        "*   disability_type: Type of disability the client has.\n",
        "*   service_type: The type of DSS service the client is receiving.\n",
        "*   entry_date and exit_date: Dates marking the start and potential end of service engagement.\n",
        "*   status: Current status of the service engagement (Active, Exited).\n",
        "\n",
        "| snz_uid | age | gender | ethnicity | disability_type  | service_type       | entry_date | exit_date | status |\n",
        "|---------|-----|--------|-----------|------------------|--------------------|------------|-----------|--------|\n",
        "| 001     | 34  | M      | European  | Cerebral Palsy   | Home Care          | 2018-01-01 | NULL      | Active |\n",
        "| 002     | 22  | F      | Maori     | Autism           | Community Support  | 2017-06-01 | 2019-03-01| Exited |\n"
      ],
      "metadata": {
        "id": "G2CxtTR60qBw"
      }
    },
    {
      "cell_type": "markdown",
      "source": [
        "## Data Preparation for Markov Chain Modelling\n",
        "To prepare the data for Markov Chain Modelling, we need to consolidate and reformat the existing datasets to capture transitions between states (services) over time. This involves creating a new dataset that tracks changes in service status, type, and personal demographics year by year. The dataset will look like this:\n",
        "\n",
        "Markov Chain Modelling Input Data Table\n",
        "*   snz_uid: Unique identifier for each client.\n",
        "*   year: The year of the record.\n",
        "*   age: Client's age at the time of the record.\n",
        "*   gender: Client's gender.\n",
        "*   ethnicity: Client's ethnicity.\n",
        "*   service_type: Type of service the client was receiving.\n",
        "*   entry_date and exit_date: Dates of service engagement.\n",
        "*   reason_for_exit: Reason for service discontinuation (if applicable).\n",
        "*   status: Status of the client in the DSS system (Active, Exited).\n",
        "\n",
        "| snz_uid | year | age | gender | ethnicity | service_type        | entry_date  | exit_date  | reason_for_exit     | status  |\n",
        "|---------|------|-----|--------|-----------|---------------------|-------------|------------|---------------------|---------|\n",
        "| 001     | 2007 | 34  | M      | European  | Home Care           | 2007-01-05  | 2009-12-15 | Graduated           | Exited  |\n",
        "| 002     | 2008 | 22  | F      | Maori     | Community Support   | 2008-06-10  | NULL       | NULL                | Active  |\n",
        "| 003     | 2007 | 29  | M      | Pacific   | Job Training        | 2007-02-20  | 2008-03-01 | Job Found           | Exited  |\n",
        "| 004     | 2009 | 18  | F      | Asian     | Education           | 2009-05-15  | 2013-06-30 | Graduated           | Exited  |\n",
        "| 005     | 2010 | 45  | F      | European  | Rehabilitation      | 2010-09-01  | 2012-11-20 | Health Improvement  | Exited  |\n"
      ],
      "metadata": {
        "id": "vxLDzGt-1P_q"
      }
    },
    {
      "cell_type": "markdown",
      "source": [
        "## States in the Markov Model\n",
        "To effectively model transitions between the states using a Markov Chain, we first need to clearly define each state, establish the conditions for transitions between them, and then collect the appropriate data to calculate the transition probabilities. Here's how we might set up your model with these states:\n",
        "\n",
        "### Different DSS Services:\n",
        "\n",
        "1. Home\n",
        "*   Flexible funding\n",
        "*   Facility-based support\n",
        "*   Early investment\n",
        "2. Employment Status (categorised by plausible and meaningful income bands):\n",
        "*   No income\n",
        "*   0-50% of minimum wage\n",
        "*   50-100% of minimum wage\n",
        "*   100% of minimum wage to average wage\n",
        "*   Above average wage\n",
        "3. Main Benefits:\n",
        "*   Job seeker\n",
        "*   Parental\n",
        "*   Sickness\n",
        "4. Supplementary Benefit\n",
        "5. In Education\n",
        "6. In Healthcare Facility (hospitalized)\n",
        "7. In Prison\n",
        "8. Deceased (Terminal state with no outgoing transitions)\n",
        "9. Overseas\n",
        "10. None of the Above\n",
        "\n",
        "\n"
      ],
      "metadata": {
        "id": "abbVxQXl14E9"
      }
    },
    {
      "cell_type": "code",
      "source": [],
      "metadata": {
        "id": "F7iIAD3d04M9"
      },
      "execution_count": 1,
      "outputs": []
    }
  ]
}