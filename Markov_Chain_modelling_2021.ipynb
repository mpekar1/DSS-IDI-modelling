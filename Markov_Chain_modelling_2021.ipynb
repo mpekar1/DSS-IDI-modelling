{
  "nbformat": 4,
  "nbformat_minor": 0,
  "metadata": {
    "colab": {
      "provenance": [],
      "gpuType": "T4",
      "authorship_tag": "ABX9TyOcxpWDuNzbDEOIDGkC9O1w",
      "include_colab_link": true
    },
    "kernelspec": {
      "name": "ir",
      "display_name": "R"
    },
    "language_info": {
      "name": "R"
    },
    "accelerator": "GPU"
  },
  "cells": [
    {
      "cell_type": "markdown",
      "metadata": {
        "id": "view-in-github",
        "colab_type": "text"
      },
      "source": [
        "<a href=\"https://colab.research.google.com/github/mpekar1/DSS-IDI-modelling/blob/main/Markov_Chain_modelling_2021.ipynb\" target=\"_parent\"><img src=\"https://colab.research.google.com/assets/colab-badge.svg\" alt=\"Open In Colab\"/></a>"
      ]
    },
    {
      "cell_type": "markdown",
      "source": [
        "# Step 1: Clean and Transform Data"
      ],
      "metadata": {
        "id": "WMQL_svPwKZU"
      }
    },
    {
      "cell_type": "code",
      "source": [],
      "metadata": {
        "id": "EQHmjXMMwKLb"
      },
      "execution_count": null,
      "outputs": []
    },
    {
      "cell_type": "code",
      "source": [
        "library(readxl)\n",
        "library(dplyr)\n",
        "library(stringr)\n",
        "library( tidyverse)"
      ],
      "metadata": {
        "id": "5czYUM5PwBoM",
        "outputId": "71c30880-1076-4cd3-b75e-66f0f50928fb",
        "colab": {
          "base_uri": "https://localhost:8080/"
        }
      },
      "execution_count": 1,
      "outputs": [
        {
          "output_type": "stream",
          "name": "stderr",
          "text": [
            "\n",
            "Attaching package: ‘dplyr’\n",
            "\n",
            "\n",
            "The following objects are masked from ‘package:stats’:\n",
            "\n",
            "    filter, lag\n",
            "\n",
            "\n",
            "The following objects are masked from ‘package:base’:\n",
            "\n",
            "    intersect, setdiff, setequal, union\n",
            "\n",
            "\n",
            "── \u001b[1mAttaching core tidyverse packages\u001b[22m ──────────────────────── tidyverse 2.0.0 ──\n",
            "\u001b[32m✔\u001b[39m \u001b[34mforcats  \u001b[39m 1.0.0     \u001b[32m✔\u001b[39m \u001b[34mreadr    \u001b[39m 2.1.5\n",
            "\u001b[32m✔\u001b[39m \u001b[34mggplot2  \u001b[39m 3.4.4     \u001b[32m✔\u001b[39m \u001b[34mtibble   \u001b[39m 3.2.1\n",
            "\u001b[32m✔\u001b[39m \u001b[34mlubridate\u001b[39m 1.9.3     \u001b[32m✔\u001b[39m \u001b[34mtidyr    \u001b[39m 1.3.1\n",
            "\u001b[32m✔\u001b[39m \u001b[34mpurrr    \u001b[39m 1.0.2     \n",
            "── \u001b[1mConflicts\u001b[22m ────────────────────────────────────────── tidyverse_conflicts() ──\n",
            "\u001b[31m✖\u001b[39m \u001b[34mpurrr\u001b[39m::\u001b[32m%||%()\u001b[39m   masks \u001b[34mbase\u001b[39m::%||%()\n",
            "\u001b[31m✖\u001b[39m \u001b[34mdplyr\u001b[39m::\u001b[32mfilter()\u001b[39m masks \u001b[34mstats\u001b[39m::filter()\n",
            "\u001b[31m✖\u001b[39m \u001b[34mdplyr\u001b[39m::\u001b[32mlag()\u001b[39m    masks \u001b[34mstats\u001b[39m::lag()\n",
            "\u001b[36mℹ\u001b[39m Use the conflicted package (\u001b[3m\u001b[34m<http://conflicted.r-lib.org/>\u001b[39m\u001b[23m) to force all conflicts to become errors\n"
          ]
        }
      ]
    },
    {
      "cell_type": "code",
      "execution_count": 2,
      "metadata": {
        "id": "IKOhU_nSrZsW"
      },
      "outputs": [],
      "source": [
        "# Load the transition counts and population data\n",
        "transition_counts <- read_excel(\"Markov Chain Outputs 2024_06_13_corrected_for_release.xlsx\", sheet = \"Transition counts 2011-20 conf\", skip=1)\n",
        "transition_counts_2021 <- read_excel(\"Markov Chain Outputs 2024_06_13_corrected_for_release.xlsx\", sheet = \"Transition counts 2021 conf\",skip=1)\n",
        "dss_pop_by_age <- read_excel(\"Markov Chain Outputs 2024_06_13_corrected_for_release.xlsx\", sheet = \"Total DSS pop by age conf\")\n",
        "new_entrants <- read_excel(\"Markov Chain Outputs 2024_06_13_corrected_for_release.xlsx\", sheet = \"New entrants conf\")\n"
      ]
    },
    {
      "cell_type": "code",
      "source": [
        "## Inspect the data\n",
        "\n",
        "head(transition_counts)\n",
        "head(transition_counts_2021)\n",
        "head(dss_pop_by_age)\n",
        "head(new_entrants)"
      ],
      "metadata": {
        "colab": {
          "base_uri": "https://localhost:8080/",
          "height": 1000
        },
        "id": "4ol_1grDtG10",
        "outputId": "00750864-141e-4eb4-ef45-5d4373e24b9c"
      },
      "execution_count": 3,
      "outputs": [
        {
          "output_type": "display_data",
          "data": {
            "text/html": [
              "<table class=\"dataframe\">\n",
              "<caption>A tibble: 6 × 24</caption>\n",
              "<thead>\n",
              "\t<tr><th scope=col>age_groups</th><th scope=col>from_state</th><th scope=col>DECEASED</th><th scope=col>DSS</th><th scope=col>DSS_EDU</th><th scope=col>DSS_EDU_T1</th><th scope=col>DSS_EMPLOYED</th><th scope=col>DSS_EMPLOYED_T1</th><th scope=col>DSS_HOSPITAL</th><th scope=col>DSS_T1</th><th scope=col>⋯</th><th scope=col>EMPLOYED</th><th scope=col>EMPLOYED_T1</th><th scope=col>HOSPITAL</th><th scope=col>NO DATA</th><th scope=col>NOT BORN YET</th><th scope=col>OT</th><th scope=col>OTHER</th><th scope=col>OVERSEAS</th><th scope=col>T1</th><th scope=col>Grand Total</th></tr>\n",
              "\t<tr><th scope=col>&lt;chr&gt;</th><th scope=col>&lt;chr&gt;</th><th scope=col>&lt;chr&gt;</th><th scope=col>&lt;chr&gt;</th><th scope=col>&lt;chr&gt;</th><th scope=col>&lt;chr&gt;</th><th scope=col>&lt;chr&gt;</th><th scope=col>&lt;chr&gt;</th><th scope=col>&lt;chr&gt;</th><th scope=col>&lt;chr&gt;</th><th scope=col>⋯</th><th scope=col>&lt;chr&gt;</th><th scope=col>&lt;chr&gt;</th><th scope=col>&lt;chr&gt;</th><th scope=col>&lt;chr&gt;</th><th scope=col>&lt;chr&gt;</th><th scope=col>&lt;chr&gt;</th><th scope=col>&lt;chr&gt;</th><th scope=col>&lt;chr&gt;</th><th scope=col>&lt;chr&gt;</th><th scope=col>&lt;chr&gt;</th></tr>\n",
              "</thead>\n",
              "<tbody>\n",
              "\t<tr><td>Age 0-04</td><td>DECEASED    </td><td>12</td><td>S   </td><td>S</td><td>S</td><td>S</td><td>S</td><td>S  </td><td>S</td><td>⋯</td><td>S</td><td>S</td><td>S </td><td>S  </td><td>S</td><td>S</td><td>S</td><td>S </td><td>S</td><td>12  </td></tr>\n",
              "\t<tr><td>Age 0-04</td><td>DSS         </td><td>15</td><td>7854</td><td>S</td><td>S</td><td>S</td><td>S</td><td>186</td><td>S</td><td>⋯</td><td>S</td><td>S</td><td>6 </td><td>426</td><td>S</td><td>S</td><td>S</td><td>21</td><td>S</td><td>8532</td></tr>\n",
              "\t<tr><td>Age 0-04</td><td>DSS_EMPLOYED</td><td>S </td><td>S   </td><td>S</td><td>S</td><td>S</td><td>S</td><td>S  </td><td>S</td><td>⋯</td><td>S</td><td>S</td><td>S </td><td>S  </td><td>S</td><td>S</td><td>S</td><td>S </td><td>S</td><td>6   </td></tr>\n",
              "\t<tr><td>Age 0-04</td><td>DSS_HOSPITAL</td><td>9 </td><td>411 </td><td>S</td><td>S</td><td>S</td><td>S</td><td>231</td><td>S</td><td>⋯</td><td>S</td><td>S</td><td>18</td><td>42 </td><td>S</td><td>S</td><td>S</td><td>S </td><td>S</td><td>732 </td></tr>\n",
              "\t<tr><td>Age 0-04</td><td>DSS_T2      </td><td>S </td><td>S   </td><td>S</td><td>S</td><td>S</td><td>S</td><td>S  </td><td>S</td><td>⋯</td><td>S</td><td>S</td><td>S </td><td>S  </td><td>S</td><td>S</td><td>S</td><td>S </td><td>S</td><td>S   </td></tr>\n",
              "\t<tr><td>Age 0-04</td><td>DSS-OTHER   </td><td>S </td><td>27  </td><td>S</td><td>S</td><td>S</td><td>S</td><td>S  </td><td>S</td><td>⋯</td><td>S</td><td>S</td><td>S </td><td>S  </td><td>S</td><td>9</td><td>S</td><td>S </td><td>S</td><td>138 </td></tr>\n",
              "</tbody>\n",
              "</table>\n"
            ],
            "text/markdown": "\nA tibble: 6 × 24\n\n| age_groups &lt;chr&gt; | from_state &lt;chr&gt; | DECEASED &lt;chr&gt; | DSS &lt;chr&gt; | DSS_EDU &lt;chr&gt; | DSS_EDU_T1 &lt;chr&gt; | DSS_EMPLOYED &lt;chr&gt; | DSS_EMPLOYED_T1 &lt;chr&gt; | DSS_HOSPITAL &lt;chr&gt; | DSS_T1 &lt;chr&gt; | ⋯ ⋯ | EMPLOYED &lt;chr&gt; | EMPLOYED_T1 &lt;chr&gt; | HOSPITAL &lt;chr&gt; | NO DATA &lt;chr&gt; | NOT BORN YET &lt;chr&gt; | OT &lt;chr&gt; | OTHER &lt;chr&gt; | OVERSEAS &lt;chr&gt; | T1 &lt;chr&gt; | Grand Total &lt;chr&gt; |\n|---|---|---|---|---|---|---|---|---|---|---|---|---|---|---|---|---|---|---|---|---|\n| Age 0-04 | DECEASED     | 12 | S    | S | S | S | S | S   | S | ⋯ | S | S | S  | S   | S | S | S | S  | S | 12   |\n| Age 0-04 | DSS          | 15 | 7854 | S | S | S | S | 186 | S | ⋯ | S | S | 6  | 426 | S | S | S | 21 | S | 8532 |\n| Age 0-04 | DSS_EMPLOYED | S  | S    | S | S | S | S | S   | S | ⋯ | S | S | S  | S   | S | S | S | S  | S | 6    |\n| Age 0-04 | DSS_HOSPITAL | 9  | 411  | S | S | S | S | 231 | S | ⋯ | S | S | 18 | 42  | S | S | S | S  | S | 732  |\n| Age 0-04 | DSS_T2       | S  | S    | S | S | S | S | S   | S | ⋯ | S | S | S  | S   | S | S | S | S  | S | S    |\n| Age 0-04 | DSS-OTHER    | S  | 27   | S | S | S | S | S   | S | ⋯ | S | S | S  | S   | S | 9 | S | S  | S | 138  |\n\n",
            "text/latex": "A tibble: 6 × 24\n\\begin{tabular}{lllllllllllllllllllll}\n age\\_groups & from\\_state & DECEASED & DSS & DSS\\_EDU & DSS\\_EDU\\_T1 & DSS\\_EMPLOYED & DSS\\_EMPLOYED\\_T1 & DSS\\_HOSPITAL & DSS\\_T1 & ⋯ & EMPLOYED & EMPLOYED\\_T1 & HOSPITAL & NO DATA & NOT BORN YET & OT & OTHER & OVERSEAS & T1 & Grand Total\\\\\n <chr> & <chr> & <chr> & <chr> & <chr> & <chr> & <chr> & <chr> & <chr> & <chr> & ⋯ & <chr> & <chr> & <chr> & <chr> & <chr> & <chr> & <chr> & <chr> & <chr> & <chr>\\\\\n\\hline\n\t Age 0-04 & DECEASED     & 12 & S    & S & S & S & S & S   & S & ⋯ & S & S & S  & S   & S & S & S & S  & S & 12  \\\\\n\t Age 0-04 & DSS          & 15 & 7854 & S & S & S & S & 186 & S & ⋯ & S & S & 6  & 426 & S & S & S & 21 & S & 8532\\\\\n\t Age 0-04 & DSS\\_EMPLOYED & S  & S    & S & S & S & S & S   & S & ⋯ & S & S & S  & S   & S & S & S & S  & S & 6   \\\\\n\t Age 0-04 & DSS\\_HOSPITAL & 9  & 411  & S & S & S & S & 231 & S & ⋯ & S & S & 18 & 42  & S & S & S & S  & S & 732 \\\\\n\t Age 0-04 & DSS\\_T2       & S  & S    & S & S & S & S & S   & S & ⋯ & S & S & S  & S   & S & S & S & S  & S & S   \\\\\n\t Age 0-04 & DSS-OTHER    & S  & 27   & S & S & S & S & S   & S & ⋯ & S & S & S  & S   & S & 9 & S & S  & S & 138 \\\\\n\\end{tabular}\n",
            "text/plain": [
              "  age_groups from_state   DECEASED DSS  DSS_EDU DSS_EDU_T1 DSS_EMPLOYED\n",
              "1 Age 0-04   DECEASED     12       S    S       S          S           \n",
              "2 Age 0-04   DSS          15       7854 S       S          S           \n",
              "3 Age 0-04   DSS_EMPLOYED S        S    S       S          S           \n",
              "4 Age 0-04   DSS_HOSPITAL 9        411  S       S          S           \n",
              "5 Age 0-04   DSS_T2       S        S    S       S          S           \n",
              "6 Age 0-04   DSS-OTHER    S        27   S       S          S           \n",
              "  DSS_EMPLOYED_T1 DSS_HOSPITAL DSS_T1 ⋯ EMPLOYED EMPLOYED_T1 HOSPITAL NO DATA\n",
              "1 S               S            S      ⋯ S        S           S        S      \n",
              "2 S               186          S      ⋯ S        S           6        426    \n",
              "3 S               S            S      ⋯ S        S           S        S      \n",
              "4 S               231          S      ⋯ S        S           18       42     \n",
              "5 S               S            S      ⋯ S        S           S        S      \n",
              "6 S               S            S      ⋯ S        S           S        S      \n",
              "  NOT BORN YET OT OTHER OVERSEAS T1 Grand Total\n",
              "1 S            S  S     S        S  12         \n",
              "2 S            S  S     21       S  8532       \n",
              "3 S            S  S     S        S  6          \n",
              "4 S            S  S     S        S  732        \n",
              "5 S            S  S     S        S  S          \n",
              "6 S            9  S     S        S  138        "
            ]
          },
          "metadata": {}
        },
        {
          "output_type": "display_data",
          "data": {
            "text/html": [
              "<table class=\"dataframe\">\n",
              "<caption>A tibble: 6 × 23</caption>\n",
              "<thead>\n",
              "\t<tr><th scope=col>age_groups</th><th scope=col>from_state</th><th scope=col>DECEASED</th><th scope=col>DSS</th><th scope=col>DSS_EDU</th><th scope=col>DSS_EDU_T1</th><th scope=col>DSS_EMPLOYED</th><th scope=col>DSS_EMPLOYED_T1</th><th scope=col>DSS_HOSPITAL</th><th scope=col>DSS_T1</th><th scope=col>⋯</th><th scope=col>EDU_EMPLOYED</th><th scope=col>EMPLOYED</th><th scope=col>EMPLOYED_T1</th><th scope=col>HOSPITAL</th><th scope=col>NO DATA</th><th scope=col>OT</th><th scope=col>OTHER</th><th scope=col>OVERSEAS</th><th scope=col>T1</th><th scope=col>Grand Total</th></tr>\n",
              "\t<tr><th scope=col>&lt;chr&gt;</th><th scope=col>&lt;chr&gt;</th><th scope=col>&lt;chr&gt;</th><th scope=col>&lt;chr&gt;</th><th scope=col>&lt;chr&gt;</th><th scope=col>&lt;chr&gt;</th><th scope=col>&lt;chr&gt;</th><th scope=col>&lt;chr&gt;</th><th scope=col>&lt;chr&gt;</th><th scope=col>&lt;chr&gt;</th><th scope=col>⋯</th><th scope=col>&lt;chr&gt;</th><th scope=col>&lt;chr&gt;</th><th scope=col>&lt;chr&gt;</th><th scope=col>&lt;chr&gt;</th><th scope=col>&lt;chr&gt;</th><th scope=col>&lt;chr&gt;</th><th scope=col>&lt;chr&gt;</th><th scope=col>&lt;chr&gt;</th><th scope=col>&lt;chr&gt;</th><th scope=col>&lt;chr&gt;</th></tr>\n",
              "</thead>\n",
              "<tbody>\n",
              "\t<tr><td>Age 0-04</td><td>DECEASED    </td><td>9</td><td>S   </td><td>S</td><td>S</td><td>S</td><td>S</td><td>S </td><td>S</td><td>⋯</td><td>S</td><td>S</td><td>S</td><td>S</td><td>S </td><td>S</td><td>S</td><td>S</td><td>S</td><td>9   </td></tr>\n",
              "\t<tr><td>Age 0-04</td><td>DSS         </td><td>S</td><td>1311</td><td>S</td><td>S</td><td>S</td><td>S</td><td>12</td><td>S</td><td>⋯</td><td>S</td><td>S</td><td>S</td><td>S</td><td>93</td><td>S</td><td>S</td><td>S</td><td>S</td><td>1422</td></tr>\n",
              "\t<tr><td>Age 0-04</td><td>DSS_EMPLOYED</td><td>S</td><td>S   </td><td>S</td><td>S</td><td>S</td><td>S</td><td>S </td><td>S</td><td>⋯</td><td>S</td><td>S</td><td>S</td><td>S</td><td>S </td><td>S</td><td>S</td><td>S</td><td>S</td><td>S   </td></tr>\n",
              "\t<tr><td>Age 0-04</td><td>DSS_HOSPITAL</td><td>S</td><td>48  </td><td>S</td><td>S</td><td>S</td><td>S</td><td>15</td><td>S</td><td>⋯</td><td>S</td><td>S</td><td>S</td><td>S</td><td>S </td><td>S</td><td>S</td><td>S</td><td>S</td><td>72  </td></tr>\n",
              "\t<tr><td>Age 0-04</td><td>DSS-OTHER   </td><td>S</td><td>S   </td><td>S</td><td>S</td><td>S</td><td>S</td><td>S </td><td>S</td><td>⋯</td><td>S</td><td>S</td><td>S</td><td>S</td><td>S </td><td>S</td><td>S</td><td>S</td><td>S</td><td>18  </td></tr>\n",
              "\t<tr><td>Age 0-04</td><td>EMPLOYED    </td><td>S</td><td>S   </td><td>S</td><td>S</td><td>S</td><td>S</td><td>S </td><td>S</td><td>⋯</td><td>S</td><td>S</td><td>S</td><td>S</td><td>S </td><td>S</td><td>S</td><td>S</td><td>S</td><td>S   </td></tr>\n",
              "</tbody>\n",
              "</table>\n"
            ],
            "text/markdown": "\nA tibble: 6 × 23\n\n| age_groups &lt;chr&gt; | from_state &lt;chr&gt; | DECEASED &lt;chr&gt; | DSS &lt;chr&gt; | DSS_EDU &lt;chr&gt; | DSS_EDU_T1 &lt;chr&gt; | DSS_EMPLOYED &lt;chr&gt; | DSS_EMPLOYED_T1 &lt;chr&gt; | DSS_HOSPITAL &lt;chr&gt; | DSS_T1 &lt;chr&gt; | ⋯ ⋯ | EDU_EMPLOYED &lt;chr&gt; | EMPLOYED &lt;chr&gt; | EMPLOYED_T1 &lt;chr&gt; | HOSPITAL &lt;chr&gt; | NO DATA &lt;chr&gt; | OT &lt;chr&gt; | OTHER &lt;chr&gt; | OVERSEAS &lt;chr&gt; | T1 &lt;chr&gt; | Grand Total &lt;chr&gt; |\n|---|---|---|---|---|---|---|---|---|---|---|---|---|---|---|---|---|---|---|---|---|\n| Age 0-04 | DECEASED     | 9 | S    | S | S | S | S | S  | S | ⋯ | S | S | S | S | S  | S | S | S | S | 9    |\n| Age 0-04 | DSS          | S | 1311 | S | S | S | S | 12 | S | ⋯ | S | S | S | S | 93 | S | S | S | S | 1422 |\n| Age 0-04 | DSS_EMPLOYED | S | S    | S | S | S | S | S  | S | ⋯ | S | S | S | S | S  | S | S | S | S | S    |\n| Age 0-04 | DSS_HOSPITAL | S | 48   | S | S | S | S | 15 | S | ⋯ | S | S | S | S | S  | S | S | S | S | 72   |\n| Age 0-04 | DSS-OTHER    | S | S    | S | S | S | S | S  | S | ⋯ | S | S | S | S | S  | S | S | S | S | 18   |\n| Age 0-04 | EMPLOYED     | S | S    | S | S | S | S | S  | S | ⋯ | S | S | S | S | S  | S | S | S | S | S    |\n\n",
            "text/latex": "A tibble: 6 × 23\n\\begin{tabular}{lllllllllllllllllllll}\n age\\_groups & from\\_state & DECEASED & DSS & DSS\\_EDU & DSS\\_EDU\\_T1 & DSS\\_EMPLOYED & DSS\\_EMPLOYED\\_T1 & DSS\\_HOSPITAL & DSS\\_T1 & ⋯ & EDU\\_EMPLOYED & EMPLOYED & EMPLOYED\\_T1 & HOSPITAL & NO DATA & OT & OTHER & OVERSEAS & T1 & Grand Total\\\\\n <chr> & <chr> & <chr> & <chr> & <chr> & <chr> & <chr> & <chr> & <chr> & <chr> & ⋯ & <chr> & <chr> & <chr> & <chr> & <chr> & <chr> & <chr> & <chr> & <chr> & <chr>\\\\\n\\hline\n\t Age 0-04 & DECEASED     & 9 & S    & S & S & S & S & S  & S & ⋯ & S & S & S & S & S  & S & S & S & S & 9   \\\\\n\t Age 0-04 & DSS          & S & 1311 & S & S & S & S & 12 & S & ⋯ & S & S & S & S & 93 & S & S & S & S & 1422\\\\\n\t Age 0-04 & DSS\\_EMPLOYED & S & S    & S & S & S & S & S  & S & ⋯ & S & S & S & S & S  & S & S & S & S & S   \\\\\n\t Age 0-04 & DSS\\_HOSPITAL & S & 48   & S & S & S & S & 15 & S & ⋯ & S & S & S & S & S  & S & S & S & S & 72  \\\\\n\t Age 0-04 & DSS-OTHER    & S & S    & S & S & S & S & S  & S & ⋯ & S & S & S & S & S  & S & S & S & S & 18  \\\\\n\t Age 0-04 & EMPLOYED     & S & S    & S & S & S & S & S  & S & ⋯ & S & S & S & S & S  & S & S & S & S & S   \\\\\n\\end{tabular}\n",
            "text/plain": [
              "  age_groups from_state   DECEASED DSS  DSS_EDU DSS_EDU_T1 DSS_EMPLOYED\n",
              "1 Age 0-04   DECEASED     9        S    S       S          S           \n",
              "2 Age 0-04   DSS          S        1311 S       S          S           \n",
              "3 Age 0-04   DSS_EMPLOYED S        S    S       S          S           \n",
              "4 Age 0-04   DSS_HOSPITAL S        48   S       S          S           \n",
              "5 Age 0-04   DSS-OTHER    S        S    S       S          S           \n",
              "6 Age 0-04   EMPLOYED     S        S    S       S          S           \n",
              "  DSS_EMPLOYED_T1 DSS_HOSPITAL DSS_T1 ⋯ EDU_EMPLOYED EMPLOYED EMPLOYED_T1\n",
              "1 S               S            S      ⋯ S            S        S          \n",
              "2 S               12           S      ⋯ S            S        S          \n",
              "3 S               S            S      ⋯ S            S        S          \n",
              "4 S               15           S      ⋯ S            S        S          \n",
              "5 S               S            S      ⋯ S            S        S          \n",
              "6 S               S            S      ⋯ S            S        S          \n",
              "  HOSPITAL NO DATA OT OTHER OVERSEAS T1 Grand Total\n",
              "1 S        S       S  S     S        S  9          \n",
              "2 S        93      S  S     S        S  1422       \n",
              "3 S        S       S  S     S        S  S          \n",
              "4 S        S       S  S     S        S  72         \n",
              "5 S        S       S  S     S        S  18         \n",
              "6 S        S       S  S     S        S  S          "
            ]
          },
          "metadata": {}
        },
        {
          "output_type": "display_data",
          "data": {
            "text/html": [
              "<table class=\"dataframe\">\n",
              "<caption>A tibble: 6 × 3</caption>\n",
              "<thead>\n",
              "\t<tr><th scope=col>age_group</th><th scope=col>refyr</th><th scope=col>total_pop</th></tr>\n",
              "\t<tr><th scope=col>&lt;chr&gt;</th><th scope=col>&lt;dbl&gt;</th><th scope=col>&lt;dbl&gt;</th></tr>\n",
              "</thead>\n",
              "<tbody>\n",
              "\t<tr><td>Age 0-04</td><td>2010</td><td>1101</td></tr>\n",
              "\t<tr><td>Age 0-04</td><td>2011</td><td>1062</td></tr>\n",
              "\t<tr><td>Age 0-04</td><td>2012</td><td> 975</td></tr>\n",
              "\t<tr><td>Age 0-04</td><td>2013</td><td> 900</td></tr>\n",
              "\t<tr><td>Age 0-04</td><td>2014</td><td> 915</td></tr>\n",
              "\t<tr><td>Age 0-04</td><td>2015</td><td> 966</td></tr>\n",
              "</tbody>\n",
              "</table>\n"
            ],
            "text/markdown": "\nA tibble: 6 × 3\n\n| age_group &lt;chr&gt; | refyr &lt;dbl&gt; | total_pop &lt;dbl&gt; |\n|---|---|---|\n| Age 0-04 | 2010 | 1101 |\n| Age 0-04 | 2011 | 1062 |\n| Age 0-04 | 2012 |  975 |\n| Age 0-04 | 2013 |  900 |\n| Age 0-04 | 2014 |  915 |\n| Age 0-04 | 2015 |  966 |\n\n",
            "text/latex": "A tibble: 6 × 3\n\\begin{tabular}{lll}\n age\\_group & refyr & total\\_pop\\\\\n <chr> & <dbl> & <dbl>\\\\\n\\hline\n\t Age 0-04 & 2010 & 1101\\\\\n\t Age 0-04 & 2011 & 1062\\\\\n\t Age 0-04 & 2012 &  975\\\\\n\t Age 0-04 & 2013 &  900\\\\\n\t Age 0-04 & 2014 &  915\\\\\n\t Age 0-04 & 2015 &  966\\\\\n\\end{tabular}\n",
            "text/plain": [
              "  age_group refyr total_pop\n",
              "1 Age 0-04  2010  1101     \n",
              "2 Age 0-04  2011  1062     \n",
              "3 Age 0-04  2012   975     \n",
              "4 Age 0-04  2013   900     \n",
              "5 Age 0-04  2014   915     \n",
              "6 Age 0-04  2015   966     "
            ]
          },
          "metadata": {}
        },
        {
          "output_type": "display_data",
          "data": {
            "text/html": [
              "<table class=\"dataframe\">\n",
              "<caption>A tibble: 6 × 3</caption>\n",
              "<thead>\n",
              "\t<tr><th scope=col>age_group</th><th scope=col>refyr</th><th scope=col>Sum of new_entrants</th></tr>\n",
              "\t<tr><th scope=col>&lt;chr&gt;</th><th scope=col>&lt;dbl&gt;</th><th scope=col>&lt;dbl&gt;</th></tr>\n",
              "</thead>\n",
              "<tbody>\n",
              "\t<tr><td>Age 0-04</td><td>2010</td><td>1098</td></tr>\n",
              "\t<tr><td>Age 0-04</td><td>2011</td><td> 462</td></tr>\n",
              "\t<tr><td>Age 0-04</td><td>2012</td><td> 420</td></tr>\n",
              "\t<tr><td>Age 0-04</td><td>2013</td><td> 390</td></tr>\n",
              "\t<tr><td>Age 0-04</td><td>2014</td><td> 444</td></tr>\n",
              "\t<tr><td>Age 0-04</td><td>2015</td><td> 516</td></tr>\n",
              "</tbody>\n",
              "</table>\n"
            ],
            "text/markdown": "\nA tibble: 6 × 3\n\n| age_group &lt;chr&gt; | refyr &lt;dbl&gt; | Sum of new_entrants &lt;dbl&gt; |\n|---|---|---|\n| Age 0-04 | 2010 | 1098 |\n| Age 0-04 | 2011 |  462 |\n| Age 0-04 | 2012 |  420 |\n| Age 0-04 | 2013 |  390 |\n| Age 0-04 | 2014 |  444 |\n| Age 0-04 | 2015 |  516 |\n\n",
            "text/latex": "A tibble: 6 × 3\n\\begin{tabular}{lll}\n age\\_group & refyr & Sum of new\\_entrants\\\\\n <chr> & <dbl> & <dbl>\\\\\n\\hline\n\t Age 0-04 & 2010 & 1098\\\\\n\t Age 0-04 & 2011 &  462\\\\\n\t Age 0-04 & 2012 &  420\\\\\n\t Age 0-04 & 2013 &  390\\\\\n\t Age 0-04 & 2014 &  444\\\\\n\t Age 0-04 & 2015 &  516\\\\\n\\end{tabular}\n",
            "text/plain": [
              "  age_group refyr Sum of new_entrants\n",
              "1 Age 0-04  2010  1098               \n",
              "2 Age 0-04  2011   462               \n",
              "3 Age 0-04  2012   420               \n",
              "4 Age 0-04  2013   390               \n",
              "5 Age 0-04  2014   444               \n",
              "6 Age 0-04  2015   516               "
            ]
          },
          "metadata": {}
        }
      ]
    },
    {
      "cell_type": "code",
      "source": [
        "transition_counts <- transition_counts %>%\n",
        "  rename(age_group = age_groups)\n",
        "\n",
        "transition_counts_2021 <- transition_counts_2021 %>%\n",
        "  rename(age_group = age_groups)"
      ],
      "metadata": {
        "id": "ayljFEOQ3H57"
      },
      "execution_count": 6,
      "outputs": []
    },
    {
      "cell_type": "code",
      "source": [
        "names(transition_counts)\n",
        "names(transition_counts_2021)\n",
        "names(dss_pop_by_age)\n",
        "names(new_entrants)"
      ],
      "metadata": {
        "colab": {
          "base_uri": "https://localhost:8080/",
          "height": 121
        },
        "id": "Yj5teuNVy0XE",
        "outputId": "628d0519-42ea-4f6a-cf2e-244ba0044367"
      },
      "execution_count": 7,
      "outputs": [
        {
          "output_type": "display_data",
          "data": {
            "text/html": [
              "<style>\n",
              ".list-inline {list-style: none; margin:0; padding: 0}\n",
              ".list-inline>li {display: inline-block}\n",
              ".list-inline>li:not(:last-child)::after {content: \"\\00b7\"; padding: 0 .5ex}\n",
              "</style>\n",
              "<ol class=list-inline><li>'age_group'</li><li>'from_state'</li><li>'DECEASED'</li><li>'DSS'</li><li>'DSS_EDU'</li><li>'DSS_EDU_T1'</li><li>'DSS_EMPLOYED'</li><li>'DSS_EMPLOYED_T1'</li><li>'DSS_HOSPITAL'</li><li>'DSS_T1'</li><li>'DSS_T2'</li><li>'DSS-OTHER'</li><li>'EDU'</li><li>'EDU_EMPLOYED'</li><li>'EMPLOYED'</li><li>'EMPLOYED_T1'</li><li>'HOSPITAL'</li><li>'NO DATA'</li><li>'NOT BORN YET'</li><li>'OT'</li><li>'OTHER'</li><li>'OVERSEAS'</li><li>'T1'</li><li>'Grand Total'</li></ol>\n"
            ],
            "text/markdown": "1. 'age_group'\n2. 'from_state'\n3. 'DECEASED'\n4. 'DSS'\n5. 'DSS_EDU'\n6. 'DSS_EDU_T1'\n7. 'DSS_EMPLOYED'\n8. 'DSS_EMPLOYED_T1'\n9. 'DSS_HOSPITAL'\n10. 'DSS_T1'\n11. 'DSS_T2'\n12. 'DSS-OTHER'\n13. 'EDU'\n14. 'EDU_EMPLOYED'\n15. 'EMPLOYED'\n16. 'EMPLOYED_T1'\n17. 'HOSPITAL'\n18. 'NO DATA'\n19. 'NOT BORN YET'\n20. 'OT'\n21. 'OTHER'\n22. 'OVERSEAS'\n23. 'T1'\n24. 'Grand Total'\n\n\n",
            "text/latex": "\\begin{enumerate*}\n\\item 'age\\_group'\n\\item 'from\\_state'\n\\item 'DECEASED'\n\\item 'DSS'\n\\item 'DSS\\_EDU'\n\\item 'DSS\\_EDU\\_T1'\n\\item 'DSS\\_EMPLOYED'\n\\item 'DSS\\_EMPLOYED\\_T1'\n\\item 'DSS\\_HOSPITAL'\n\\item 'DSS\\_T1'\n\\item 'DSS\\_T2'\n\\item 'DSS-OTHER'\n\\item 'EDU'\n\\item 'EDU\\_EMPLOYED'\n\\item 'EMPLOYED'\n\\item 'EMPLOYED\\_T1'\n\\item 'HOSPITAL'\n\\item 'NO DATA'\n\\item 'NOT BORN YET'\n\\item 'OT'\n\\item 'OTHER'\n\\item 'OVERSEAS'\n\\item 'T1'\n\\item 'Grand Total'\n\\end{enumerate*}\n",
            "text/plain": [
              " [1] \"age_group\"       \"from_state\"      \"DECEASED\"        \"DSS\"            \n",
              " [5] \"DSS_EDU\"         \"DSS_EDU_T1\"      \"DSS_EMPLOYED\"    \"DSS_EMPLOYED_T1\"\n",
              " [9] \"DSS_HOSPITAL\"    \"DSS_T1\"          \"DSS_T2\"          \"DSS-OTHER\"      \n",
              "[13] \"EDU\"             \"EDU_EMPLOYED\"    \"EMPLOYED\"        \"EMPLOYED_T1\"    \n",
              "[17] \"HOSPITAL\"        \"NO DATA\"         \"NOT BORN YET\"    \"OT\"             \n",
              "[21] \"OTHER\"           \"OVERSEAS\"        \"T1\"              \"Grand Total\"    "
            ]
          },
          "metadata": {}
        },
        {
          "output_type": "display_data",
          "data": {
            "text/html": [
              "<style>\n",
              ".list-inline {list-style: none; margin:0; padding: 0}\n",
              ".list-inline>li {display: inline-block}\n",
              ".list-inline>li:not(:last-child)::after {content: \"\\00b7\"; padding: 0 .5ex}\n",
              "</style>\n",
              "<ol class=list-inline><li>'age_group'</li><li>'from_state'</li><li>'DECEASED'</li><li>'DSS'</li><li>'DSS_EDU'</li><li>'DSS_EDU_T1'</li><li>'DSS_EMPLOYED'</li><li>'DSS_EMPLOYED_T1'</li><li>'DSS_HOSPITAL'</li><li>'DSS_T1'</li><li>'DSS_T2'</li><li>'DSS-OTHER'</li><li>'EDU'</li><li>'EDU_EMPLOYED'</li><li>'EMPLOYED'</li><li>'EMPLOYED_T1'</li><li>'HOSPITAL'</li><li>'NO DATA'</li><li>'OT'</li><li>'OTHER'</li><li>'OVERSEAS'</li><li>'T1'</li><li>'Grand Total'</li></ol>\n"
            ],
            "text/markdown": "1. 'age_group'\n2. 'from_state'\n3. 'DECEASED'\n4. 'DSS'\n5. 'DSS_EDU'\n6. 'DSS_EDU_T1'\n7. 'DSS_EMPLOYED'\n8. 'DSS_EMPLOYED_T1'\n9. 'DSS_HOSPITAL'\n10. 'DSS_T1'\n11. 'DSS_T2'\n12. 'DSS-OTHER'\n13. 'EDU'\n14. 'EDU_EMPLOYED'\n15. 'EMPLOYED'\n16. 'EMPLOYED_T1'\n17. 'HOSPITAL'\n18. 'NO DATA'\n19. 'OT'\n20. 'OTHER'\n21. 'OVERSEAS'\n22. 'T1'\n23. 'Grand Total'\n\n\n",
            "text/latex": "\\begin{enumerate*}\n\\item 'age\\_group'\n\\item 'from\\_state'\n\\item 'DECEASED'\n\\item 'DSS'\n\\item 'DSS\\_EDU'\n\\item 'DSS\\_EDU\\_T1'\n\\item 'DSS\\_EMPLOYED'\n\\item 'DSS\\_EMPLOYED\\_T1'\n\\item 'DSS\\_HOSPITAL'\n\\item 'DSS\\_T1'\n\\item 'DSS\\_T2'\n\\item 'DSS-OTHER'\n\\item 'EDU'\n\\item 'EDU\\_EMPLOYED'\n\\item 'EMPLOYED'\n\\item 'EMPLOYED\\_T1'\n\\item 'HOSPITAL'\n\\item 'NO DATA'\n\\item 'OT'\n\\item 'OTHER'\n\\item 'OVERSEAS'\n\\item 'T1'\n\\item 'Grand Total'\n\\end{enumerate*}\n",
            "text/plain": [
              " [1] \"age_group\"       \"from_state\"      \"DECEASED\"        \"DSS\"            \n",
              " [5] \"DSS_EDU\"         \"DSS_EDU_T1\"      \"DSS_EMPLOYED\"    \"DSS_EMPLOYED_T1\"\n",
              " [9] \"DSS_HOSPITAL\"    \"DSS_T1\"          \"DSS_T2\"          \"DSS-OTHER\"      \n",
              "[13] \"EDU\"             \"EDU_EMPLOYED\"    \"EMPLOYED\"        \"EMPLOYED_T1\"    \n",
              "[17] \"HOSPITAL\"        \"NO DATA\"         \"OT\"              \"OTHER\"          \n",
              "[21] \"OVERSEAS\"        \"T1\"              \"Grand Total\"    "
            ]
          },
          "metadata": {}
        },
        {
          "output_type": "display_data",
          "data": {
            "text/html": [
              "<style>\n",
              ".list-inline {list-style: none; margin:0; padding: 0}\n",
              ".list-inline>li {display: inline-block}\n",
              ".list-inline>li:not(:last-child)::after {content: \"\\00b7\"; padding: 0 .5ex}\n",
              "</style>\n",
              "<ol class=list-inline><li>'age_group'</li><li>'refyr'</li><li>'total_pop'</li></ol>\n"
            ],
            "text/markdown": "1. 'age_group'\n2. 'refyr'\n3. 'total_pop'\n\n\n",
            "text/latex": "\\begin{enumerate*}\n\\item 'age\\_group'\n\\item 'refyr'\n\\item 'total\\_pop'\n\\end{enumerate*}\n",
            "text/plain": [
              "[1] \"age_group\" \"refyr\"     \"total_pop\""
            ]
          },
          "metadata": {}
        },
        {
          "output_type": "display_data",
          "data": {
            "text/html": [
              "<style>\n",
              ".list-inline {list-style: none; margin:0; padding: 0}\n",
              ".list-inline>li {display: inline-block}\n",
              ".list-inline>li:not(:last-child)::after {content: \"\\00b7\"; padding: 0 .5ex}\n",
              "</style>\n",
              "<ol class=list-inline><li>'age_group'</li><li>'refyr'</li><li>'Sum of new_entrants'</li></ol>\n"
            ],
            "text/markdown": "1. 'age_group'\n2. 'refyr'\n3. 'Sum of new_entrants'\n\n\n",
            "text/latex": "\\begin{enumerate*}\n\\item 'age\\_group'\n\\item 'refyr'\n\\item 'Sum of new\\_entrants'\n\\end{enumerate*}\n",
            "text/plain": [
              "[1] \"age_group\"           \"refyr\"               \"Sum of new_entrants\""
            ]
          },
          "metadata": {}
        }
      ]
    },
    {
      "cell_type": "code",
      "source": [
        "# Check the column names of the transition_counts dataframe\n",
        "print(names(transition_counts))"
      ],
      "metadata": {
        "colab": {
          "base_uri": "https://localhost:8080/"
        },
        "id": "Tanj5to49_iq",
        "outputId": "cfff77e8-9dcf-4460-d976-0769731c257a"
      },
      "execution_count": 8,
      "outputs": [
        {
          "output_type": "stream",
          "name": "stdout",
          "text": [
            " [1] \"age_group\"       \"from_state\"      \"DECEASED\"        \"DSS\"            \n",
            " [5] \"DSS_EDU\"         \"DSS_EDU_T1\"      \"DSS_EMPLOYED\"    \"DSS_EMPLOYED_T1\"\n",
            " [9] \"DSS_HOSPITAL\"    \"DSS_T1\"          \"DSS_T2\"          \"DSS-OTHER\"      \n",
            "[13] \"EDU\"             \"EDU_EMPLOYED\"    \"EMPLOYED\"        \"EMPLOYED_T1\"    \n",
            "[17] \"HOSPITAL\"        \"NO DATA\"         \"NOT BORN YET\"    \"OT\"             \n",
            "[21] \"OTHER\"           \"OVERSEAS\"        \"T1\"              \"Grand Total\"    \n"
          ]
        }
      ]
    },
    {
      "source": [
        "# Function to clean transition counts data\n",
        "clean_transition_data <- function(df) {\n",
        "  df %>%\n",
        "    mutate(across(-c(age_group, from_state), ~ replace(., . == \"S\", 0))) %>%\n",
        "    mutate(across(-c(age_group, from_state), as.numeric)) %>%\n",
        "    filter(!grepl(\"Total\", age_group)) %>%\n",
        "    select(-`Grand Total`)\n",
        "}\n",
        "\n",
        "# Function to clean DSS population and new entrants data\n",
        "clean_population_data <- function(df, col_to_clean) {\n",
        "  df %>%\n",
        "    mutate(across(all_of(col_to_clean), ~ replace(., . == \"S\", 0))) %>%\n",
        "    mutate(across(all_of(col_to_clean), as.numeric))\n",
        "}\n",
        "\n",
        "# Apply the function to clean the DSS population by age and new entrants data\n",
        "dss_pop_by_age <- clean_population_data(dss_pop_by_age, \"total_pop\")\n",
        "new_entrants <- clean_population_data(new_entrants, \"new_entrants\")\n",
        "\n",
        "# Verify the results\n",
        "head(transition_counts)\n",
        "head(transition_counts_2021)\n",
        "head(dss_pop_by_age)\n",
        "head(new_entrants)\n"
      ],
      "cell_type": "code",
      "metadata": {
        "colab": {
          "base_uri": "https://localhost:8080/",
          "height": 628
        },
        "id": "VgZiiNLy2LIn",
        "outputId": "a53ec8be-cdbd-4e68-b090-8d7b697b2ce4"
      },
      "execution_count": 13,
      "outputs": [
        {
          "output_type": "display_data",
          "data": {
            "text/html": [
              "<table class=\"dataframe\">\n",
              "<caption>A tibble: 6 × 23</caption>\n",
              "<thead>\n",
              "\t<tr><th scope=col>age_group</th><th scope=col>from_state</th><th scope=col>DECEASED</th><th scope=col>DSS</th><th scope=col>DSS_EDU</th><th scope=col>DSS_EDU_T1</th><th scope=col>DSS_EMPLOYED</th><th scope=col>DSS_EMPLOYED_T1</th><th scope=col>DSS_HOSPITAL</th><th scope=col>DSS_T1</th><th scope=col>⋯</th><th scope=col>EDU_EMPLOYED</th><th scope=col>EMPLOYED</th><th scope=col>EMPLOYED_T1</th><th scope=col>HOSPITAL</th><th scope=col>NO DATA</th><th scope=col>NOT BORN YET</th><th scope=col>OT</th><th scope=col>OTHER</th><th scope=col>OVERSEAS</th><th scope=col>T1</th></tr>\n",
              "\t<tr><th scope=col>&lt;chr&gt;</th><th scope=col>&lt;chr&gt;</th><th scope=col>&lt;dbl&gt;</th><th scope=col>&lt;dbl&gt;</th><th scope=col>&lt;dbl&gt;</th><th scope=col>&lt;dbl&gt;</th><th scope=col>&lt;dbl&gt;</th><th scope=col>&lt;dbl&gt;</th><th scope=col>&lt;dbl&gt;</th><th scope=col>&lt;dbl&gt;</th><th scope=col>⋯</th><th scope=col>&lt;dbl&gt;</th><th scope=col>&lt;dbl&gt;</th><th scope=col>&lt;dbl&gt;</th><th scope=col>&lt;dbl&gt;</th><th scope=col>&lt;dbl&gt;</th><th scope=col>&lt;dbl&gt;</th><th scope=col>&lt;dbl&gt;</th><th scope=col>&lt;dbl&gt;</th><th scope=col>&lt;dbl&gt;</th><th scope=col>&lt;dbl&gt;</th></tr>\n",
              "</thead>\n",
              "<tbody>\n",
              "\t<tr><td>Age 0-04</td><td>DECEASED    </td><td>12</td><td>   0</td><td>0</td><td>0</td><td>0</td><td>0</td><td>  0</td><td>0</td><td>⋯</td><td>0</td><td>0</td><td>0</td><td> 0</td><td>  0</td><td>0</td><td>0</td><td>0</td><td> 0</td><td>0</td></tr>\n",
              "\t<tr><td>Age 0-04</td><td>DSS         </td><td>15</td><td>7854</td><td>0</td><td>0</td><td>0</td><td>0</td><td>186</td><td>0</td><td>⋯</td><td>0</td><td>0</td><td>0</td><td> 6</td><td>426</td><td>0</td><td>0</td><td>0</td><td>21</td><td>0</td></tr>\n",
              "\t<tr><td>Age 0-04</td><td>DSS_EMPLOYED</td><td> 0</td><td>   0</td><td>0</td><td>0</td><td>0</td><td>0</td><td>  0</td><td>0</td><td>⋯</td><td>0</td><td>0</td><td>0</td><td> 0</td><td>  0</td><td>0</td><td>0</td><td>0</td><td> 0</td><td>0</td></tr>\n",
              "\t<tr><td>Age 0-04</td><td>DSS_HOSPITAL</td><td> 9</td><td> 411</td><td>0</td><td>0</td><td>0</td><td>0</td><td>231</td><td>0</td><td>⋯</td><td>0</td><td>0</td><td>0</td><td>18</td><td> 42</td><td>0</td><td>0</td><td>0</td><td> 0</td><td>0</td></tr>\n",
              "\t<tr><td>Age 0-04</td><td>DSS_T2      </td><td> 0</td><td>   0</td><td>0</td><td>0</td><td>0</td><td>0</td><td>  0</td><td>0</td><td>⋯</td><td>0</td><td>0</td><td>0</td><td> 0</td><td>  0</td><td>0</td><td>0</td><td>0</td><td> 0</td><td>0</td></tr>\n",
              "\t<tr><td>Age 0-04</td><td>DSS-OTHER   </td><td> 0</td><td>  27</td><td>0</td><td>0</td><td>0</td><td>0</td><td>  0</td><td>0</td><td>⋯</td><td>0</td><td>0</td><td>0</td><td> 0</td><td>  0</td><td>0</td><td>9</td><td>0</td><td> 0</td><td>0</td></tr>\n",
              "</tbody>\n",
              "</table>\n"
            ],
            "text/markdown": "\nA tibble: 6 × 23\n\n| age_group &lt;chr&gt; | from_state &lt;chr&gt; | DECEASED &lt;dbl&gt; | DSS &lt;dbl&gt; | DSS_EDU &lt;dbl&gt; | DSS_EDU_T1 &lt;dbl&gt; | DSS_EMPLOYED &lt;dbl&gt; | DSS_EMPLOYED_T1 &lt;dbl&gt; | DSS_HOSPITAL &lt;dbl&gt; | DSS_T1 &lt;dbl&gt; | ⋯ ⋯ | EDU_EMPLOYED &lt;dbl&gt; | EMPLOYED &lt;dbl&gt; | EMPLOYED_T1 &lt;dbl&gt; | HOSPITAL &lt;dbl&gt; | NO DATA &lt;dbl&gt; | NOT BORN YET &lt;dbl&gt; | OT &lt;dbl&gt; | OTHER &lt;dbl&gt; | OVERSEAS &lt;dbl&gt; | T1 &lt;dbl&gt; |\n|---|---|---|---|---|---|---|---|---|---|---|---|---|---|---|---|---|---|---|---|---|\n| Age 0-04 | DECEASED     | 12 |    0 | 0 | 0 | 0 | 0 |   0 | 0 | ⋯ | 0 | 0 | 0 |  0 |   0 | 0 | 0 | 0 |  0 | 0 |\n| Age 0-04 | DSS          | 15 | 7854 | 0 | 0 | 0 | 0 | 186 | 0 | ⋯ | 0 | 0 | 0 |  6 | 426 | 0 | 0 | 0 | 21 | 0 |\n| Age 0-04 | DSS_EMPLOYED |  0 |    0 | 0 | 0 | 0 | 0 |   0 | 0 | ⋯ | 0 | 0 | 0 |  0 |   0 | 0 | 0 | 0 |  0 | 0 |\n| Age 0-04 | DSS_HOSPITAL |  9 |  411 | 0 | 0 | 0 | 0 | 231 | 0 | ⋯ | 0 | 0 | 0 | 18 |  42 | 0 | 0 | 0 |  0 | 0 |\n| Age 0-04 | DSS_T2       |  0 |    0 | 0 | 0 | 0 | 0 |   0 | 0 | ⋯ | 0 | 0 | 0 |  0 |   0 | 0 | 0 | 0 |  0 | 0 |\n| Age 0-04 | DSS-OTHER    |  0 |   27 | 0 | 0 | 0 | 0 |   0 | 0 | ⋯ | 0 | 0 | 0 |  0 |   0 | 0 | 9 | 0 |  0 | 0 |\n\n",
            "text/latex": "A tibble: 6 × 23\n\\begin{tabular}{lllllllllllllllllllll}\n age\\_group & from\\_state & DECEASED & DSS & DSS\\_EDU & DSS\\_EDU\\_T1 & DSS\\_EMPLOYED & DSS\\_EMPLOYED\\_T1 & DSS\\_HOSPITAL & DSS\\_T1 & ⋯ & EDU\\_EMPLOYED & EMPLOYED & EMPLOYED\\_T1 & HOSPITAL & NO DATA & NOT BORN YET & OT & OTHER & OVERSEAS & T1\\\\\n <chr> & <chr> & <dbl> & <dbl> & <dbl> & <dbl> & <dbl> & <dbl> & <dbl> & <dbl> & ⋯ & <dbl> & <dbl> & <dbl> & <dbl> & <dbl> & <dbl> & <dbl> & <dbl> & <dbl> & <dbl>\\\\\n\\hline\n\t Age 0-04 & DECEASED     & 12 &    0 & 0 & 0 & 0 & 0 &   0 & 0 & ⋯ & 0 & 0 & 0 &  0 &   0 & 0 & 0 & 0 &  0 & 0\\\\\n\t Age 0-04 & DSS          & 15 & 7854 & 0 & 0 & 0 & 0 & 186 & 0 & ⋯ & 0 & 0 & 0 &  6 & 426 & 0 & 0 & 0 & 21 & 0\\\\\n\t Age 0-04 & DSS\\_EMPLOYED &  0 &    0 & 0 & 0 & 0 & 0 &   0 & 0 & ⋯ & 0 & 0 & 0 &  0 &   0 & 0 & 0 & 0 &  0 & 0\\\\\n\t Age 0-04 & DSS\\_HOSPITAL &  9 &  411 & 0 & 0 & 0 & 0 & 231 & 0 & ⋯ & 0 & 0 & 0 & 18 &  42 & 0 & 0 & 0 &  0 & 0\\\\\n\t Age 0-04 & DSS\\_T2       &  0 &    0 & 0 & 0 & 0 & 0 &   0 & 0 & ⋯ & 0 & 0 & 0 &  0 &   0 & 0 & 0 & 0 &  0 & 0\\\\\n\t Age 0-04 & DSS-OTHER    &  0 &   27 & 0 & 0 & 0 & 0 &   0 & 0 & ⋯ & 0 & 0 & 0 &  0 &   0 & 0 & 9 & 0 &  0 & 0\\\\\n\\end{tabular}\n",
            "text/plain": [
              "  age_group from_state   DECEASED DSS  DSS_EDU DSS_EDU_T1 DSS_EMPLOYED\n",
              "1 Age 0-04  DECEASED     12          0 0       0          0           \n",
              "2 Age 0-04  DSS          15       7854 0       0          0           \n",
              "3 Age 0-04  DSS_EMPLOYED  0          0 0       0          0           \n",
              "4 Age 0-04  DSS_HOSPITAL  9        411 0       0          0           \n",
              "5 Age 0-04  DSS_T2        0          0 0       0          0           \n",
              "6 Age 0-04  DSS-OTHER     0         27 0       0          0           \n",
              "  DSS_EMPLOYED_T1 DSS_HOSPITAL DSS_T1 ⋯ EDU_EMPLOYED EMPLOYED EMPLOYED_T1\n",
              "1 0                 0          0      ⋯ 0            0        0          \n",
              "2 0               186          0      ⋯ 0            0        0          \n",
              "3 0                 0          0      ⋯ 0            0        0          \n",
              "4 0               231          0      ⋯ 0            0        0          \n",
              "5 0                 0          0      ⋯ 0            0        0          \n",
              "6 0                 0          0      ⋯ 0            0        0          \n",
              "  HOSPITAL NO DATA NOT BORN YET OT OTHER OVERSEAS T1\n",
              "1  0         0     0            0  0      0       0 \n",
              "2  6       426     0            0  0     21       0 \n",
              "3  0         0     0            0  0      0       0 \n",
              "4 18        42     0            0  0      0       0 \n",
              "5  0         0     0            0  0      0       0 \n",
              "6  0         0     0            9  0      0       0 "
            ]
          },
          "metadata": {}
        },
        {
          "output_type": "display_data",
          "data": {
            "text/html": [
              "<table class=\"dataframe\">\n",
              "<caption>A tibble: 6 × 22</caption>\n",
              "<thead>\n",
              "\t<tr><th scope=col>age_group</th><th scope=col>from_state</th><th scope=col>DECEASED</th><th scope=col>DSS</th><th scope=col>DSS_EDU</th><th scope=col>DSS_EDU_T1</th><th scope=col>DSS_EMPLOYED</th><th scope=col>DSS_EMPLOYED_T1</th><th scope=col>DSS_HOSPITAL</th><th scope=col>DSS_T1</th><th scope=col>⋯</th><th scope=col>EDU</th><th scope=col>EDU_EMPLOYED</th><th scope=col>EMPLOYED</th><th scope=col>EMPLOYED_T1</th><th scope=col>HOSPITAL</th><th scope=col>NO DATA</th><th scope=col>OT</th><th scope=col>OTHER</th><th scope=col>OVERSEAS</th><th scope=col>T1</th></tr>\n",
              "\t<tr><th scope=col>&lt;chr&gt;</th><th scope=col>&lt;chr&gt;</th><th scope=col>&lt;dbl&gt;</th><th scope=col>&lt;dbl&gt;</th><th scope=col>&lt;dbl&gt;</th><th scope=col>&lt;dbl&gt;</th><th scope=col>&lt;dbl&gt;</th><th scope=col>&lt;dbl&gt;</th><th scope=col>&lt;dbl&gt;</th><th scope=col>&lt;dbl&gt;</th><th scope=col>⋯</th><th scope=col>&lt;dbl&gt;</th><th scope=col>&lt;dbl&gt;</th><th scope=col>&lt;dbl&gt;</th><th scope=col>&lt;dbl&gt;</th><th scope=col>&lt;dbl&gt;</th><th scope=col>&lt;dbl&gt;</th><th scope=col>&lt;dbl&gt;</th><th scope=col>&lt;dbl&gt;</th><th scope=col>&lt;dbl&gt;</th><th scope=col>&lt;dbl&gt;</th></tr>\n",
              "</thead>\n",
              "<tbody>\n",
              "\t<tr><td>Age 0-04</td><td>DECEASED    </td><td>9</td><td>   0</td><td>0</td><td>0</td><td>0</td><td>0</td><td> 0</td><td>0</td><td>⋯</td><td>0</td><td>0</td><td>0</td><td>0</td><td>0</td><td> 0</td><td>0</td><td>0</td><td>0</td><td>0</td></tr>\n",
              "\t<tr><td>Age 0-04</td><td>DSS         </td><td>0</td><td>1311</td><td>0</td><td>0</td><td>0</td><td>0</td><td>12</td><td>0</td><td>⋯</td><td>0</td><td>0</td><td>0</td><td>0</td><td>0</td><td>93</td><td>0</td><td>0</td><td>0</td><td>0</td></tr>\n",
              "\t<tr><td>Age 0-04</td><td>DSS_EMPLOYED</td><td>0</td><td>   0</td><td>0</td><td>0</td><td>0</td><td>0</td><td> 0</td><td>0</td><td>⋯</td><td>0</td><td>0</td><td>0</td><td>0</td><td>0</td><td> 0</td><td>0</td><td>0</td><td>0</td><td>0</td></tr>\n",
              "\t<tr><td>Age 0-04</td><td>DSS_HOSPITAL</td><td>0</td><td>  48</td><td>0</td><td>0</td><td>0</td><td>0</td><td>15</td><td>0</td><td>⋯</td><td>0</td><td>0</td><td>0</td><td>0</td><td>0</td><td> 0</td><td>0</td><td>0</td><td>0</td><td>0</td></tr>\n",
              "\t<tr><td>Age 0-04</td><td>DSS-OTHER   </td><td>0</td><td>   0</td><td>0</td><td>0</td><td>0</td><td>0</td><td> 0</td><td>0</td><td>⋯</td><td>0</td><td>0</td><td>0</td><td>0</td><td>0</td><td> 0</td><td>0</td><td>0</td><td>0</td><td>0</td></tr>\n",
              "\t<tr><td>Age 0-04</td><td>EMPLOYED    </td><td>0</td><td>   0</td><td>0</td><td>0</td><td>0</td><td>0</td><td> 0</td><td>0</td><td>⋯</td><td>0</td><td>0</td><td>0</td><td>0</td><td>0</td><td> 0</td><td>0</td><td>0</td><td>0</td><td>0</td></tr>\n",
              "</tbody>\n",
              "</table>\n"
            ],
            "text/markdown": "\nA tibble: 6 × 22\n\n| age_group &lt;chr&gt; | from_state &lt;chr&gt; | DECEASED &lt;dbl&gt; | DSS &lt;dbl&gt; | DSS_EDU &lt;dbl&gt; | DSS_EDU_T1 &lt;dbl&gt; | DSS_EMPLOYED &lt;dbl&gt; | DSS_EMPLOYED_T1 &lt;dbl&gt; | DSS_HOSPITAL &lt;dbl&gt; | DSS_T1 &lt;dbl&gt; | ⋯ ⋯ | EDU &lt;dbl&gt; | EDU_EMPLOYED &lt;dbl&gt; | EMPLOYED &lt;dbl&gt; | EMPLOYED_T1 &lt;dbl&gt; | HOSPITAL &lt;dbl&gt; | NO DATA &lt;dbl&gt; | OT &lt;dbl&gt; | OTHER &lt;dbl&gt; | OVERSEAS &lt;dbl&gt; | T1 &lt;dbl&gt; |\n|---|---|---|---|---|---|---|---|---|---|---|---|---|---|---|---|---|---|---|---|---|\n| Age 0-04 | DECEASED     | 9 |    0 | 0 | 0 | 0 | 0 |  0 | 0 | ⋯ | 0 | 0 | 0 | 0 | 0 |  0 | 0 | 0 | 0 | 0 |\n| Age 0-04 | DSS          | 0 | 1311 | 0 | 0 | 0 | 0 | 12 | 0 | ⋯ | 0 | 0 | 0 | 0 | 0 | 93 | 0 | 0 | 0 | 0 |\n| Age 0-04 | DSS_EMPLOYED | 0 |    0 | 0 | 0 | 0 | 0 |  0 | 0 | ⋯ | 0 | 0 | 0 | 0 | 0 |  0 | 0 | 0 | 0 | 0 |\n| Age 0-04 | DSS_HOSPITAL | 0 |   48 | 0 | 0 | 0 | 0 | 15 | 0 | ⋯ | 0 | 0 | 0 | 0 | 0 |  0 | 0 | 0 | 0 | 0 |\n| Age 0-04 | DSS-OTHER    | 0 |    0 | 0 | 0 | 0 | 0 |  0 | 0 | ⋯ | 0 | 0 | 0 | 0 | 0 |  0 | 0 | 0 | 0 | 0 |\n| Age 0-04 | EMPLOYED     | 0 |    0 | 0 | 0 | 0 | 0 |  0 | 0 | ⋯ | 0 | 0 | 0 | 0 | 0 |  0 | 0 | 0 | 0 | 0 |\n\n",
            "text/latex": "A tibble: 6 × 22\n\\begin{tabular}{lllllllllllllllllllll}\n age\\_group & from\\_state & DECEASED & DSS & DSS\\_EDU & DSS\\_EDU\\_T1 & DSS\\_EMPLOYED & DSS\\_EMPLOYED\\_T1 & DSS\\_HOSPITAL & DSS\\_T1 & ⋯ & EDU & EDU\\_EMPLOYED & EMPLOYED & EMPLOYED\\_T1 & HOSPITAL & NO DATA & OT & OTHER & OVERSEAS & T1\\\\\n <chr> & <chr> & <dbl> & <dbl> & <dbl> & <dbl> & <dbl> & <dbl> & <dbl> & <dbl> & ⋯ & <dbl> & <dbl> & <dbl> & <dbl> & <dbl> & <dbl> & <dbl> & <dbl> & <dbl> & <dbl>\\\\\n\\hline\n\t Age 0-04 & DECEASED     & 9 &    0 & 0 & 0 & 0 & 0 &  0 & 0 & ⋯ & 0 & 0 & 0 & 0 & 0 &  0 & 0 & 0 & 0 & 0\\\\\n\t Age 0-04 & DSS          & 0 & 1311 & 0 & 0 & 0 & 0 & 12 & 0 & ⋯ & 0 & 0 & 0 & 0 & 0 & 93 & 0 & 0 & 0 & 0\\\\\n\t Age 0-04 & DSS\\_EMPLOYED & 0 &    0 & 0 & 0 & 0 & 0 &  0 & 0 & ⋯ & 0 & 0 & 0 & 0 & 0 &  0 & 0 & 0 & 0 & 0\\\\\n\t Age 0-04 & DSS\\_HOSPITAL & 0 &   48 & 0 & 0 & 0 & 0 & 15 & 0 & ⋯ & 0 & 0 & 0 & 0 & 0 &  0 & 0 & 0 & 0 & 0\\\\\n\t Age 0-04 & DSS-OTHER    & 0 &    0 & 0 & 0 & 0 & 0 &  0 & 0 & ⋯ & 0 & 0 & 0 & 0 & 0 &  0 & 0 & 0 & 0 & 0\\\\\n\t Age 0-04 & EMPLOYED     & 0 &    0 & 0 & 0 & 0 & 0 &  0 & 0 & ⋯ & 0 & 0 & 0 & 0 & 0 &  0 & 0 & 0 & 0 & 0\\\\\n\\end{tabular}\n",
            "text/plain": [
              "  age_group from_state   DECEASED DSS  DSS_EDU DSS_EDU_T1 DSS_EMPLOYED\n",
              "1 Age 0-04  DECEASED     9           0 0       0          0           \n",
              "2 Age 0-04  DSS          0        1311 0       0          0           \n",
              "3 Age 0-04  DSS_EMPLOYED 0           0 0       0          0           \n",
              "4 Age 0-04  DSS_HOSPITAL 0          48 0       0          0           \n",
              "5 Age 0-04  DSS-OTHER    0           0 0       0          0           \n",
              "6 Age 0-04  EMPLOYED     0           0 0       0          0           \n",
              "  DSS_EMPLOYED_T1 DSS_HOSPITAL DSS_T1 ⋯ EDU EDU_EMPLOYED EMPLOYED EMPLOYED_T1\n",
              "1 0                0           0      ⋯ 0   0            0        0          \n",
              "2 0               12           0      ⋯ 0   0            0        0          \n",
              "3 0                0           0      ⋯ 0   0            0        0          \n",
              "4 0               15           0      ⋯ 0   0            0        0          \n",
              "5 0                0           0      ⋯ 0   0            0        0          \n",
              "6 0                0           0      ⋯ 0   0            0        0          \n",
              "  HOSPITAL NO DATA OT OTHER OVERSEAS T1\n",
              "1 0         0      0  0     0        0 \n",
              "2 0        93      0  0     0        0 \n",
              "3 0         0      0  0     0        0 \n",
              "4 0         0      0  0     0        0 \n",
              "5 0         0      0  0     0        0 \n",
              "6 0         0      0  0     0        0 "
            ]
          },
          "metadata": {}
        }
      ]
    },
    {
      "cell_type": "markdown",
      "source": [
        "## Step 2: Calculate Historical Transition Probabilities\n"
      ],
      "metadata": {
        "id": "7jDH8uJ7sybs"
      }
    },
    {
      "cell_type": "markdown",
      "source": [
        "1. Compute Transition Counts and Probabilities:"
      ],
      "metadata": {
        "id": "9AtABXRVwXrZ"
      }
    },
    {
      "cell_type": "code",
      "source": [
        "# Transform the transition counts data to a long format\n",
        "transition_counts_long <- transition_counts %>%\n",
        "  pivot_longer(cols = -c(age_group, from_state), names_to = \"to_state\", values_to = \"count\") %>%\n",
        "  filter(!is.na(count))\n",
        "\n",
        "transition_counts_2021_long <- transition_counts_2021 %>%\n",
        "  pivot_longer(cols = -c(age_group, from_state), names_to = \"to_state\", values_to = \"count\") %>%\n",
        "  filter(!is.na(count))\n",
        "\n",
        "# Compute transition probabilities\n",
        "transition_probabilities <- transition_counts_long %>%\n",
        "  group_by(age_group, from_state) %>%\n",
        "  summarise(total_count = sum(count), .groups = 'drop') %>%\n",
        "  left_join(transition_counts_long, by = c(\"age_group\", \"from_state\")) %>%\n",
        "  mutate(probability = count / total_count) %>%\n",
        "  select(age_group, from_state, to_state, probability)\n",
        "\n",
        "\n"
      ],
      "metadata": {
        "id": "n--a9T6gwYwp"
      },
      "execution_count": 14,
      "outputs": []
    },
    {
      "cell_type": "code",
      "source": [
        "print(transition_probabilities)"
      ],
      "metadata": {
        "colab": {
          "base_uri": "https://localhost:8080/"
        },
        "id": "LG152PJz_r_I",
        "outputId": "75542c4e-6537-4e3c-efc0-121b31433df8"
      },
      "execution_count": 15,
      "outputs": [
        {
          "output_type": "stream",
          "name": "stdout",
          "text": [
            "\u001b[90m# A tibble: 2,583 × 4\u001b[39m\n",
            "   age_group from_state to_state        probability\n",
            "   \u001b[3m\u001b[90m<chr>\u001b[39m\u001b[23m     \u001b[3m\u001b[90m<chr>\u001b[39m\u001b[23m      \u001b[3m\u001b[90m<chr>\u001b[39m\u001b[23m                 \u001b[3m\u001b[90m<dbl>\u001b[39m\u001b[23m\n",
            "\u001b[90m 1\u001b[39m Age 0-04  DECEASED   DECEASED                  1\n",
            "\u001b[90m 2\u001b[39m Age 0-04  DECEASED   DSS                       0\n",
            "\u001b[90m 3\u001b[39m Age 0-04  DECEASED   DSS_EDU                   0\n",
            "\u001b[90m 4\u001b[39m Age 0-04  DECEASED   DSS_EDU_T1                0\n",
            "\u001b[90m 5\u001b[39m Age 0-04  DECEASED   DSS_EMPLOYED              0\n",
            "\u001b[90m 6\u001b[39m Age 0-04  DECEASED   DSS_EMPLOYED_T1           0\n",
            "\u001b[90m 7\u001b[39m Age 0-04  DECEASED   DSS_HOSPITAL              0\n",
            "\u001b[90m 8\u001b[39m Age 0-04  DECEASED   DSS_T1                    0\n",
            "\u001b[90m 9\u001b[39m Age 0-04  DECEASED   DSS_T2                    0\n",
            "\u001b[90m10\u001b[39m Age 0-04  DECEASED   DSS-OTHER                 0\n",
            "\u001b[90m# ℹ 2,573 more rows\u001b[39m\n"
          ]
        }
      ]
    },
    {
      "cell_type": "markdown",
      "source": [
        "## Step 3: Estimate New Entrants\n",
        "\n",
        "1. Estimate the Total Population by Age Group:"
      ],
      "metadata": {
        "id": "bQUp0z5u36Nx"
      }
    },
    {
      "cell_type": "code",
      "source": [
        "# Assuming dss_pop_by_age contains the total population by age group for each year\n",
        "dss_pop_by_age_summary <- dss_pop_by_age %>%\n",
        "  group_by(age_group) %>%\n",
        "  summarise(total_pop = sum(total_pop), .groups = 'drop')\n"
      ],
      "metadata": {
        "id": "opUFeHIA4Abv"
      },
      "execution_count": 30,
      "outputs": []
    },
    {
      "cell_type": "code",
      "source": [
        "# Rename new entrants columns\n",
        "new_entrants <- new_entrants %>%\n",
        "  rename(new_entrants = `Sum of new_entrants`)"
      ],
      "metadata": {
        "id": "LHxL5dxreywd"
      },
      "execution_count": 24,
      "outputs": []
    },
    {
      "cell_type": "markdown",
      "source": [
        "2. Assume a Percentage for New Entrants:"
      ],
      "metadata": {
        "id": "bHjvDLCm4BuP"
      }
    },
    {
      "cell_type": "code",
      "source": [
        "names(new_entrants)"
      ],
      "metadata": {
        "id": "4NKQDrUqeUfz",
        "outputId": "cf3e07e1-2e90-44af-b4c1-24d98b126563",
        "colab": {
          "base_uri": "https://localhost:8080/",
          "height": 34
        }
      },
      "execution_count": 25,
      "outputs": [
        {
          "output_type": "display_data",
          "data": {
            "text/html": [
              "<style>\n",
              ".list-inline {list-style: none; margin:0; padding: 0}\n",
              ".list-inline>li {display: inline-block}\n",
              ".list-inline>li:not(:last-child)::after {content: \"\\00b7\"; padding: 0 .5ex}\n",
              "</style>\n",
              "<ol class=list-inline><li>'age_group'</li><li>'refyr'</li><li>'new_entrants'</li></ol>\n"
            ],
            "text/markdown": "1. 'age_group'\n2. 'refyr'\n3. 'new_entrants'\n\n\n",
            "text/latex": "\\begin{enumerate*}\n\\item 'age\\_group'\n\\item 'refyr'\n\\item 'new\\_entrants'\n\\end{enumerate*}\n",
            "text/plain": [
              "[1] \"age_group\"    \"refyr\"        \"new_entrants\""
            ]
          },
          "metadata": {}
        }
      ]
    },
    {
      "cell_type": "code",
      "source": [
        "# Assuming new_entrants contains the number of new entrants by age group for each year\n",
        "new_entrants_summary <- new_entrants %>%\n",
        "  group_by(age_group) %>%\n",
        "  summarise(total_new_entrants = sum(new_entrants), .groups = 'drop')\n",
        "\n",
        "# Calculate the percentage of new entrants\n",
        "new_entrants_percentage <- new_entrants_summary %>%\n",
        "  left_join(dss_pop_by_age_summary, by = \"age_group\") %>%\n",
        "  mutate(percentage_new_entrants = total_new_entrants / total_pop)\n"
      ],
      "metadata": {
        "id": "bS7dr9dC4Do9"
      },
      "execution_count": 26,
      "outputs": []
    },
    {
      "cell_type": "markdown",
      "source": [
        "3. Distribute New Entrants by State:"
      ],
      "metadata": {
        "id": "vRtN8eDg4Gij"
      }
    },
    {
      "cell_type": "code",
      "source": [
        "# Assuming the initial distribution of new entrants across states can be estimated from historical data\n",
        "initial_state_distribution <- transition_counts_long %>%\n",
        "  filter(from_state == \"DSS\") %>%\n",
        "  group_by(age_group, to_state) %>%\n",
        "  summarise(count = sum(count), .groups = 'drop') %>%\n",
        "  mutate(probability = count / sum(count))\n",
        "\n",
        "# Apply this distribution to estimate the number of new entrants by state\n",
        "new_entrants_by_state <- new_entrants_summary %>%\n",
        "  left_join(initial_state_distribution, by = \"age_group\") %>%\n",
        "  mutate(new_entrants_by_state = total_new_entrants * probability) %>%\n",
        "  select(age_group, to_state, new_entrants_by_state)\n",
        "\n"
      ],
      "metadata": {
        "id": "Qbn-_5Z04G5E"
      },
      "execution_count": 27,
      "outputs": []
    },
    {
      "cell_type": "markdown",
      "source": [
        "## Step 4: Model Initialization for Future Projection\n",
        "1. Set Initial Population for Simulation\n",
        "\n",
        "Use the population data from the last available year before 2021 (e.g., 2020) as your initial cohort."
      ],
      "metadata": {
        "id": "T56pR4ms4Kb9"
      }
    },
    {
      "cell_type": "code",
      "source": [
        "initial_population_2020 <- dss_pop_by_age %>%\n",
        "  filter(refyr == 2020) %>%\n",
        "  select(age_group, total_pop)\n"
      ],
      "metadata": {
        "id": "eji585IR4M_y"
      },
      "execution_count": 28,
      "outputs": []
    },
    {
      "cell_type": "markdown",
      "source": [
        "2. Adjust for New Entrants:"
      ],
      "metadata": {
        "id": "DKpT2SrU4Q71"
      }
    },
    {
      "cell_type": "code",
      "source": [
        "# Calculate new entrants for 2023\n",
        "new_entrants_2023 <- new_entrants_percentage %>%\n",
        "  left_join(total_population_by_age, by = \"age_group\") %>%\n",
        "  mutate(NewEntrants = round(TotalPopulation * NewEntrantsPercentage / 100, na.rm = TRUE))\n",
        "\n",
        "# Distribute new entrants by state\n",
        "new_entrants_distribution <- new_entrants_2023 %>%\n",
        "  left_join(new_entrants_by_state, by = c(\"age_group\")) %>%\n",
        "  mutate(NewEntrantsByState = round(NewEntrants * Proportion, na.rm = TRUE))\n"
      ],
      "metadata": {
        "id": "-qSQf8bD4UMW",
        "outputId": "267ef129-ca0a-40bc-b642-47343641a405",
        "colab": {
          "base_uri": "https://localhost:8080/",
          "height": 280
        }
      },
      "execution_count": 31,
      "outputs": [
        {
          "output_type": "error",
          "ename": "ERROR",
          "evalue": "Error: object 'total_population_by_age' not found\n",
          "traceback": [
            "Error: object 'total_population_by_age' not found\nTraceback:\n",
            "1. new_entrants_percentage %>% left_join(total_population_by_age, \n .     by = \"age_group\") %>% mutate(NewEntrants = round(TotalPopulation * \n .     NewEntrantsPercentage/100, na.rm = TRUE))",
            "2. mutate(., NewEntrants = round(TotalPopulation * NewEntrantsPercentage/100, \n .     na.rm = TRUE))",
            "3. left_join(., total_population_by_age, by = \"age_group\")",
            "4. left_join.data.frame(., total_population_by_age, by = \"age_group\")",
            "5. auto_copy(x, y, copy = copy)",
            "6. same_src(x, y)",
            "7. same_src.data.frame(x, y)",
            "8. is.data.frame(y)"
          ]
        }
      ]
    },
    {
      "cell_type": "markdown",
      "source": [
        "## Step 5: Simulate Future States\n",
        "1. Apply Transition Probabilities:"
      ],
      "metadata": {
        "id": "sCokg9uN4Xdv"
      }
    },
    {
      "cell_type": "code",
      "source": [
        "# Apply transition probabilities to simulate future states\n",
        "future_states <- initial_population %>%\n",
        "  rename(from_state = state, InitialCount = total_pop) %>%\n",
        "  left_join(transition_probabilities, by = \"age_group\") %>%\n",
        "  mutate(FutureCount = InitialCount * TransitionProbability) %>%\n",
        "  group_by(age_group, to_state) %>%\n",
        "  summarize(FutureCount = sum(FutureCount))\n"
      ],
      "metadata": {
        "id": "SLDW9h7F4ZQg"
      },
      "execution_count": null,
      "outputs": []
    },
    {
      "cell_type": "markdown",
      "source": [
        "2. Iterate Annually:"
      ],
      "metadata": {
        "id": "eWtH876T4bX3"
      }
    },
    {
      "cell_type": "code",
      "source": [
        "# For each year, apply the transition probabilities and adjust the cohort by adding new entrants\n",
        "future_states_2024 <- future_states %>%\n",
        "  rename(from_state = to_state, InitialCount = FutureCount) %>%\n",
        "  left_join(transition_probabilities, by = \"age_group\") %>%\n",
        "  mutate(FutureCount = InitialCount * TransitionProbability) %>%\n",
        "  group_by(age_group, to_state) %>%\n",
        "  summarize(FutureCount = sum(FutureCount))\n",
        "\n",
        "# Add new entrants to the future states\n",
        "final_population_2024 <- future_states_2024 %>%\n",
        "  left_join(new_entrants_distribution, by = c(\"age_group\", \"to_state\" = \"state\")) %>%\n",
        "  mutate(FinalCount = FutureCount + coalesce(NewEntrantsByState, 0)) %>%\n",
        "  select(age_group, state = to_state, Count = FinalCount)\n"
      ],
      "metadata": {
        "id": "kGMn6_nk4csx"
      },
      "execution_count": null,
      "outputs": []
    },
    {
      "cell_type": "code",
      "source": [],
      "metadata": {
        "id": "fTyutSss4c7n"
      },
      "execution_count": null,
      "outputs": []
    }
  ]
}