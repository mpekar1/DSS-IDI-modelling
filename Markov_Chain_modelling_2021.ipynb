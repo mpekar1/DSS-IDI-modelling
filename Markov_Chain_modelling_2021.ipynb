{
  "nbformat": 4,
  "nbformat_minor": 0,
  "metadata": {
    "colab": {
      "provenance": [],
      "gpuType": "T4",
      "authorship_tag": "ABX9TyNvTcHAj2uEuXjOuVS8St+Y",
      "include_colab_link": true
    },
    "kernelspec": {
      "name": "ir",
      "display_name": "R"
    },
    "language_info": {
      "name": "R"
    },
    "accelerator": "GPU"
  },
  "cells": [
    {
      "cell_type": "markdown",
      "metadata": {
        "id": "view-in-github",
        "colab_type": "text"
      },
      "source": [
        "<a href=\"https://colab.research.google.com/github/mpekar1/DSS-IDI-modelling/blob/main/Markov_Chain_modelling_2021.ipynb\" target=\"_parent\"><img src=\"https://colab.research.google.com/assets/colab-badge.svg\" alt=\"Open In Colab\"/></a>"
      ]
    },
    {
      "cell_type": "markdown",
      "source": [
        "# Step 1: Clean and Transform Data"
      ],
      "metadata": {
        "id": "WMQL_svPwKZU"
      }
    },
    {
      "cell_type": "code",
      "source": [],
      "metadata": {
        "id": "EQHmjXMMwKLb"
      },
      "execution_count": null,
      "outputs": []
    },
    {
      "cell_type": "code",
      "source": [
        "library(readxl)\n",
        "library(dplyr)\n",
        "library(stringr)\n",
        "library( tidyverse)"
      ],
      "metadata": {
        "id": "5czYUM5PwBoM"
      },
      "execution_count": 58,
      "outputs": []
    },
    {
      "cell_type": "code",
      "execution_count": 68,
      "metadata": {
        "id": "IKOhU_nSrZsW"
      },
      "outputs": [],
      "source": [
        "# Load the transition counts and population data\n",
        "transition_counts <- read_excel(\"Markov Chain Outputs 2024_05_24_confidentialised.xlsx\", sheet = \"Transition counts 2011-20 conf\", skip=1)\n",
        "transition_counts_2021 <- read_excel(\"Markov Chain Outputs 2024_05_24_confidentialised.xlsx\", sheet = \"Transition counts 2021 conf\",skip=1)\n",
        "dss_pop_by_age <- read_excel(\"Markov Chain Outputs 2024_05_24_confidentialised.xlsx\", sheet = \"Total DSS pop by age conf\")\n",
        "new_entrants <- read_excel(\"Markov Chain Outputs 2024_05_24_confidentialised.xlsx\", sheet = \"New entrants conf\")\n"
      ]
    },
    {
      "cell_type": "code",
      "source": [
        "## Inspect the data\n",
        "\n",
        "head(transition_counts)\n",
        "head(transition_counts_2021)\n",
        "head(dss_pop_by_age)\n",
        "head(new_entrants)"
      ],
      "metadata": {
        "colab": {
          "base_uri": "https://localhost:8080/",
          "height": 1000
        },
        "id": "4ol_1grDtG10",
        "outputId": "99dc08ee-73c2-4e41-f091-03ae3691fc14"
      },
      "execution_count": 69,
      "outputs": [
        {
          "output_type": "display_data",
          "data": {
            "text/html": [
              "<table class=\"dataframe\">\n",
              "<caption>A tibble: 6 × 24</caption>\n",
              "<thead>\n",
              "\t<tr><th scope=col>Row Labels</th><th scope=col>from_state</th><th scope=col>DECEASED</th><th scope=col>DSS</th><th scope=col>DSS_EDU</th><th scope=col>DSS_EDU_T1</th><th scope=col>DSS_EMPLOYED</th><th scope=col>DSS_EMPLOYED_T1</th><th scope=col>DSS_HOSPITAL</th><th scope=col>DSS_T1</th><th scope=col>⋯</th><th scope=col>EMPLOYED</th><th scope=col>EMPLOYED_T1</th><th scope=col>HOSPITAL</th><th scope=col>NO DATA</th><th scope=col>NOT BORN YET</th><th scope=col>OT</th><th scope=col>OTHER</th><th scope=col>OVERSEAS</th><th scope=col>T1</th><th scope=col>Grand Total</th></tr>\n",
              "\t<tr><th scope=col>&lt;chr&gt;</th><th scope=col>&lt;chr&gt;</th><th scope=col>&lt;chr&gt;</th><th scope=col>&lt;chr&gt;</th><th scope=col>&lt;chr&gt;</th><th scope=col>&lt;chr&gt;</th><th scope=col>&lt;chr&gt;</th><th scope=col>&lt;chr&gt;</th><th scope=col>&lt;chr&gt;</th><th scope=col>&lt;chr&gt;</th><th scope=col>⋯</th><th scope=col>&lt;chr&gt;</th><th scope=col>&lt;chr&gt;</th><th scope=col>&lt;chr&gt;</th><th scope=col>&lt;chr&gt;</th><th scope=col>&lt;chr&gt;</th><th scope=col>&lt;chr&gt;</th><th scope=col>&lt;chr&gt;</th><th scope=col>&lt;chr&gt;</th><th scope=col>&lt;chr&gt;</th><th scope=col>&lt;chr&gt;</th></tr>\n",
              "</thead>\n",
              "<tbody>\n",
              "\t<tr><td>Age 0-03</td><td>DECEASED    </td><td>6 </td><td>S   </td><td>S</td><td>S</td><td>S</td><td>S</td><td>S  </td><td>S</td><td>⋯</td><td>S</td><td>S</td><td>S </td><td>S  </td><td>S</td><td>S</td><td>S</td><td>S </td><td>S</td><td>9   </td></tr>\n",
              "\t<tr><td>Age 0-03</td><td>DSS         </td><td>12</td><td>4485</td><td>S</td><td>S</td><td>S</td><td>S</td><td>147</td><td>S</td><td>⋯</td><td>S</td><td>S</td><td>S </td><td>249</td><td>S</td><td>S</td><td>S</td><td>12</td><td>S</td><td>4920</td></tr>\n",
              "\t<tr><td>Age 0-03</td><td>DSS_EMPLOYED</td><td>S </td><td>S   </td><td>S</td><td>S</td><td>S</td><td>S</td><td>S  </td><td>S</td><td>⋯</td><td>S</td><td>S</td><td>S </td><td>S  </td><td>S</td><td>S</td><td>S</td><td>S </td><td>S</td><td>S   </td></tr>\n",
              "\t<tr><td>Age 0-03</td><td>DSS_HOSPITAL</td><td>9 </td><td>402 </td><td>S</td><td>S</td><td>S</td><td>S</td><td>201</td><td>S</td><td>⋯</td><td>S</td><td>S</td><td>18</td><td>39 </td><td>S</td><td>S</td><td>S</td><td>S </td><td>S</td><td>684 </td></tr>\n",
              "\t<tr><td>Age 0-03</td><td>DSS_T2      </td><td>S </td><td>S   </td><td>S</td><td>S</td><td>S</td><td>S</td><td>S  </td><td>S</td><td>⋯</td><td>S</td><td>S</td><td>S </td><td>S  </td><td>S</td><td>S</td><td>S</td><td>S </td><td>S</td><td>S   </td></tr>\n",
              "\t<tr><td>Age 0-03</td><td>DSS-OTHER   </td><td>S </td><td>24  </td><td>S</td><td>S</td><td>S</td><td>S</td><td>S  </td><td>S</td><td>⋯</td><td>S</td><td>S</td><td>S </td><td>S  </td><td>S</td><td>6</td><td>S</td><td>S </td><td>S</td><td>96  </td></tr>\n",
              "</tbody>\n",
              "</table>\n"
            ],
            "text/markdown": "\nA tibble: 6 × 24\n\n| Row Labels &lt;chr&gt; | from_state &lt;chr&gt; | DECEASED &lt;chr&gt; | DSS &lt;chr&gt; | DSS_EDU &lt;chr&gt; | DSS_EDU_T1 &lt;chr&gt; | DSS_EMPLOYED &lt;chr&gt; | DSS_EMPLOYED_T1 &lt;chr&gt; | DSS_HOSPITAL &lt;chr&gt; | DSS_T1 &lt;chr&gt; | ⋯ ⋯ | EMPLOYED &lt;chr&gt; | EMPLOYED_T1 &lt;chr&gt; | HOSPITAL &lt;chr&gt; | NO DATA &lt;chr&gt; | NOT BORN YET &lt;chr&gt; | OT &lt;chr&gt; | OTHER &lt;chr&gt; | OVERSEAS &lt;chr&gt; | T1 &lt;chr&gt; | Grand Total &lt;chr&gt; |\n|---|---|---|---|---|---|---|---|---|---|---|---|---|---|---|---|---|---|---|---|---|\n| Age 0-03 | DECEASED     | 6  | S    | S | S | S | S | S   | S | ⋯ | S | S | S  | S   | S | S | S | S  | S | 9    |\n| Age 0-03 | DSS          | 12 | 4485 | S | S | S | S | 147 | S | ⋯ | S | S | S  | 249 | S | S | S | 12 | S | 4920 |\n| Age 0-03 | DSS_EMPLOYED | S  | S    | S | S | S | S | S   | S | ⋯ | S | S | S  | S   | S | S | S | S  | S | S    |\n| Age 0-03 | DSS_HOSPITAL | 9  | 402  | S | S | S | S | 201 | S | ⋯ | S | S | 18 | 39  | S | S | S | S  | S | 684  |\n| Age 0-03 | DSS_T2       | S  | S    | S | S | S | S | S   | S | ⋯ | S | S | S  | S   | S | S | S | S  | S | S    |\n| Age 0-03 | DSS-OTHER    | S  | 24   | S | S | S | S | S   | S | ⋯ | S | S | S  | S   | S | 6 | S | S  | S | 96   |\n\n",
            "text/latex": "A tibble: 6 × 24\n\\begin{tabular}{lllllllllllllllllllll}\n Row Labels & from\\_state & DECEASED & DSS & DSS\\_EDU & DSS\\_EDU\\_T1 & DSS\\_EMPLOYED & DSS\\_EMPLOYED\\_T1 & DSS\\_HOSPITAL & DSS\\_T1 & ⋯ & EMPLOYED & EMPLOYED\\_T1 & HOSPITAL & NO DATA & NOT BORN YET & OT & OTHER & OVERSEAS & T1 & Grand Total\\\\\n <chr> & <chr> & <chr> & <chr> & <chr> & <chr> & <chr> & <chr> & <chr> & <chr> & ⋯ & <chr> & <chr> & <chr> & <chr> & <chr> & <chr> & <chr> & <chr> & <chr> & <chr>\\\\\n\\hline\n\t Age 0-03 & DECEASED     & 6  & S    & S & S & S & S & S   & S & ⋯ & S & S & S  & S   & S & S & S & S  & S & 9   \\\\\n\t Age 0-03 & DSS          & 12 & 4485 & S & S & S & S & 147 & S & ⋯ & S & S & S  & 249 & S & S & S & 12 & S & 4920\\\\\n\t Age 0-03 & DSS\\_EMPLOYED & S  & S    & S & S & S & S & S   & S & ⋯ & S & S & S  & S   & S & S & S & S  & S & S   \\\\\n\t Age 0-03 & DSS\\_HOSPITAL & 9  & 402  & S & S & S & S & 201 & S & ⋯ & S & S & 18 & 39  & S & S & S & S  & S & 684 \\\\\n\t Age 0-03 & DSS\\_T2       & S  & S    & S & S & S & S & S   & S & ⋯ & S & S & S  & S   & S & S & S & S  & S & S   \\\\\n\t Age 0-03 & DSS-OTHER    & S  & 24   & S & S & S & S & S   & S & ⋯ & S & S & S  & S   & S & 6 & S & S  & S & 96  \\\\\n\\end{tabular}\n",
            "text/plain": [
              "  Row Labels from_state   DECEASED DSS  DSS_EDU DSS_EDU_T1 DSS_EMPLOYED\n",
              "1 Age 0-03   DECEASED     6        S    S       S          S           \n",
              "2 Age 0-03   DSS          12       4485 S       S          S           \n",
              "3 Age 0-03   DSS_EMPLOYED S        S    S       S          S           \n",
              "4 Age 0-03   DSS_HOSPITAL 9        402  S       S          S           \n",
              "5 Age 0-03   DSS_T2       S        S    S       S          S           \n",
              "6 Age 0-03   DSS-OTHER    S        24   S       S          S           \n",
              "  DSS_EMPLOYED_T1 DSS_HOSPITAL DSS_T1 ⋯ EMPLOYED EMPLOYED_T1 HOSPITAL NO DATA\n",
              "1 S               S            S      ⋯ S        S           S        S      \n",
              "2 S               147          S      ⋯ S        S           S        249    \n",
              "3 S               S            S      ⋯ S        S           S        S      \n",
              "4 S               201          S      ⋯ S        S           18       39     \n",
              "5 S               S            S      ⋯ S        S           S        S      \n",
              "6 S               S            S      ⋯ S        S           S        S      \n",
              "  NOT BORN YET OT OTHER OVERSEAS T1 Grand Total\n",
              "1 S            S  S     S        S  9          \n",
              "2 S            S  S     12       S  4920       \n",
              "3 S            S  S     S        S  S          \n",
              "4 S            S  S     S        S  684        \n",
              "5 S            S  S     S        S  S          \n",
              "6 S            6  S     S        S  96         "
            ]
          },
          "metadata": {}
        },
        {
          "output_type": "display_data",
          "data": {
            "text/html": [
              "<table class=\"dataframe\">\n",
              "<caption>A tibble: 6 × 23</caption>\n",
              "<thead>\n",
              "\t<tr><th scope=col>Row Labels</th><th scope=col>from_state</th><th scope=col>DECEASED</th><th scope=col>DSS</th><th scope=col>DSS_EDU</th><th scope=col>DSS_EDU_T1</th><th scope=col>DSS_EMPLOYED</th><th scope=col>DSS_EMPLOYED_T1</th><th scope=col>DSS_HOSPITAL</th><th scope=col>DSS_T1</th><th scope=col>⋯</th><th scope=col>EDU_EMPLOYED</th><th scope=col>EMPLOYED</th><th scope=col>EMPLOYED_T1</th><th scope=col>HOSPITAL</th><th scope=col>NO DATA</th><th scope=col>OT</th><th scope=col>OTHER</th><th scope=col>OVERSEAS</th><th scope=col>T1</th><th scope=col>Grand Total</th></tr>\n",
              "\t<tr><th scope=col>&lt;chr&gt;</th><th scope=col>&lt;chr&gt;</th><th scope=col>&lt;chr&gt;</th><th scope=col>&lt;chr&gt;</th><th scope=col>&lt;chr&gt;</th><th scope=col>&lt;chr&gt;</th><th scope=col>&lt;chr&gt;</th><th scope=col>&lt;chr&gt;</th><th scope=col>&lt;chr&gt;</th><th scope=col>&lt;chr&gt;</th><th scope=col>⋯</th><th scope=col>&lt;chr&gt;</th><th scope=col>&lt;chr&gt;</th><th scope=col>&lt;chr&gt;</th><th scope=col>&lt;chr&gt;</th><th scope=col>&lt;chr&gt;</th><th scope=col>&lt;chr&gt;</th><th scope=col>&lt;chr&gt;</th><th scope=col>&lt;chr&gt;</th><th scope=col>&lt;chr&gt;</th><th scope=col>&lt;chr&gt;</th></tr>\n",
              "</thead>\n",
              "<tbody>\n",
              "\t<tr><td>Age 0-03</td><td>DECEASED    </td><td>S</td><td>S  </td><td>S</td><td>S</td><td>S</td><td>S</td><td>S </td><td>S</td><td>⋯</td><td>S</td><td>S</td><td>S</td><td>S</td><td>S </td><td>S</td><td>S</td><td>S</td><td>S</td><td>S  </td></tr>\n",
              "\t<tr><td>Age 0-03</td><td>DSS         </td><td>S</td><td>633</td><td>S</td><td>S</td><td>S</td><td>S</td><td>6 </td><td>S</td><td>⋯</td><td>S</td><td>S</td><td>S</td><td>S</td><td>51</td><td>S</td><td>S</td><td>S</td><td>S</td><td>696</td></tr>\n",
              "\t<tr><td>Age 0-03</td><td>DSS_EMPLOYED</td><td>S</td><td>S  </td><td>S</td><td>S</td><td>S</td><td>S</td><td>S </td><td>S</td><td>⋯</td><td>S</td><td>S</td><td>S</td><td>S</td><td>S </td><td>S</td><td>S</td><td>S</td><td>S</td><td>S  </td></tr>\n",
              "\t<tr><td>Age 0-03</td><td>DSS_HOSPITAL</td><td>S</td><td>45 </td><td>S</td><td>S</td><td>S</td><td>S</td><td>12</td><td>S</td><td>⋯</td><td>S</td><td>S</td><td>S</td><td>S</td><td>S </td><td>S</td><td>S</td><td>S</td><td>S</td><td>63 </td></tr>\n",
              "\t<tr><td>Age 0-03</td><td>DSS-OTHER   </td><td>S</td><td>S  </td><td>S</td><td>S</td><td>S</td><td>S</td><td>S </td><td>S</td><td>⋯</td><td>S</td><td>S</td><td>S</td><td>S</td><td>S </td><td>S</td><td>S</td><td>S</td><td>S</td><td>12 </td></tr>\n",
              "\t<tr><td>Age 0-03</td><td>EMPLOYED    </td><td>S</td><td>S  </td><td>S</td><td>S</td><td>S</td><td>S</td><td>S </td><td>S</td><td>⋯</td><td>S</td><td>S</td><td>S</td><td>S</td><td>S </td><td>S</td><td>S</td><td>S</td><td>S</td><td>S  </td></tr>\n",
              "</tbody>\n",
              "</table>\n"
            ],
            "text/markdown": "\nA tibble: 6 × 23\n\n| Row Labels &lt;chr&gt; | from_state &lt;chr&gt; | DECEASED &lt;chr&gt; | DSS &lt;chr&gt; | DSS_EDU &lt;chr&gt; | DSS_EDU_T1 &lt;chr&gt; | DSS_EMPLOYED &lt;chr&gt; | DSS_EMPLOYED_T1 &lt;chr&gt; | DSS_HOSPITAL &lt;chr&gt; | DSS_T1 &lt;chr&gt; | ⋯ ⋯ | EDU_EMPLOYED &lt;chr&gt; | EMPLOYED &lt;chr&gt; | EMPLOYED_T1 &lt;chr&gt; | HOSPITAL &lt;chr&gt; | NO DATA &lt;chr&gt; | OT &lt;chr&gt; | OTHER &lt;chr&gt; | OVERSEAS &lt;chr&gt; | T1 &lt;chr&gt; | Grand Total &lt;chr&gt; |\n|---|---|---|---|---|---|---|---|---|---|---|---|---|---|---|---|---|---|---|---|---|\n| Age 0-03 | DECEASED     | S | S   | S | S | S | S | S  | S | ⋯ | S | S | S | S | S  | S | S | S | S | S   |\n| Age 0-03 | DSS          | S | 633 | S | S | S | S | 6  | S | ⋯ | S | S | S | S | 51 | S | S | S | S | 696 |\n| Age 0-03 | DSS_EMPLOYED | S | S   | S | S | S | S | S  | S | ⋯ | S | S | S | S | S  | S | S | S | S | S   |\n| Age 0-03 | DSS_HOSPITAL | S | 45  | S | S | S | S | 12 | S | ⋯ | S | S | S | S | S  | S | S | S | S | 63  |\n| Age 0-03 | DSS-OTHER    | S | S   | S | S | S | S | S  | S | ⋯ | S | S | S | S | S  | S | S | S | S | 12  |\n| Age 0-03 | EMPLOYED     | S | S   | S | S | S | S | S  | S | ⋯ | S | S | S | S | S  | S | S | S | S | S   |\n\n",
            "text/latex": "A tibble: 6 × 23\n\\begin{tabular}{lllllllllllllllllllll}\n Row Labels & from\\_state & DECEASED & DSS & DSS\\_EDU & DSS\\_EDU\\_T1 & DSS\\_EMPLOYED & DSS\\_EMPLOYED\\_T1 & DSS\\_HOSPITAL & DSS\\_T1 & ⋯ & EDU\\_EMPLOYED & EMPLOYED & EMPLOYED\\_T1 & HOSPITAL & NO DATA & OT & OTHER & OVERSEAS & T1 & Grand Total\\\\\n <chr> & <chr> & <chr> & <chr> & <chr> & <chr> & <chr> & <chr> & <chr> & <chr> & ⋯ & <chr> & <chr> & <chr> & <chr> & <chr> & <chr> & <chr> & <chr> & <chr> & <chr>\\\\\n\\hline\n\t Age 0-03 & DECEASED     & S & S   & S & S & S & S & S  & S & ⋯ & S & S & S & S & S  & S & S & S & S & S  \\\\\n\t Age 0-03 & DSS          & S & 633 & S & S & S & S & 6  & S & ⋯ & S & S & S & S & 51 & S & S & S & S & 696\\\\\n\t Age 0-03 & DSS\\_EMPLOYED & S & S   & S & S & S & S & S  & S & ⋯ & S & S & S & S & S  & S & S & S & S & S  \\\\\n\t Age 0-03 & DSS\\_HOSPITAL & S & 45  & S & S & S & S & 12 & S & ⋯ & S & S & S & S & S  & S & S & S & S & 63 \\\\\n\t Age 0-03 & DSS-OTHER    & S & S   & S & S & S & S & S  & S & ⋯ & S & S & S & S & S  & S & S & S & S & 12 \\\\\n\t Age 0-03 & EMPLOYED     & S & S   & S & S & S & S & S  & S & ⋯ & S & S & S & S & S  & S & S & S & S & S  \\\\\n\\end{tabular}\n",
            "text/plain": [
              "  Row Labels from_state   DECEASED DSS DSS_EDU DSS_EDU_T1 DSS_EMPLOYED\n",
              "1 Age 0-03   DECEASED     S        S   S       S          S           \n",
              "2 Age 0-03   DSS          S        633 S       S          S           \n",
              "3 Age 0-03   DSS_EMPLOYED S        S   S       S          S           \n",
              "4 Age 0-03   DSS_HOSPITAL S        45  S       S          S           \n",
              "5 Age 0-03   DSS-OTHER    S        S   S       S          S           \n",
              "6 Age 0-03   EMPLOYED     S        S   S       S          S           \n",
              "  DSS_EMPLOYED_T1 DSS_HOSPITAL DSS_T1 ⋯ EDU_EMPLOYED EMPLOYED EMPLOYED_T1\n",
              "1 S               S            S      ⋯ S            S        S          \n",
              "2 S               6            S      ⋯ S            S        S          \n",
              "3 S               S            S      ⋯ S            S        S          \n",
              "4 S               12           S      ⋯ S            S        S          \n",
              "5 S               S            S      ⋯ S            S        S          \n",
              "6 S               S            S      ⋯ S            S        S          \n",
              "  HOSPITAL NO DATA OT OTHER OVERSEAS T1 Grand Total\n",
              "1 S        S       S  S     S        S  S          \n",
              "2 S        51      S  S     S        S  696        \n",
              "3 S        S       S  S     S        S  S          \n",
              "4 S        S       S  S     S        S  63         \n",
              "5 S        S       S  S     S        S  12         \n",
              "6 S        S       S  S     S        S  S          "
            ]
          },
          "metadata": {}
        },
        {
          "output_type": "display_data",
          "data": {
            "text/html": [
              "<table class=\"dataframe\">\n",
              "<caption>A tibble: 6 × 3</caption>\n",
              "<thead>\n",
              "\t<tr><th scope=col>age_group</th><th scope=col>refyr</th><th scope=col>total_pop</th></tr>\n",
              "\t<tr><th scope=col>&lt;chr&gt;</th><th scope=col>&lt;dbl&gt;</th><th scope=col>&lt;chr&gt;</th></tr>\n",
              "</thead>\n",
              "<tbody>\n",
              "\t<tr><td>Age 11-18</td><td>2021</td><td>12255</td></tr>\n",
              "\t<tr><td>Age 03-10</td><td>2020</td><td>10122</td></tr>\n",
              "\t<tr><td>Age 03-10</td><td>2014</td><td>10893</td></tr>\n",
              "\t<tr><td>Age 66+  </td><td>2015</td><td>3477 </td></tr>\n",
              "\t<tr><td>Age 0-03 </td><td>2020</td><td>1722 </td></tr>\n",
              "\t<tr><td>Age 19-25</td><td>2013</td><td>4848 </td></tr>\n",
              "</tbody>\n",
              "</table>\n"
            ],
            "text/markdown": "\nA tibble: 6 × 3\n\n| age_group &lt;chr&gt; | refyr &lt;dbl&gt; | total_pop &lt;chr&gt; |\n|---|---|---|\n| Age 11-18 | 2021 | 12255 |\n| Age 03-10 | 2020 | 10122 |\n| Age 03-10 | 2014 | 10893 |\n| Age 66+   | 2015 | 3477  |\n| Age 0-03  | 2020 | 1722  |\n| Age 19-25 | 2013 | 4848  |\n\n",
            "text/latex": "A tibble: 6 × 3\n\\begin{tabular}{lll}\n age\\_group & refyr & total\\_pop\\\\\n <chr> & <dbl> & <chr>\\\\\n\\hline\n\t Age 11-18 & 2021 & 12255\\\\\n\t Age 03-10 & 2020 & 10122\\\\\n\t Age 03-10 & 2014 & 10893\\\\\n\t Age 66+   & 2015 & 3477 \\\\\n\t Age 0-03  & 2020 & 1722 \\\\\n\t Age 19-25 & 2013 & 4848 \\\\\n\\end{tabular}\n",
            "text/plain": [
              "  age_group refyr total_pop\n",
              "1 Age 11-18 2021  12255    \n",
              "2 Age 03-10 2020  10122    \n",
              "3 Age 03-10 2014  10893    \n",
              "4 Age 66+   2015  3477     \n",
              "5 Age 0-03  2020  1722     \n",
              "6 Age 19-25 2013  4848     "
            ]
          },
          "metadata": {}
        },
        {
          "output_type": "display_data",
          "data": {
            "text/html": [
              "<table class=\"dataframe\">\n",
              "<caption>A tibble: 6 × 4</caption>\n",
              "<thead>\n",
              "\t<tr><th scope=col>age_group</th><th scope=col>refyr</th><th scope=col>state</th><th scope=col>new_entrants</th></tr>\n",
              "\t<tr><th scope=col>&lt;chr&gt;</th><th scope=col>&lt;dbl&gt;</th><th scope=col>&lt;chr&gt;</th><th scope=col>&lt;chr&gt;</th></tr>\n",
              "</thead>\n",
              "<tbody>\n",
              "\t<tr><td>Age 26-35</td><td>2018</td><td>DSS_HOSPITAL   </td><td>S </td></tr>\n",
              "\t<tr><td>Age 36-45</td><td>2020</td><td>DSS_EMPLOYED   </td><td>27</td></tr>\n",
              "\t<tr><td>Age 0-03 </td><td>2012</td><td>DSS-OTHER      </td><td>S </td></tr>\n",
              "\t<tr><td>Age 46-65</td><td>2019</td><td>DSS_HOSPITAL   </td><td>57</td></tr>\n",
              "\t<tr><td>Age 26-35</td><td>2011</td><td>DSS_EMPLOYED_T1</td><td>9 </td></tr>\n",
              "\t<tr><td>Age 11-18</td><td>2014</td><td>DSS_HOSPITAL   </td><td>6 </td></tr>\n",
              "</tbody>\n",
              "</table>\n"
            ],
            "text/markdown": "\nA tibble: 6 × 4\n\n| age_group &lt;chr&gt; | refyr &lt;dbl&gt; | state &lt;chr&gt; | new_entrants &lt;chr&gt; |\n|---|---|---|---|\n| Age 26-35 | 2018 | DSS_HOSPITAL    | S  |\n| Age 36-45 | 2020 | DSS_EMPLOYED    | 27 |\n| Age 0-03  | 2012 | DSS-OTHER       | S  |\n| Age 46-65 | 2019 | DSS_HOSPITAL    | 57 |\n| Age 26-35 | 2011 | DSS_EMPLOYED_T1 | 9  |\n| Age 11-18 | 2014 | DSS_HOSPITAL    | 6  |\n\n",
            "text/latex": "A tibble: 6 × 4\n\\begin{tabular}{llll}\n age\\_group & refyr & state & new\\_entrants\\\\\n <chr> & <dbl> & <chr> & <chr>\\\\\n\\hline\n\t Age 26-35 & 2018 & DSS\\_HOSPITAL    & S \\\\\n\t Age 36-45 & 2020 & DSS\\_EMPLOYED    & 27\\\\\n\t Age 0-03  & 2012 & DSS-OTHER       & S \\\\\n\t Age 46-65 & 2019 & DSS\\_HOSPITAL    & 57\\\\\n\t Age 26-35 & 2011 & DSS\\_EMPLOYED\\_T1 & 9 \\\\\n\t Age 11-18 & 2014 & DSS\\_HOSPITAL    & 6 \\\\\n\\end{tabular}\n",
            "text/plain": [
              "  age_group refyr state           new_entrants\n",
              "1 Age 26-35 2018  DSS_HOSPITAL    S           \n",
              "2 Age 36-45 2020  DSS_EMPLOYED    27          \n",
              "3 Age 0-03  2012  DSS-OTHER       S           \n",
              "4 Age 46-65 2019  DSS_HOSPITAL    57          \n",
              "5 Age 26-35 2011  DSS_EMPLOYED_T1 9           \n",
              "6 Age 11-18 2014  DSS_HOSPITAL    6           "
            ]
          },
          "metadata": {}
        }
      ]
    },
    {
      "cell_type": "code",
      "source": [
        "transition_counts <- transition_counts %>%\n",
        "  rename(age_group = `Row Labels`)\n",
        "\n",
        "transition_counts_2021 <- transition_counts_2021 %>%\n",
        "  rename(age_group = `Row Labels`)"
      ],
      "metadata": {
        "id": "ayljFEOQ3H57"
      },
      "execution_count": 70,
      "outputs": []
    },
    {
      "cell_type": "code",
      "source": [
        "names(transition_counts)\n",
        "names(transition_counts_2021)\n",
        "names(dss_pop_by_age)\n",
        "names(new_entrants)"
      ],
      "metadata": {
        "colab": {
          "base_uri": "https://localhost:8080/",
          "height": 173
        },
        "id": "Yj5teuNVy0XE",
        "outputId": "38d873ad-5428-424e-ae6e-12b283bc5e7f"
      },
      "execution_count": 71,
      "outputs": [
        {
          "output_type": "display_data",
          "data": {
            "text/html": [
              "<style>\n",
              ".list-inline {list-style: none; margin:0; padding: 0}\n",
              ".list-inline>li {display: inline-block}\n",
              ".list-inline>li:not(:last-child)::after {content: \"\\00b7\"; padding: 0 .5ex}\n",
              "</style>\n",
              "<ol class=list-inline><li>'age_group'</li><li>'from_state'</li><li>'DECEASED'</li><li>'DSS'</li><li>'DSS_EDU'</li><li>'DSS_EDU_T1'</li><li>'DSS_EMPLOYED'</li><li>'DSS_EMPLOYED_T1'</li><li>'DSS_HOSPITAL'</li><li>'DSS_T1'</li><li>'DSS_T2'</li><li>'DSS-OTHER'</li><li>'EDU'</li><li>'EDU_EMPLOYED'</li><li>'EMPLOYED'</li><li>'EMPLOYED_T1'</li><li>'HOSPITAL'</li><li>'NO DATA'</li><li>'NOT BORN YET'</li><li>'OT'</li><li>'OTHER'</li><li>'OVERSEAS'</li><li>'T1'</li><li>'Grand Total'</li></ol>\n"
            ],
            "text/markdown": "1. 'age_group'\n2. 'from_state'\n3. 'DECEASED'\n4. 'DSS'\n5. 'DSS_EDU'\n6. 'DSS_EDU_T1'\n7. 'DSS_EMPLOYED'\n8. 'DSS_EMPLOYED_T1'\n9. 'DSS_HOSPITAL'\n10. 'DSS_T1'\n11. 'DSS_T2'\n12. 'DSS-OTHER'\n13. 'EDU'\n14. 'EDU_EMPLOYED'\n15. 'EMPLOYED'\n16. 'EMPLOYED_T1'\n17. 'HOSPITAL'\n18. 'NO DATA'\n19. 'NOT BORN YET'\n20. 'OT'\n21. 'OTHER'\n22. 'OVERSEAS'\n23. 'T1'\n24. 'Grand Total'\n\n\n",
            "text/latex": "\\begin{enumerate*}\n\\item 'age\\_group'\n\\item 'from\\_state'\n\\item 'DECEASED'\n\\item 'DSS'\n\\item 'DSS\\_EDU'\n\\item 'DSS\\_EDU\\_T1'\n\\item 'DSS\\_EMPLOYED'\n\\item 'DSS\\_EMPLOYED\\_T1'\n\\item 'DSS\\_HOSPITAL'\n\\item 'DSS\\_T1'\n\\item 'DSS\\_T2'\n\\item 'DSS-OTHER'\n\\item 'EDU'\n\\item 'EDU\\_EMPLOYED'\n\\item 'EMPLOYED'\n\\item 'EMPLOYED\\_T1'\n\\item 'HOSPITAL'\n\\item 'NO DATA'\n\\item 'NOT BORN YET'\n\\item 'OT'\n\\item 'OTHER'\n\\item 'OVERSEAS'\n\\item 'T1'\n\\item 'Grand Total'\n\\end{enumerate*}\n",
            "text/plain": [
              " [1] \"age_group\"       \"from_state\"      \"DECEASED\"        \"DSS\"            \n",
              " [5] \"DSS_EDU\"         \"DSS_EDU_T1\"      \"DSS_EMPLOYED\"    \"DSS_EMPLOYED_T1\"\n",
              " [9] \"DSS_HOSPITAL\"    \"DSS_T1\"          \"DSS_T2\"          \"DSS-OTHER\"      \n",
              "[13] \"EDU\"             \"EDU_EMPLOYED\"    \"EMPLOYED\"        \"EMPLOYED_T1\"    \n",
              "[17] \"HOSPITAL\"        \"NO DATA\"         \"NOT BORN YET\"    \"OT\"             \n",
              "[21] \"OTHER\"           \"OVERSEAS\"        \"T1\"              \"Grand Total\"    "
            ]
          },
          "metadata": {}
        },
        {
          "output_type": "display_data",
          "data": {
            "text/html": [
              "<style>\n",
              ".list-inline {list-style: none; margin:0; padding: 0}\n",
              ".list-inline>li {display: inline-block}\n",
              ".list-inline>li:not(:last-child)::after {content: \"\\00b7\"; padding: 0 .5ex}\n",
              "</style>\n",
              "<ol class=list-inline><li>'age_group'</li><li>'from_state'</li><li>'DECEASED'</li><li>'DSS'</li><li>'DSS_EDU'</li><li>'DSS_EDU_T1'</li><li>'DSS_EMPLOYED'</li><li>'DSS_EMPLOYED_T1'</li><li>'DSS_HOSPITAL'</li><li>'DSS_T1'</li><li>'DSS_T2'</li><li>'DSS-OTHER'</li><li>'EDU'</li><li>'EDU_EMPLOYED'</li><li>'EMPLOYED'</li><li>'EMPLOYED_T1'</li><li>'HOSPITAL'</li><li>'NO DATA'</li><li>'OT'</li><li>'OTHER'</li><li>'OVERSEAS'</li><li>'T1'</li><li>'Grand Total'</li></ol>\n"
            ],
            "text/markdown": "1. 'age_group'\n2. 'from_state'\n3. 'DECEASED'\n4. 'DSS'\n5. 'DSS_EDU'\n6. 'DSS_EDU_T1'\n7. 'DSS_EMPLOYED'\n8. 'DSS_EMPLOYED_T1'\n9. 'DSS_HOSPITAL'\n10. 'DSS_T1'\n11. 'DSS_T2'\n12. 'DSS-OTHER'\n13. 'EDU'\n14. 'EDU_EMPLOYED'\n15. 'EMPLOYED'\n16. 'EMPLOYED_T1'\n17. 'HOSPITAL'\n18. 'NO DATA'\n19. 'OT'\n20. 'OTHER'\n21. 'OVERSEAS'\n22. 'T1'\n23. 'Grand Total'\n\n\n",
            "text/latex": "\\begin{enumerate*}\n\\item 'age\\_group'\n\\item 'from\\_state'\n\\item 'DECEASED'\n\\item 'DSS'\n\\item 'DSS\\_EDU'\n\\item 'DSS\\_EDU\\_T1'\n\\item 'DSS\\_EMPLOYED'\n\\item 'DSS\\_EMPLOYED\\_T1'\n\\item 'DSS\\_HOSPITAL'\n\\item 'DSS\\_T1'\n\\item 'DSS\\_T2'\n\\item 'DSS-OTHER'\n\\item 'EDU'\n\\item 'EDU\\_EMPLOYED'\n\\item 'EMPLOYED'\n\\item 'EMPLOYED\\_T1'\n\\item 'HOSPITAL'\n\\item 'NO DATA'\n\\item 'OT'\n\\item 'OTHER'\n\\item 'OVERSEAS'\n\\item 'T1'\n\\item 'Grand Total'\n\\end{enumerate*}\n",
            "text/plain": [
              " [1] \"age_group\"       \"from_state\"      \"DECEASED\"        \"DSS\"            \n",
              " [5] \"DSS_EDU\"         \"DSS_EDU_T1\"      \"DSS_EMPLOYED\"    \"DSS_EMPLOYED_T1\"\n",
              " [9] \"DSS_HOSPITAL\"    \"DSS_T1\"          \"DSS_T2\"          \"DSS-OTHER\"      \n",
              "[13] \"EDU\"             \"EDU_EMPLOYED\"    \"EMPLOYED\"        \"EMPLOYED_T1\"    \n",
              "[17] \"HOSPITAL\"        \"NO DATA\"         \"OT\"              \"OTHER\"          \n",
              "[21] \"OVERSEAS\"        \"T1\"              \"Grand Total\"    "
            ]
          },
          "metadata": {}
        },
        {
          "output_type": "display_data",
          "data": {
            "text/html": [
              "<style>\n",
              ".list-inline {list-style: none; margin:0; padding: 0}\n",
              ".list-inline>li {display: inline-block}\n",
              ".list-inline>li:not(:last-child)::after {content: \"\\00b7\"; padding: 0 .5ex}\n",
              "</style>\n",
              "<ol class=list-inline><li>'age_group'</li><li>'refyr'</li><li>'total_pop'</li></ol>\n"
            ],
            "text/markdown": "1. 'age_group'\n2. 'refyr'\n3. 'total_pop'\n\n\n",
            "text/latex": "\\begin{enumerate*}\n\\item 'age\\_group'\n\\item 'refyr'\n\\item 'total\\_pop'\n\\end{enumerate*}\n",
            "text/plain": [
              "[1] \"age_group\" \"refyr\"     \"total_pop\""
            ]
          },
          "metadata": {}
        },
        {
          "output_type": "display_data",
          "data": {
            "text/html": [
              "<style>\n",
              ".list-inline {list-style: none; margin:0; padding: 0}\n",
              ".list-inline>li {display: inline-block}\n",
              ".list-inline>li:not(:last-child)::after {content: \"\\00b7\"; padding: 0 .5ex}\n",
              "</style>\n",
              "<ol class=list-inline><li>'age_group'</li><li>'refyr'</li><li>'state'</li><li>'new_entrants'</li></ol>\n"
            ],
            "text/markdown": "1. 'age_group'\n2. 'refyr'\n3. 'state'\n4. 'new_entrants'\n\n\n",
            "text/latex": "\\begin{enumerate*}\n\\item 'age\\_group'\n\\item 'refyr'\n\\item 'state'\n\\item 'new\\_entrants'\n\\end{enumerate*}\n",
            "text/plain": [
              "[1] \"age_group\"    \"refyr\"        \"state\"        \"new_entrants\""
            ]
          },
          "metadata": {}
        }
      ]
    },
    {
      "cell_type": "code",
      "source": [
        "# Check the column names of the transition_counts dataframe\n",
        "print(names(transition_counts))"
      ],
      "metadata": {
        "colab": {
          "base_uri": "https://localhost:8080/"
        },
        "id": "Tanj5to49_iq",
        "outputId": "a706cb43-78b6-4f06-f6e2-bc02aff69654"
      },
      "execution_count": 74,
      "outputs": [
        {
          "output_type": "stream",
          "name": "stdout",
          "text": [
            " [1] \"age_group\"       \"from_state\"      \"DECEASED\"        \"DSS\"            \n",
            " [5] \"DSS_EDU\"         \"DSS_EDU_T1\"      \"DSS_EMPLOYED\"    \"DSS_EMPLOYED_T1\"\n",
            " [9] \"DSS_HOSPITAL\"    \"DSS_T1\"          \"DSS_T2\"          \"DSS-OTHER\"      \n",
            "[13] \"EDU\"             \"EDU_EMPLOYED\"    \"EMPLOYED\"        \"EMPLOYED_T1\"    \n",
            "[17] \"HOSPITAL\"        \"NO DATA\"         \"NOT BORN YET\"    \"OT\"             \n",
            "[21] \"OTHER\"           \"OVERSEAS\"        \"T1\"              \"Grand Total\"    \n"
          ]
        }
      ]
    },
    {
      "source": [
        "# Function to clean transition counts data\n",
        "clean_transition_data <- function(df) {\n",
        "  df %>%\n",
        "    mutate(across(-c(age_group, from_state), ~ replace(., . == \"S\", 0))) %>%\n",
        "    mutate(across(-c(age_group, from_state), as.numeric)) %>%\n",
        "    filter(!grepl(\"Total\", age_group)) %>%\n",
        "    select(-`Grand Total`)\n",
        "}\n",
        "\n",
        "# Function to clean DSS population and new entrants data\n",
        "clean_population_data <- function(df, col_to_clean) {\n",
        "  df %>%\n",
        "    mutate(across(all_of(col_to_clean), ~ replace(., . == \"S\", 0))) %>%\n",
        "    mutate(across(all_of(col_to_clean), as.numeric))\n",
        "}\n",
        "\n",
        "# Apply the function to clean the transition counts data\n",
        "transition_counts <- clean_transition_data(transition_counts)\n",
        "transition_counts_2021 <- clean_transition_data(transition_counts_2021)\n",
        "\n",
        "# Apply the function to clean the DSS population by age and new entrants data\n",
        "dss_pop_by_age <- clean_population_data(dss_pop_by_age, \"total_pop\")\n",
        "new_entrants <- clean_population_data(new_entrants, \"new_entrants\")\n",
        "\n",
        "# Verify the results\n",
        "head(transition_counts)\n",
        "head(transition_counts_2021)\n",
        "head(dss_pop_by_age)\n",
        "head(new_entrants)"
      ],
      "cell_type": "code",
      "metadata": {
        "colab": {
          "base_uri": "https://localhost:8080/",
          "height": 1000
        },
        "id": "VgZiiNLy2LIn",
        "outputId": "d6a2ae04-1a76-4c4f-f3da-2b0c488c3fd5"
      },
      "execution_count": 75,
      "outputs": [
        {
          "output_type": "display_data",
          "data": {
            "text/html": [
              "<table class=\"dataframe\">\n",
              "<caption>A tibble: 6 × 23</caption>\n",
              "<thead>\n",
              "\t<tr><th scope=col>age_group</th><th scope=col>from_state</th><th scope=col>DECEASED</th><th scope=col>DSS</th><th scope=col>DSS_EDU</th><th scope=col>DSS_EDU_T1</th><th scope=col>DSS_EMPLOYED</th><th scope=col>DSS_EMPLOYED_T1</th><th scope=col>DSS_HOSPITAL</th><th scope=col>DSS_T1</th><th scope=col>⋯</th><th scope=col>EDU_EMPLOYED</th><th scope=col>EMPLOYED</th><th scope=col>EMPLOYED_T1</th><th scope=col>HOSPITAL</th><th scope=col>NO DATA</th><th scope=col>NOT BORN YET</th><th scope=col>OT</th><th scope=col>OTHER</th><th scope=col>OVERSEAS</th><th scope=col>T1</th></tr>\n",
              "\t<tr><th scope=col>&lt;chr&gt;</th><th scope=col>&lt;chr&gt;</th><th scope=col>&lt;dbl&gt;</th><th scope=col>&lt;dbl&gt;</th><th scope=col>&lt;dbl&gt;</th><th scope=col>&lt;dbl&gt;</th><th scope=col>&lt;dbl&gt;</th><th scope=col>&lt;dbl&gt;</th><th scope=col>&lt;dbl&gt;</th><th scope=col>&lt;dbl&gt;</th><th scope=col>⋯</th><th scope=col>&lt;dbl&gt;</th><th scope=col>&lt;dbl&gt;</th><th scope=col>&lt;dbl&gt;</th><th scope=col>&lt;dbl&gt;</th><th scope=col>&lt;dbl&gt;</th><th scope=col>&lt;dbl&gt;</th><th scope=col>&lt;dbl&gt;</th><th scope=col>&lt;dbl&gt;</th><th scope=col>&lt;dbl&gt;</th><th scope=col>&lt;dbl&gt;</th></tr>\n",
              "</thead>\n",
              "<tbody>\n",
              "\t<tr><td>Age 0-03</td><td>DECEASED    </td><td> 6</td><td>   0</td><td>0</td><td>0</td><td>0</td><td>0</td><td>  0</td><td>0</td><td>⋯</td><td>0</td><td>0</td><td>0</td><td> 0</td><td>  0</td><td>0</td><td>0</td><td>0</td><td> 0</td><td>0</td></tr>\n",
              "\t<tr><td>Age 0-03</td><td>DSS         </td><td>12</td><td>4485</td><td>0</td><td>0</td><td>0</td><td>0</td><td>147</td><td>0</td><td>⋯</td><td>0</td><td>0</td><td>0</td><td> 0</td><td>249</td><td>0</td><td>0</td><td>0</td><td>12</td><td>0</td></tr>\n",
              "\t<tr><td>Age 0-03</td><td>DSS_EMPLOYED</td><td> 0</td><td>   0</td><td>0</td><td>0</td><td>0</td><td>0</td><td>  0</td><td>0</td><td>⋯</td><td>0</td><td>0</td><td>0</td><td> 0</td><td>  0</td><td>0</td><td>0</td><td>0</td><td> 0</td><td>0</td></tr>\n",
              "\t<tr><td>Age 0-03</td><td>DSS_HOSPITAL</td><td> 9</td><td> 402</td><td>0</td><td>0</td><td>0</td><td>0</td><td>201</td><td>0</td><td>⋯</td><td>0</td><td>0</td><td>0</td><td>18</td><td> 39</td><td>0</td><td>0</td><td>0</td><td> 0</td><td>0</td></tr>\n",
              "\t<tr><td>Age 0-03</td><td>DSS_T2      </td><td> 0</td><td>   0</td><td>0</td><td>0</td><td>0</td><td>0</td><td>  0</td><td>0</td><td>⋯</td><td>0</td><td>0</td><td>0</td><td> 0</td><td>  0</td><td>0</td><td>0</td><td>0</td><td> 0</td><td>0</td></tr>\n",
              "\t<tr><td>Age 0-03</td><td>DSS-OTHER   </td><td> 0</td><td>  24</td><td>0</td><td>0</td><td>0</td><td>0</td><td>  0</td><td>0</td><td>⋯</td><td>0</td><td>0</td><td>0</td><td> 0</td><td>  0</td><td>0</td><td>6</td><td>0</td><td> 0</td><td>0</td></tr>\n",
              "</tbody>\n",
              "</table>\n"
            ],
            "text/markdown": "\nA tibble: 6 × 23\n\n| age_group &lt;chr&gt; | from_state &lt;chr&gt; | DECEASED &lt;dbl&gt; | DSS &lt;dbl&gt; | DSS_EDU &lt;dbl&gt; | DSS_EDU_T1 &lt;dbl&gt; | DSS_EMPLOYED &lt;dbl&gt; | DSS_EMPLOYED_T1 &lt;dbl&gt; | DSS_HOSPITAL &lt;dbl&gt; | DSS_T1 &lt;dbl&gt; | ⋯ ⋯ | EDU_EMPLOYED &lt;dbl&gt; | EMPLOYED &lt;dbl&gt; | EMPLOYED_T1 &lt;dbl&gt; | HOSPITAL &lt;dbl&gt; | NO DATA &lt;dbl&gt; | NOT BORN YET &lt;dbl&gt; | OT &lt;dbl&gt; | OTHER &lt;dbl&gt; | OVERSEAS &lt;dbl&gt; | T1 &lt;dbl&gt; |\n|---|---|---|---|---|---|---|---|---|---|---|---|---|---|---|---|---|---|---|---|---|\n| Age 0-03 | DECEASED     |  6 |    0 | 0 | 0 | 0 | 0 |   0 | 0 | ⋯ | 0 | 0 | 0 |  0 |   0 | 0 | 0 | 0 |  0 | 0 |\n| Age 0-03 | DSS          | 12 | 4485 | 0 | 0 | 0 | 0 | 147 | 0 | ⋯ | 0 | 0 | 0 |  0 | 249 | 0 | 0 | 0 | 12 | 0 |\n| Age 0-03 | DSS_EMPLOYED |  0 |    0 | 0 | 0 | 0 | 0 |   0 | 0 | ⋯ | 0 | 0 | 0 |  0 |   0 | 0 | 0 | 0 |  0 | 0 |\n| Age 0-03 | DSS_HOSPITAL |  9 |  402 | 0 | 0 | 0 | 0 | 201 | 0 | ⋯ | 0 | 0 | 0 | 18 |  39 | 0 | 0 | 0 |  0 | 0 |\n| Age 0-03 | DSS_T2       |  0 |    0 | 0 | 0 | 0 | 0 |   0 | 0 | ⋯ | 0 | 0 | 0 |  0 |   0 | 0 | 0 | 0 |  0 | 0 |\n| Age 0-03 | DSS-OTHER    |  0 |   24 | 0 | 0 | 0 | 0 |   0 | 0 | ⋯ | 0 | 0 | 0 |  0 |   0 | 0 | 6 | 0 |  0 | 0 |\n\n",
            "text/latex": "A tibble: 6 × 23\n\\begin{tabular}{lllllllllllllllllllll}\n age\\_group & from\\_state & DECEASED & DSS & DSS\\_EDU & DSS\\_EDU\\_T1 & DSS\\_EMPLOYED & DSS\\_EMPLOYED\\_T1 & DSS\\_HOSPITAL & DSS\\_T1 & ⋯ & EDU\\_EMPLOYED & EMPLOYED & EMPLOYED\\_T1 & HOSPITAL & NO DATA & NOT BORN YET & OT & OTHER & OVERSEAS & T1\\\\\n <chr> & <chr> & <dbl> & <dbl> & <dbl> & <dbl> & <dbl> & <dbl> & <dbl> & <dbl> & ⋯ & <dbl> & <dbl> & <dbl> & <dbl> & <dbl> & <dbl> & <dbl> & <dbl> & <dbl> & <dbl>\\\\\n\\hline\n\t Age 0-03 & DECEASED     &  6 &    0 & 0 & 0 & 0 & 0 &   0 & 0 & ⋯ & 0 & 0 & 0 &  0 &   0 & 0 & 0 & 0 &  0 & 0\\\\\n\t Age 0-03 & DSS          & 12 & 4485 & 0 & 0 & 0 & 0 & 147 & 0 & ⋯ & 0 & 0 & 0 &  0 & 249 & 0 & 0 & 0 & 12 & 0\\\\\n\t Age 0-03 & DSS\\_EMPLOYED &  0 &    0 & 0 & 0 & 0 & 0 &   0 & 0 & ⋯ & 0 & 0 & 0 &  0 &   0 & 0 & 0 & 0 &  0 & 0\\\\\n\t Age 0-03 & DSS\\_HOSPITAL &  9 &  402 & 0 & 0 & 0 & 0 & 201 & 0 & ⋯ & 0 & 0 & 0 & 18 &  39 & 0 & 0 & 0 &  0 & 0\\\\\n\t Age 0-03 & DSS\\_T2       &  0 &    0 & 0 & 0 & 0 & 0 &   0 & 0 & ⋯ & 0 & 0 & 0 &  0 &   0 & 0 & 0 & 0 &  0 & 0\\\\\n\t Age 0-03 & DSS-OTHER    &  0 &   24 & 0 & 0 & 0 & 0 &   0 & 0 & ⋯ & 0 & 0 & 0 &  0 &   0 & 0 & 6 & 0 &  0 & 0\\\\\n\\end{tabular}\n",
            "text/plain": [
              "  age_group from_state   DECEASED DSS  DSS_EDU DSS_EDU_T1 DSS_EMPLOYED\n",
              "1 Age 0-03  DECEASED      6          0 0       0          0           \n",
              "2 Age 0-03  DSS          12       4485 0       0          0           \n",
              "3 Age 0-03  DSS_EMPLOYED  0          0 0       0          0           \n",
              "4 Age 0-03  DSS_HOSPITAL  9        402 0       0          0           \n",
              "5 Age 0-03  DSS_T2        0          0 0       0          0           \n",
              "6 Age 0-03  DSS-OTHER     0         24 0       0          0           \n",
              "  DSS_EMPLOYED_T1 DSS_HOSPITAL DSS_T1 ⋯ EDU_EMPLOYED EMPLOYED EMPLOYED_T1\n",
              "1 0                 0          0      ⋯ 0            0        0          \n",
              "2 0               147          0      ⋯ 0            0        0          \n",
              "3 0                 0          0      ⋯ 0            0        0          \n",
              "4 0               201          0      ⋯ 0            0        0          \n",
              "5 0                 0          0      ⋯ 0            0        0          \n",
              "6 0                 0          0      ⋯ 0            0        0          \n",
              "  HOSPITAL NO DATA NOT BORN YET OT OTHER OVERSEAS T1\n",
              "1  0         0     0            0  0      0       0 \n",
              "2  0       249     0            0  0     12       0 \n",
              "3  0         0     0            0  0      0       0 \n",
              "4 18        39     0            0  0      0       0 \n",
              "5  0         0     0            0  0      0       0 \n",
              "6  0         0     0            6  0      0       0 "
            ]
          },
          "metadata": {}
        },
        {
          "output_type": "display_data",
          "data": {
            "text/html": [
              "<table class=\"dataframe\">\n",
              "<caption>A tibble: 6 × 22</caption>\n",
              "<thead>\n",
              "\t<tr><th scope=col>age_group</th><th scope=col>from_state</th><th scope=col>DECEASED</th><th scope=col>DSS</th><th scope=col>DSS_EDU</th><th scope=col>DSS_EDU_T1</th><th scope=col>DSS_EMPLOYED</th><th scope=col>DSS_EMPLOYED_T1</th><th scope=col>DSS_HOSPITAL</th><th scope=col>DSS_T1</th><th scope=col>⋯</th><th scope=col>EDU</th><th scope=col>EDU_EMPLOYED</th><th scope=col>EMPLOYED</th><th scope=col>EMPLOYED_T1</th><th scope=col>HOSPITAL</th><th scope=col>NO DATA</th><th scope=col>OT</th><th scope=col>OTHER</th><th scope=col>OVERSEAS</th><th scope=col>T1</th></tr>\n",
              "\t<tr><th scope=col>&lt;chr&gt;</th><th scope=col>&lt;chr&gt;</th><th scope=col>&lt;dbl&gt;</th><th scope=col>&lt;dbl&gt;</th><th scope=col>&lt;dbl&gt;</th><th scope=col>&lt;dbl&gt;</th><th scope=col>&lt;dbl&gt;</th><th scope=col>&lt;dbl&gt;</th><th scope=col>&lt;dbl&gt;</th><th scope=col>&lt;dbl&gt;</th><th scope=col>⋯</th><th scope=col>&lt;dbl&gt;</th><th scope=col>&lt;dbl&gt;</th><th scope=col>&lt;dbl&gt;</th><th scope=col>&lt;dbl&gt;</th><th scope=col>&lt;dbl&gt;</th><th scope=col>&lt;dbl&gt;</th><th scope=col>&lt;dbl&gt;</th><th scope=col>&lt;dbl&gt;</th><th scope=col>&lt;dbl&gt;</th><th scope=col>&lt;dbl&gt;</th></tr>\n",
              "</thead>\n",
              "<tbody>\n",
              "\t<tr><td>Age 0-03</td><td>DECEASED    </td><td>0</td><td>  0</td><td>0</td><td>0</td><td>0</td><td>0</td><td> 0</td><td>0</td><td>⋯</td><td>0</td><td>0</td><td>0</td><td>0</td><td>0</td><td> 0</td><td>0</td><td>0</td><td>0</td><td>0</td></tr>\n",
              "\t<tr><td>Age 0-03</td><td>DSS         </td><td>0</td><td>633</td><td>0</td><td>0</td><td>0</td><td>0</td><td> 6</td><td>0</td><td>⋯</td><td>0</td><td>0</td><td>0</td><td>0</td><td>0</td><td>51</td><td>0</td><td>0</td><td>0</td><td>0</td></tr>\n",
              "\t<tr><td>Age 0-03</td><td>DSS_EMPLOYED</td><td>0</td><td>  0</td><td>0</td><td>0</td><td>0</td><td>0</td><td> 0</td><td>0</td><td>⋯</td><td>0</td><td>0</td><td>0</td><td>0</td><td>0</td><td> 0</td><td>0</td><td>0</td><td>0</td><td>0</td></tr>\n",
              "\t<tr><td>Age 0-03</td><td>DSS_HOSPITAL</td><td>0</td><td> 45</td><td>0</td><td>0</td><td>0</td><td>0</td><td>12</td><td>0</td><td>⋯</td><td>0</td><td>0</td><td>0</td><td>0</td><td>0</td><td> 0</td><td>0</td><td>0</td><td>0</td><td>0</td></tr>\n",
              "\t<tr><td>Age 0-03</td><td>DSS-OTHER   </td><td>0</td><td>  0</td><td>0</td><td>0</td><td>0</td><td>0</td><td> 0</td><td>0</td><td>⋯</td><td>0</td><td>0</td><td>0</td><td>0</td><td>0</td><td> 0</td><td>0</td><td>0</td><td>0</td><td>0</td></tr>\n",
              "\t<tr><td>Age 0-03</td><td>EMPLOYED    </td><td>0</td><td>  0</td><td>0</td><td>0</td><td>0</td><td>0</td><td> 0</td><td>0</td><td>⋯</td><td>0</td><td>0</td><td>0</td><td>0</td><td>0</td><td> 0</td><td>0</td><td>0</td><td>0</td><td>0</td></tr>\n",
              "</tbody>\n",
              "</table>\n"
            ],
            "text/markdown": "\nA tibble: 6 × 22\n\n| age_group &lt;chr&gt; | from_state &lt;chr&gt; | DECEASED &lt;dbl&gt; | DSS &lt;dbl&gt; | DSS_EDU &lt;dbl&gt; | DSS_EDU_T1 &lt;dbl&gt; | DSS_EMPLOYED &lt;dbl&gt; | DSS_EMPLOYED_T1 &lt;dbl&gt; | DSS_HOSPITAL &lt;dbl&gt; | DSS_T1 &lt;dbl&gt; | ⋯ ⋯ | EDU &lt;dbl&gt; | EDU_EMPLOYED &lt;dbl&gt; | EMPLOYED &lt;dbl&gt; | EMPLOYED_T1 &lt;dbl&gt; | HOSPITAL &lt;dbl&gt; | NO DATA &lt;dbl&gt; | OT &lt;dbl&gt; | OTHER &lt;dbl&gt; | OVERSEAS &lt;dbl&gt; | T1 &lt;dbl&gt; |\n|---|---|---|---|---|---|---|---|---|---|---|---|---|---|---|---|---|---|---|---|---|\n| Age 0-03 | DECEASED     | 0 |   0 | 0 | 0 | 0 | 0 |  0 | 0 | ⋯ | 0 | 0 | 0 | 0 | 0 |  0 | 0 | 0 | 0 | 0 |\n| Age 0-03 | DSS          | 0 | 633 | 0 | 0 | 0 | 0 |  6 | 0 | ⋯ | 0 | 0 | 0 | 0 | 0 | 51 | 0 | 0 | 0 | 0 |\n| Age 0-03 | DSS_EMPLOYED | 0 |   0 | 0 | 0 | 0 | 0 |  0 | 0 | ⋯ | 0 | 0 | 0 | 0 | 0 |  0 | 0 | 0 | 0 | 0 |\n| Age 0-03 | DSS_HOSPITAL | 0 |  45 | 0 | 0 | 0 | 0 | 12 | 0 | ⋯ | 0 | 0 | 0 | 0 | 0 |  0 | 0 | 0 | 0 | 0 |\n| Age 0-03 | DSS-OTHER    | 0 |   0 | 0 | 0 | 0 | 0 |  0 | 0 | ⋯ | 0 | 0 | 0 | 0 | 0 |  0 | 0 | 0 | 0 | 0 |\n| Age 0-03 | EMPLOYED     | 0 |   0 | 0 | 0 | 0 | 0 |  0 | 0 | ⋯ | 0 | 0 | 0 | 0 | 0 |  0 | 0 | 0 | 0 | 0 |\n\n",
            "text/latex": "A tibble: 6 × 22\n\\begin{tabular}{lllllllllllllllllllll}\n age\\_group & from\\_state & DECEASED & DSS & DSS\\_EDU & DSS\\_EDU\\_T1 & DSS\\_EMPLOYED & DSS\\_EMPLOYED\\_T1 & DSS\\_HOSPITAL & DSS\\_T1 & ⋯ & EDU & EDU\\_EMPLOYED & EMPLOYED & EMPLOYED\\_T1 & HOSPITAL & NO DATA & OT & OTHER & OVERSEAS & T1\\\\\n <chr> & <chr> & <dbl> & <dbl> & <dbl> & <dbl> & <dbl> & <dbl> & <dbl> & <dbl> & ⋯ & <dbl> & <dbl> & <dbl> & <dbl> & <dbl> & <dbl> & <dbl> & <dbl> & <dbl> & <dbl>\\\\\n\\hline\n\t Age 0-03 & DECEASED     & 0 &   0 & 0 & 0 & 0 & 0 &  0 & 0 & ⋯ & 0 & 0 & 0 & 0 & 0 &  0 & 0 & 0 & 0 & 0\\\\\n\t Age 0-03 & DSS          & 0 & 633 & 0 & 0 & 0 & 0 &  6 & 0 & ⋯ & 0 & 0 & 0 & 0 & 0 & 51 & 0 & 0 & 0 & 0\\\\\n\t Age 0-03 & DSS\\_EMPLOYED & 0 &   0 & 0 & 0 & 0 & 0 &  0 & 0 & ⋯ & 0 & 0 & 0 & 0 & 0 &  0 & 0 & 0 & 0 & 0\\\\\n\t Age 0-03 & DSS\\_HOSPITAL & 0 &  45 & 0 & 0 & 0 & 0 & 12 & 0 & ⋯ & 0 & 0 & 0 & 0 & 0 &  0 & 0 & 0 & 0 & 0\\\\\n\t Age 0-03 & DSS-OTHER    & 0 &   0 & 0 & 0 & 0 & 0 &  0 & 0 & ⋯ & 0 & 0 & 0 & 0 & 0 &  0 & 0 & 0 & 0 & 0\\\\\n\t Age 0-03 & EMPLOYED     & 0 &   0 & 0 & 0 & 0 & 0 &  0 & 0 & ⋯ & 0 & 0 & 0 & 0 & 0 &  0 & 0 & 0 & 0 & 0\\\\\n\\end{tabular}\n",
            "text/plain": [
              "  age_group from_state   DECEASED DSS DSS_EDU DSS_EDU_T1 DSS_EMPLOYED\n",
              "1 Age 0-03  DECEASED     0          0 0       0          0           \n",
              "2 Age 0-03  DSS          0        633 0       0          0           \n",
              "3 Age 0-03  DSS_EMPLOYED 0          0 0       0          0           \n",
              "4 Age 0-03  DSS_HOSPITAL 0         45 0       0          0           \n",
              "5 Age 0-03  DSS-OTHER    0          0 0       0          0           \n",
              "6 Age 0-03  EMPLOYED     0          0 0       0          0           \n",
              "  DSS_EMPLOYED_T1 DSS_HOSPITAL DSS_T1 ⋯ EDU EDU_EMPLOYED EMPLOYED EMPLOYED_T1\n",
              "1 0                0           0      ⋯ 0   0            0        0          \n",
              "2 0                6           0      ⋯ 0   0            0        0          \n",
              "3 0                0           0      ⋯ 0   0            0        0          \n",
              "4 0               12           0      ⋯ 0   0            0        0          \n",
              "5 0                0           0      ⋯ 0   0            0        0          \n",
              "6 0                0           0      ⋯ 0   0            0        0          \n",
              "  HOSPITAL NO DATA OT OTHER OVERSEAS T1\n",
              "1 0         0      0  0     0        0 \n",
              "2 0        51      0  0     0        0 \n",
              "3 0         0      0  0     0        0 \n",
              "4 0         0      0  0     0        0 \n",
              "5 0         0      0  0     0        0 \n",
              "6 0         0      0  0     0        0 "
            ]
          },
          "metadata": {}
        },
        {
          "output_type": "display_data",
          "data": {
            "text/html": [
              "<table class=\"dataframe\">\n",
              "<caption>A tibble: 6 × 3</caption>\n",
              "<thead>\n",
              "\t<tr><th scope=col>age_group</th><th scope=col>refyr</th><th scope=col>total_pop</th></tr>\n",
              "\t<tr><th scope=col>&lt;chr&gt;</th><th scope=col>&lt;dbl&gt;</th><th scope=col>&lt;dbl&gt;</th></tr>\n",
              "</thead>\n",
              "<tbody>\n",
              "\t<tr><td>Age 11-18</td><td>2021</td><td>12255</td></tr>\n",
              "\t<tr><td>Age 03-10</td><td>2020</td><td>10122</td></tr>\n",
              "\t<tr><td>Age 03-10</td><td>2014</td><td>10893</td></tr>\n",
              "\t<tr><td>Age 66+  </td><td>2015</td><td> 3477</td></tr>\n",
              "\t<tr><td>Age 0-03 </td><td>2020</td><td> 1722</td></tr>\n",
              "\t<tr><td>Age 19-25</td><td>2013</td><td> 4848</td></tr>\n",
              "</tbody>\n",
              "</table>\n"
            ],
            "text/markdown": "\nA tibble: 6 × 3\n\n| age_group &lt;chr&gt; | refyr &lt;dbl&gt; | total_pop &lt;dbl&gt; |\n|---|---|---|\n| Age 11-18 | 2021 | 12255 |\n| Age 03-10 | 2020 | 10122 |\n| Age 03-10 | 2014 | 10893 |\n| Age 66+   | 2015 |  3477 |\n| Age 0-03  | 2020 |  1722 |\n| Age 19-25 | 2013 |  4848 |\n\n",
            "text/latex": "A tibble: 6 × 3\n\\begin{tabular}{lll}\n age\\_group & refyr & total\\_pop\\\\\n <chr> & <dbl> & <dbl>\\\\\n\\hline\n\t Age 11-18 & 2021 & 12255\\\\\n\t Age 03-10 & 2020 & 10122\\\\\n\t Age 03-10 & 2014 & 10893\\\\\n\t Age 66+   & 2015 &  3477\\\\\n\t Age 0-03  & 2020 &  1722\\\\\n\t Age 19-25 & 2013 &  4848\\\\\n\\end{tabular}\n",
            "text/plain": [
              "  age_group refyr total_pop\n",
              "1 Age 11-18 2021  12255    \n",
              "2 Age 03-10 2020  10122    \n",
              "3 Age 03-10 2014  10893    \n",
              "4 Age 66+   2015   3477    \n",
              "5 Age 0-03  2020   1722    \n",
              "6 Age 19-25 2013   4848    "
            ]
          },
          "metadata": {}
        },
        {
          "output_type": "display_data",
          "data": {
            "text/html": [
              "<table class=\"dataframe\">\n",
              "<caption>A tibble: 6 × 4</caption>\n",
              "<thead>\n",
              "\t<tr><th scope=col>age_group</th><th scope=col>refyr</th><th scope=col>state</th><th scope=col>new_entrants</th></tr>\n",
              "\t<tr><th scope=col>&lt;chr&gt;</th><th scope=col>&lt;dbl&gt;</th><th scope=col>&lt;chr&gt;</th><th scope=col>&lt;dbl&gt;</th></tr>\n",
              "</thead>\n",
              "<tbody>\n",
              "\t<tr><td>Age 26-35</td><td>2018</td><td>DSS_HOSPITAL   </td><td> 0</td></tr>\n",
              "\t<tr><td>Age 36-45</td><td>2020</td><td>DSS_EMPLOYED   </td><td>27</td></tr>\n",
              "\t<tr><td>Age 0-03 </td><td>2012</td><td>DSS-OTHER      </td><td> 0</td></tr>\n",
              "\t<tr><td>Age 46-65</td><td>2019</td><td>DSS_HOSPITAL   </td><td>57</td></tr>\n",
              "\t<tr><td>Age 26-35</td><td>2011</td><td>DSS_EMPLOYED_T1</td><td> 9</td></tr>\n",
              "\t<tr><td>Age 11-18</td><td>2014</td><td>DSS_HOSPITAL   </td><td> 6</td></tr>\n",
              "</tbody>\n",
              "</table>\n"
            ],
            "text/markdown": "\nA tibble: 6 × 4\n\n| age_group &lt;chr&gt; | refyr &lt;dbl&gt; | state &lt;chr&gt; | new_entrants &lt;dbl&gt; |\n|---|---|---|---|\n| Age 26-35 | 2018 | DSS_HOSPITAL    |  0 |\n| Age 36-45 | 2020 | DSS_EMPLOYED    | 27 |\n| Age 0-03  | 2012 | DSS-OTHER       |  0 |\n| Age 46-65 | 2019 | DSS_HOSPITAL    | 57 |\n| Age 26-35 | 2011 | DSS_EMPLOYED_T1 |  9 |\n| Age 11-18 | 2014 | DSS_HOSPITAL    |  6 |\n\n",
            "text/latex": "A tibble: 6 × 4\n\\begin{tabular}{llll}\n age\\_group & refyr & state & new\\_entrants\\\\\n <chr> & <dbl> & <chr> & <dbl>\\\\\n\\hline\n\t Age 26-35 & 2018 & DSS\\_HOSPITAL    &  0\\\\\n\t Age 36-45 & 2020 & DSS\\_EMPLOYED    & 27\\\\\n\t Age 0-03  & 2012 & DSS-OTHER       &  0\\\\\n\t Age 46-65 & 2019 & DSS\\_HOSPITAL    & 57\\\\\n\t Age 26-35 & 2011 & DSS\\_EMPLOYED\\_T1 &  9\\\\\n\t Age 11-18 & 2014 & DSS\\_HOSPITAL    &  6\\\\\n\\end{tabular}\n",
            "text/plain": [
              "  age_group refyr state           new_entrants\n",
              "1 Age 26-35 2018  DSS_HOSPITAL     0          \n",
              "2 Age 36-45 2020  DSS_EMPLOYED    27          \n",
              "3 Age 0-03  2012  DSS-OTHER        0          \n",
              "4 Age 46-65 2019  DSS_HOSPITAL    57          \n",
              "5 Age 26-35 2011  DSS_EMPLOYED_T1  9          \n",
              "6 Age 11-18 2014  DSS_HOSPITAL     6          "
            ]
          },
          "metadata": {}
        }
      ]
    },
    {
      "cell_type": "markdown",
      "source": [
        "## Step 2: Calculate Historical Transition Probabilities\n"
      ],
      "metadata": {
        "id": "7jDH8uJ7sybs"
      }
    },
    {
      "cell_type": "markdown",
      "source": [
        "1. Compute Transition Counts and Probabilities:"
      ],
      "metadata": {
        "id": "9AtABXRVwXrZ"
      }
    },
    {
      "cell_type": "code",
      "source": [
        "# Transform the transition counts data to a long format\n",
        "transition_counts_long <- transition_counts %>%\n",
        "  pivot_longer(cols = -c(age_group, from_state), names_to = \"to_state\", values_to = \"count\") %>%\n",
        "  filter(!is.na(count))\n",
        "\n",
        "transition_counts_2021_long <- transition_counts_2021 %>%\n",
        "  pivot_longer(cols = -c(age_group, from_state), names_to = \"to_state\", values_to = \"count\") %>%\n",
        "  filter(!is.na(count))\n",
        "\n",
        "# Compute transition probabilities\n",
        "transition_probabilities <- transition_counts_long %>%\n",
        "  group_by(age_group, from_state) %>%\n",
        "  summarise(total_count = sum(count), .groups = 'drop') %>%\n",
        "  left_join(transition_counts_long, by = c(\"age_group\", \"from_state\")) %>%\n",
        "  mutate(probability = count / total_count) %>%\n",
        "  select(age_group, from_state, to_state, probability)\n",
        "\n",
        "\n"
      ],
      "metadata": {
        "id": "n--a9T6gwYwp"
      },
      "execution_count": 77,
      "outputs": []
    },
    {
      "cell_type": "code",
      "source": [
        "print(transition_probabilities)"
      ],
      "metadata": {
        "colab": {
          "base_uri": "https://localhost:8080/"
        },
        "id": "LG152PJz_r_I",
        "outputId": "0aed2ce6-9ca2-47c9-db17-cb14ae3a16ba"
      },
      "execution_count": 78,
      "outputs": [
        {
          "output_type": "stream",
          "name": "stdout",
          "text": [
            "\u001b[90m# A tibble: 2,919 × 4\u001b[39m\n",
            "   age_group from_state to_state        probability\n",
            "   \u001b[3m\u001b[90m<chr>\u001b[39m\u001b[23m     \u001b[3m\u001b[90m<chr>\u001b[39m\u001b[23m      \u001b[3m\u001b[90m<chr>\u001b[39m\u001b[23m                 \u001b[3m\u001b[90m<dbl>\u001b[39m\u001b[23m\n",
            "\u001b[90m 1\u001b[39m Age 0-03  DECEASED   DECEASED                  1\n",
            "\u001b[90m 2\u001b[39m Age 0-03  DECEASED   DSS                       0\n",
            "\u001b[90m 3\u001b[39m Age 0-03  DECEASED   DSS_EDU                   0\n",
            "\u001b[90m 4\u001b[39m Age 0-03  DECEASED   DSS_EDU_T1                0\n",
            "\u001b[90m 5\u001b[39m Age 0-03  DECEASED   DSS_EMPLOYED              0\n",
            "\u001b[90m 6\u001b[39m Age 0-03  DECEASED   DSS_EMPLOYED_T1           0\n",
            "\u001b[90m 7\u001b[39m Age 0-03  DECEASED   DSS_HOSPITAL              0\n",
            "\u001b[90m 8\u001b[39m Age 0-03  DECEASED   DSS_T1                    0\n",
            "\u001b[90m 9\u001b[39m Age 0-03  DECEASED   DSS_T2                    0\n",
            "\u001b[90m10\u001b[39m Age 0-03  DECEASED   DSS-OTHER                 0\n",
            "\u001b[90m# ℹ 2,909 more rows\u001b[39m\n"
          ]
        }
      ]
    },
    {
      "cell_type": "markdown",
      "source": [
        "## Step 3: Estimate New Entrants\n",
        "\n",
        "1. Estimate the Total Population by Age Group:"
      ],
      "metadata": {
        "id": "bQUp0z5u36Nx"
      }
    },
    {
      "cell_type": "code",
      "source": [
        "# Assuming dss_pop_by_age contains the total population by age group for each year\n",
        "dss_pop_by_age_summary <- dss_pop_by_age %>%\n",
        "  group_by(age_group) %>%\n",
        "  summarise(total_pop = sum(total_pop), .groups = 'drop')\n",
        "\n"
      ],
      "metadata": {
        "id": "opUFeHIA4Abv"
      },
      "execution_count": 79,
      "outputs": []
    },
    {
      "cell_type": "markdown",
      "source": [
        "2. Assume a Percentage for New Entrants:"
      ],
      "metadata": {
        "id": "bHjvDLCm4BuP"
      }
    },
    {
      "cell_type": "code",
      "source": [
        "# Assuming new_entrants contains the number of new entrants by age group for each year\n",
        "new_entrants_summary <- new_entrants %>%\n",
        "  group_by(age_group) %>%\n",
        "  summarise(total_new_entrants = sum(new_entrants), .groups = 'drop')\n",
        "\n",
        "# Calculate the percentage of new entrants\n",
        "new_entrants_percentage <- new_entrants_summary %>%\n",
        "  left_join(dss_pop_by_age_summary, by = \"age_group\") %>%\n",
        "  mutate(percentage_new_entrants = total_new_entrants / total_pop)\n"
      ],
      "metadata": {
        "id": "bS7dr9dC4Do9"
      },
      "execution_count": 80,
      "outputs": []
    },
    {
      "cell_type": "markdown",
      "source": [
        "3. Distribute New Entrants by State:"
      ],
      "metadata": {
        "id": "vRtN8eDg4Gij"
      }
    },
    {
      "cell_type": "code",
      "source": [
        "# Assuming the initial distribution of new entrants across states can be estimated from historical data\n",
        "initial_state_distribution <- transition_counts_long %>%\n",
        "  filter(from_state == \"DSS\") %>%\n",
        "  group_by(age_group, to_state) %>%\n",
        "  summarise(count = sum(count), .groups = 'drop') %>%\n",
        "  mutate(probability = count / sum(count))\n",
        "\n",
        "# Apply this distribution to estimate the number of new entrants by state\n",
        "new_entrants_by_state <- new_entrants_summary %>%\n",
        "  left_join(initial_state_distribution, by = \"age_group\") %>%\n",
        "  mutate(new_entrants_by_state = total_new_entrants * probability) %>%\n",
        "  select(age_group, to_state, new_entrants_by_state)\n",
        "\n"
      ],
      "metadata": {
        "id": "Qbn-_5Z04G5E"
      },
      "execution_count": 81,
      "outputs": []
    },
    {
      "cell_type": "markdown",
      "source": [
        "## Step 4: Model Initialization for Future Projection\n",
        "1. Set Initial Population for Simulation\n",
        "\n",
        "Use the population data from the last available year before 2021 (e.g., 2020) as your initial cohort."
      ],
      "metadata": {
        "id": "T56pR4ms4Kb9"
      }
    },
    {
      "cell_type": "code",
      "source": [
        "initial_population_2020 <- dss_pop_by_age %>%\n",
        "  filter(refyr == 2020) %>%\n",
        "  select(age_group, total_pop)\n"
      ],
      "metadata": {
        "id": "eji585IR4M_y"
      },
      "execution_count": 82,
      "outputs": []
    },
    {
      "cell_type": "markdown",
      "source": [
        "2. Adjust for New Entrants:"
      ],
      "metadata": {
        "id": "DKpT2SrU4Q71"
      }
    },
    {
      "cell_type": "code",
      "source": [
        "# Calculate new entrants for 2023\n",
        "new_entrants_2023 <- new_entrants_percentage %>%\n",
        "  left_join(total_population_by_age, by = \"age_group\") %>%\n",
        "  mutate(NewEntrants = round(TotalPopulation * NewEntrantsPercentage / 100, na.rm = TRUE))\n",
        "\n",
        "# Distribute new entrants by state\n",
        "new_entrants_distribution <- new_entrants_2023 %>%\n",
        "  left_join(new_entrants_by_state, by = c(\"age_group\")) %>%\n",
        "  mutate(NewEntrantsByState = round(NewEntrants * Proportion, na.rm = TRUE))\n"
      ],
      "metadata": {
        "id": "-qSQf8bD4UMW"
      },
      "execution_count": null,
      "outputs": []
    },
    {
      "cell_type": "markdown",
      "source": [
        "## Step 5: Simulate Future States\n",
        "1. Apply Transition Probabilities:"
      ],
      "metadata": {
        "id": "sCokg9uN4Xdv"
      }
    },
    {
      "cell_type": "code",
      "source": [
        "# Apply transition probabilities to simulate future states\n",
        "future_states <- initial_population %>%\n",
        "  rename(from_state = state, InitialCount = total_pop) %>%\n",
        "  left_join(transition_probabilities, by = \"age_group\") %>%\n",
        "  mutate(FutureCount = InitialCount * TransitionProbability) %>%\n",
        "  group_by(age_group, to_state) %>%\n",
        "  summarize(FutureCount = sum(FutureCount))\n"
      ],
      "metadata": {
        "id": "SLDW9h7F4ZQg"
      },
      "execution_count": null,
      "outputs": []
    },
    {
      "cell_type": "markdown",
      "source": [
        "2. Iterate Annually:"
      ],
      "metadata": {
        "id": "eWtH876T4bX3"
      }
    },
    {
      "cell_type": "code",
      "source": [
        "# For each year, apply the transition probabilities and adjust the cohort by adding new entrants\n",
        "future_states_2024 <- future_states %>%\n",
        "  rename(from_state = to_state, InitialCount = FutureCount) %>%\n",
        "  left_join(transition_probabilities, by = \"age_group\") %>%\n",
        "  mutate(FutureCount = InitialCount * TransitionProbability) %>%\n",
        "  group_by(age_group, to_state) %>%\n",
        "  summarize(FutureCount = sum(FutureCount))\n",
        "\n",
        "# Add new entrants to the future states\n",
        "final_population_2024 <- future_states_2024 %>%\n",
        "  left_join(new_entrants_distribution, by = c(\"age_group\", \"to_state\" = \"state\")) %>%\n",
        "  mutate(FinalCount = FutureCount + coalesce(NewEntrantsByState, 0)) %>%\n",
        "  select(age_group, state = to_state, Count = FinalCount)\n"
      ],
      "metadata": {
        "id": "kGMn6_nk4csx"
      },
      "execution_count": null,
      "outputs": []
    },
    {
      "cell_type": "code",
      "source": [],
      "metadata": {
        "id": "fTyutSss4c7n"
      },
      "execution_count": null,
      "outputs": []
    }
  ]
}